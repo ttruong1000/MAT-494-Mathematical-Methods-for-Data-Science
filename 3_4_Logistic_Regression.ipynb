{
  "nbformat": 4,
  "nbformat_minor": 0,
  "metadata": {
    "colab": {
      "provenance": [],
      "authorship_tag": "ABX9TyM8BfN+LBDkrVkywIrFwnD6",
      "include_colab_link": true
    },
    "kernelspec": {
      "name": "python3",
      "display_name": "Python 3"
    },
    "language_info": {
      "name": "python"
    }
  },
  "cells": [
    {
      "cell_type": "markdown",
      "metadata": {
        "id": "view-in-github",
        "colab_type": "text"
      },
      "source": [
        "<a href=\"https://colab.research.google.com/github/ttruong1000/MAT-494-Mathematical-Methods-for-Data-Science/blob/main/3_4_Logistic_Regression.ipynb\" target=\"_parent\"><img src=\"https://colab.research.google.com/assets/colab-badge.svg\" alt=\"Open In Colab\"/></a>"
      ]
    },
    {
      "cell_type": "markdown",
      "source": [
        "# **3.4 - Logistic Regression**"
      ],
      "metadata": {
        "id": "RxraYkZeI2t_"
      }
    },
    {
      "cell_type": "markdown",
      "source": [
        "### **3.4.0 - Python Libraries for Logistic Regression**"
      ],
      "metadata": {
        "id": "bK53JkumDxN2"
      }
    },
    {
      "cell_type": "code",
      "source": [
        "import numpy as np\n",
        "import matplotlib.pyplot as plt\n",
        "from scipy.special import expit\n",
        "from sklearn import linear_model\n",
        "from sklearn import datasets"
      ],
      "metadata": {
        "id": "lEVzucXQDw-D"
      },
      "execution_count": 9,
      "outputs": []
    },
    {
      "cell_type": "markdown",
      "source": [
        "### **3.4.1 - Logistic Regression**"
      ],
      "metadata": {
        "id": "u8AYqcvBDRo4"
      }
    },
    {
      "cell_type": "markdown",
      "source": [
        "Logistic regression is a model that in its basic form uses a logistic function to model a binary dependent variable. It can be extended to several classes of events usch as the classification of images. In this section, we illustrate the use of gradient descent on the binary classifiation by logistic regression."
      ],
      "metadata": {
        "id": "tpyeu4b84qPu"
      }
    },
    {
      "cell_type": "markdown",
      "source": [
        "Given that the input data is of the form $\\{(\\alpha_i, b_i) \\ | \\ i = 1, 2, \\ldots, n\\}$, where $\\alpha_i \\in \\mathbb{R}^d$ are the features and $b_i \\in \\{0, 1\\}$ is the label. As before, we use a matrix representation: $A \\in \\mathbb{R}^{n \\times d}$ has rows $\\alpha_j^T$, $j = 1, 2, \\ldots, n$ and $\\mathbf{b} = (b_1, b_2, \\ldots, b_n) \\in \\{0, 1\\}^n$. We wish to find a function of the features that approximates the probability of the label 1. For this purpose, we model the logit function of the probability of label 1 as a linear function of the features."
      ],
      "metadata": {
        "id": "28YgL9hkaYBn"
      }
    },
    {
      "cell_type": "code",
      "source": [
        "x = np.linspace(0, 0.999, num=100)\n",
        "y = np.log(x/(1 - x))\n",
        "plt.plot(x,y)\n",
        "plt.grid()"
      ],
      "metadata": {
        "colab": {
          "base_uri": "https://localhost:8080/",
          "height": 300
        },
        "id": "u5_TL7OfD4JL",
        "outputId": "bedd125b-5929-4d54-ae93-f28002463a1b"
      },
      "execution_count": 4,
      "outputs": [
        {
          "output_type": "stream",
          "name": "stderr",
          "text": [
            "/usr/local/lib/python3.7/dist-packages/ipykernel_launcher.py:2: RuntimeWarning: divide by zero encountered in log\n",
            "  \n"
          ]
        },
        {
          "output_type": "display_data",
          "data": {
            "text/plain": [
              "<Figure size 432x288 with 1 Axes>"
            ],
            "image/png": "[encoded data removed]"
          },
          "metadata": {
            "needs_background": "light"
          }
        }
      ]
    },
    {
      "cell_type": "markdown",
      "source": [
        "For $\\mathbb{x}$, $\\alpha \\in \\mathbb{R}^d$. Let $p(\\alpha; \\mathbf{x})$ be the probability of the output to be 1. We define\n",
        "\\begin{equation*}\n",
        "  \\log\\left(\\frac{p(\\alpha; \\mathbf{x})}{1 - p(\\alpha; \\mathbf{x})}\\right) = \\alpha^T\\mathbf{x}\n",
        "\\end{equation*}\n",
        "Here, $\\alpha^T\\mathbf{x} = \\sum x_i\\alpha_i$ can be viewed as a regression problem which seeks the best parameters $\\mathbf{x}$ with the given data $\\alpha$. Rearranging this expression gives\n",
        "\\begin{equation*}\n",
        "  p(\\alpha; \\mathbf{x}) = \\sigma(\\alpha^T\\mathbf{x})\n",
        "\\end{equation*}\n",
        "where the sigmoid function is\n",
        "\\begin{equation*}\n",
        "  \\sigma(t) = \\frac{1}{1 + e^{-t}}\n",
        "\\end{equation*}\n",
        "for all $t \\in \\mathbb{R}$. "
      ],
      "metadata": {
        "id": "xIxAgHEl4vnf"
      }
    },
    {
      "cell_type": "code",
      "source": [
        "x_new = y\n",
        "y_new = expit(x_new)\n",
        " \n",
        "plt.plot(x_new,y_new)\n",
        "plt.grid()"
      ],
      "metadata": {
        "colab": {
          "base_uri": "https://localhost:8080/",
          "height": 265
        },
        "id": "gcj8koLzF8F8",
        "outputId": "9ec9fc09-61f2-4c93-d0d7-edd0bb052694"
      },
      "execution_count": 7,
      "outputs": [
        {
          "output_type": "display_data",
          "data": {
            "text/plain": [
              "<Figure size 432x288 with 1 Axes>"
            ],
            "image/png": "[encoded data removed]"
          },
          "metadata": {
            "needs_background": "light"
          }
        }
      ]
    },
    {
      "cell_type": "markdown",
      "source": [
        "To maximize the likelihood of the data, we assume the labels are independent given the features, which is given by\n",
        "\\begin{equation*}\n",
        "  \\mathcal{L}(\\mathbf{x}; A, \\mathbf{b}) = \\prod_{i = 1}^n p(\\alpha_i; \\mathbf{x})^{b_i}(1 - p(\\alpha_i; \\mathbf{x}))^{1 - b_i}\n",
        "\\end{equation*}\n",
        "Taking the logarithm on both sides, multiplying each side by $-\\frac{1}{n}$, and substituting the sigmoid function, we want to minimize the cross-entropy loss\n",
        "\\begin{equation*}\n",
        "  \\ell(\\mathbf{x}; A, \\mathbf{b}) = -\\frac{1}{n}\\sum_{i = 1}^n b_i\\log(\\sigma(\\alpha_i; \\mathbf{x})) - \\frac{1}{n}\\sum_{i = 1}^n (1 - b_i)\\log(1 - \\sigma(\\alpha_i; \\mathbf{x}))\n",
        "\\end{equation*}\n",
        "That is, we solve for\n",
        "\\begin{equation*}\n",
        "  \\min_{\\mathbf{x} \\in \\mathbb{R}^d} \\ell(\\mathbf{x}; A, \\mathbf{b})\n",
        "\\end{equation*}\n",
        "To use the gradient descent, we need to compute the gradient of $\\ell$. We use the chain rule and first compute the derivative of $\\sigma$, which is\n",
        "\\begin{equation*}\n",
        "  \\sigma'(t) = \\frac{e^{-t}}{(1 + e^{-t})^2} = \\frac{1}{1 + e^{-t}}\\left(1 - \\frac{1}{1 + e^{-t}}\\right) = \\sigma(t)(1 - \\sigma(t))\n",
        "\\end{equation*}\n",
        "It follows that $\\sigma(t)$ satisfies the logistic differential equation. It arises in a variety of applications, including the modeling of population dynamics. Here, it will be a conveinent way to compute the gradient. Indeed, observe that, by the Chain Rule,\n",
        "\\begin{equation*}\n",
        "  \\nabla_{\\mathbf{x}}\\sigma(\\alpha^T\\mathbf{x}) = \\sigma(\\alpha^T\\mathbf{x})(1 - \\sigma(\\alpha^T\\mathbf{x}))\\alpha\n",
        "\\end{equation*}\n",
        "where the gradeint $\\nabla_{\\mathbf{x}}$ is with respect to $\\mathbf{x}$. With the same approach on the cross-entropy loss, we have\n",
        "\\begin{align*}\n",
        "  \\nabla_{\\mathbf{x}}\\ell(\\mathbf{x}; A, \\mathbf{b}) &= -\\frac{1}{n}\\sum_{i = 1}^n \\frac{b_i}{\\sigma(\\alpha_i^T\\mathbf{x})}\\nabla_{\\mathbf{x}}\\sigma(\\alpha^T\\mathbf{x}) + \\frac{1}{n}\\sum_{i = 1}^n \\frac{1 - b_i}{1 - \\sigma(\\alpha_i^T\\mathbf{x})}\\nabla_{\\mathbf{x}}\\sigma(\\alpha^T\\mathbf{x}) \\\\\n",
        "  &= -\\frac{1}{n}\\sum_{i = 1}^n\\left(\\frac{b_i}{\\sigma(\\alpha_i^T\\mathbf{x})} - \\frac{1 - b_i}{1 - \\sigma(\\alpha_i^T\\mathbf{x})}\\right)\\sigma(\\alpha_i^T\\mathbf{x})(1 - \\sigma(\\alpha_i^T\\mathbf{x}))\\alpha_i \\\\\n",
        "  &= -\\frac{1}{n}\\sum_{i = 1}^n(b_i - \\sigma(\\alpha_i^T\\mathbf{x}))\\alpha_i\n",
        "\\end{align*}\n",
        "To compute the Hessian, we note that\n",
        "\\begin{equation*}\n",
        "  \\nabla_{\\mathbf{x}}(\\sigma(\\alpha^T\\mathbf{x})\\alpha_j) = \\sigma(\\alpha^T\\mathbf{x})(1 - \\sigma(\\alpha^T\\mathbf{x}))\\alpha\\alpha_j\n",
        "\\end{equation*}\n",
        "so that\n",
        "\\begin{equation*}\n",
        "  \\nabla_{\\mathbf{x}}(\\sigma(\\alpha^T\\mathbf{x})\\alpha) = \\sigma(\\alpha^T\\mathbf{x})(1 - \\sigma(\\alpha^T\\mathbf{x}))\\alpha\\alpha^T\n",
        "\\end{equation*}\n",
        "Thus,\n",
        "\\begin{equation*}\n",
        "  \\nabla_{\\mathbf{x}}^2\\ell(\\mathbf{x}; A, \\mathbf{b}) = \\frac{1}{n}\\sum_{i = 1}^n \\sigma(\\alpha_i^T\\mathbf{x})(1 - \\sigma(\\alpha_i^T\\mathbf{x}))\\alpha_i\\alpha_i^T\n",
        "\\end{equation*}\n",
        "where $\\nabla_{\\mathbf{x}}^2$ is the Hessian with respect to $\\mathbf{x}$. Each $\\alpha_i\\alpha_i^T$ is a symmetric matrix and PSD. As a result, the function $\\ell(\\mathbf{x}; A, \\mathbf{b})$ is convex as a function of $\\mathbf{x} \\in \\mathbb{R}^d$. We want to comment that convexity is one reason for working with the cross-entropy loss rather than the mean-squared error."
      ],
      "metadata": {
        "id": "XXXVMKxNF8n4"
      }
    },
    {
      "cell_type": "markdown",
      "source": [
        "To update the iteration formula, for step size $\\beta$, one step of gradient descent is\n",
        "\\begin{equation*}\n",
        "  \\mathbf{x}^{k + 1} = \\mathbf{x}^k + \\beta\\left(\\frac{1}{n}\\sum_{i = 1}^n (b_i - \\sigma(\\alpha_i^T\\mathbf{x}^k))\\alpha_i\\right)\n",
        "\\end{equation*}\n",
        "In stochastic gradient descent, a variant of gradient descent, we pick a sample $I$ uniformly at random in $\\{1, 2, \\ldots, n\\}$ and update the iteration by\n",
        "\\begin{equation*}\n",
        "  \\mathbf{x}^{k + 1} = \\mathbf{x}^k + \\beta(b_I - \\sigma(\\alpha_I^T\\mathbf{x}^k))\\alpha_I\n",
        "\\end{equation*}"
      ],
      "metadata": {
        "id": "Mc0A7QyYCi36"
      }
    },
    {
      "cell_type": "markdown",
      "source": [
        "### **3.4.2 - References**"
      ],
      "metadata": {
        "id": "EdLjq6vLGRlY"
      }
    },
    {
      "cell_type": "markdown",
      "source": [
        "1. MAT 494 Chapter 3 Notes\n",
        "2. https://ajaytech.co/python-logistic-regression/"
      ],
      "metadata": {
        "id": "taxQvYHYGSEd"
      }
    }
  ]
}