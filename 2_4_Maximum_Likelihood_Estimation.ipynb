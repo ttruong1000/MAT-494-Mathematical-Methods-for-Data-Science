{
  "nbformat": 4,
  "nbformat_minor": 0,
  "metadata": {
    "colab": {
      "provenance": [],
      "authorship_tag": "ABX9TyPyM/J+d1LpS8ABaHGSX/rC",
      "include_colab_link": true
    },
    "kernelspec": {
      "name": "python3",
      "display_name": "Python 3"
    },
    "language_info": {
      "name": "python"
    }
  },
  "cells": [
    {
      "cell_type": "markdown",
      "metadata": {
        "id": "view-in-github",
        "colab_type": "text"
      },
      "source": [
        "<a href=\"https://colab.research.google.com/github/ttruong1000/MAT-494-Mathematical-Methods-for-Data-Science/blob/main/2_4_Maximum_Likelihood_Estimation.ipynb\" target=\"_parent\"><img src=\"https://colab.research.google.com/assets/colab-badge.svg\" alt=\"Open In Colab\"/></a>"
      ]
    },
    {
      "cell_type": "markdown",
      "source": [
        "# **2.4 - Maximum Likelihood Estimation (MLE)**"
      ],
      "metadata": {
        "id": "1yK9d2ux8cCk"
      }
    },
    {
      "cell_type": "markdown",
      "source": [
        "### **2.4.0 - Python Libraries for Maximum Likelihood Estimation (MLE)**"
      ],
      "metadata": {
        "id": "5LpDYd0c81I8"
      }
    },
    {
      "cell_type": "code",
      "source": [
        "import numpy as np\n",
        "import pandas as pd\n",
        "from matplotlib import pyplot as plt\n",
        "import seaborn as sns\n",
        "from statsmodels import api\n",
        "from scipy import stats\n",
        "from scipy.optimize import minimize"
      ],
      "metadata": {
        "id": "GLOAkT6y8-Z5"
      },
      "execution_count": 7,
      "outputs": []
    },
    {
      "cell_type": "markdown",
      "source": [
        "### **2.4.1 - MLE for Random Samples**"
      ],
      "metadata": {
        "id": "9HOQqJEl8klr"
      }
    },
    {
      "cell_type": "markdown",
      "source": [
        "##### Definition 2.4.1.1 - Maximum Likehood Estimation"
      ],
      "metadata": {
        "id": "OuGtszO080s4"
      }
    },
    {
      "cell_type": "markdown",
      "source": [
        "Maximum Likelihood Estimation (MLE) is an effective approach of estimating the parameters of a probability distribution through maximizing a likelihood function. The point in the parameter space that maximizes the likelihood function is called the maximum likelihood estimate."
      ],
      "metadata": {
        "id": "KoLVt5ik8zhU"
      }
    },
    {
      "cell_type": "markdown",
      "source": [
        "##### Definition 2.4.1.2 - Maximum Likelihood Estimates"
      ],
      "metadata": {
        "id": "SFphPziLA_1J"
      }
    },
    {
      "cell_type": "markdown",
      "source": [
        "Let $X_1, X_2, \\ldots, X_n$ have a joint PMF (discrete) or PDF (continuous) of\n",
        "\\begin{equation*}\n",
        "  f(x_1, x_2, \\ldots, x_n; \\theta_1, \\theta_2, \\ldots, \\theta_n)\n",
        "\\end{equation*}\n",
        "where the parameters $\\theta_1, \\theta_2, \\ldots \\theta_n$ have unknown values. When $x_1, x_2, \\ldots, x_n$ are the observed sample values and $f(x_1, x_2, \\ldots, x_n; \\theta_1, \\theta_2, \\ldots, \\theta_n)$ is regarded as a function of $\\theta_1, \\theta_2, \\ldots \\theta_n$, this function is called the likelihood function. The maximum likelihood estimates (MLEs) $\\hat{\\theta_1}, \\hat{\\theta_2}, \\ldots, \\hat{\\theta_n}$ are those values of the $\\theta_i$'s that maximize the likelihood function so that\n",
        "\\begin{equation*}\n",
        "  f(x_1, x_2, \\ldots, x_n; \\hat{\\theta_1}, \\hat{\\theta_2}, \\ldots, \\hat{\\theta_n}) \\geq f(x_1, x_2, \\ldots, x_n; \\theta_1, \\theta_2, \\ldots, \\theta_n)\n",
        "\\end{equation*}\n",
        "for all $\\theta_1, \\theta_2, \\ldots, \\theta_n)$. The maximum likelihood estimators are obtained when $x_1 = X_1$, $x_2 = X_2$, $\\ldots$, $x_n = X_n$."
      ],
      "metadata": {
        "id": "tA9KPVAcBSo-"
      }
    },
    {
      "cell_type": "markdown",
      "source": [
        "##### Definition 2.4.1.3 - Maximum Likelihood Estimates in a Normal Distribution"
      ],
      "metadata": {
        "id": "sfe_P_X9EouX"
      }
    },
    {
      "cell_type": "markdown",
      "source": [
        "Let $X_1, X_2, \\ldots, X_n$ be a random sample from a normal distribution. Then, the likelihood function is\n",
        "\\begin{equation*}\n",
        "  f(x_1, x_2, \\ldots, x_n; \\mu, \\sigma^2) = \\left(\\frac{1}{\\sqrt{2\\pi}\\sigma}e^{-\\frac{(x_1 - \\mu)^2}{2\\sigma^2}}\\right)\\left(\\frac{1}{\\sqrt{2\\pi}\\sigma}e^{-\\frac{(x_2 - \\mu)^2}{2\\sigma^2}}\\right)\\cdots\\left(\\frac{1}{\\sqrt{2\\pi}\\sigma}e^{-\\frac{(x_n - \\mu)^2}{2\\sigma^2}}\\right)\n",
        "\\end{equation*}\n",
        "\\begin{equation*}\n",
        "  f(x_1, x_2, \\ldots, x_n; \\mu, \\sigma^2) = \\left(\\frac{1}{\\sqrt{2\\pi}\\sigma}\\right)^ne^{-\\displaystyle\\sum_{i = 1}^n\\frac{(x_i - \\mu)^2}{2\\sigma^2}}\n",
        "\\end{equation*}\n",
        "The resulting maximum likelihood estimates by taking the partial derivatives of this function with respect to $\\mu$ and $\\sigma^2$ is\n",
        "\\begin{equation*}\n",
        "  \\hat{\\mu} = \\overline{X} \\quad \\hat{\\sigma}^2 = \\frac{\\displaystyle\\sum_{i = 1}^n(X_i - \\overline{X})}{n}\n",
        "\\end{equation*}"
      ],
      "metadata": {
        "id": "1tp97I3EFGrA"
      }
    },
    {
      "cell_type": "markdown",
      "source": [
        "### **2.4.2 - MLE for Linear Regression**"
      ],
      "metadata": {
        "id": "R6eCFc988pr8"
      }
    },
    {
      "cell_type": "markdown",
      "source": [
        "##### Definition 2.4.2.1 - MLE for Linear Regression"
      ],
      "metadata": {
        "id": "1qnCnwH98z4j"
      }
    },
    {
      "cell_type": "markdown",
      "source": [
        "Consider $n$ points, each of which is drawn in an independent and identically distributed way from a normal distribution. For a given $\\mu$, $\\sigma^2$, the probability that those $n$ points are drawn defines the likelihood function, which is the product of the $n$ normal probability density functions (because they are independent).\n",
        "\\begin{equation*}\n",
        "  P(\\mu \\ | \\ y) = \\prod_{i = 1}^n P_Y(y_i \\ | \\ \\mu, \\sigma^2) = \\prod_{i = 1}^n \\frac{1}{\\sigma\\sqrt{2\\pi}}e^{-\\frac{(y_i - \\mu)^2}{2\\sigma^2}}\n",
        "\\end{equation*}\n",
        "Since $y$ is a random variable,\n",
        "\\begin{equation*}\n",
        "  y_i = \\hat{y}_i + \\epsilon\n",
        "\\end{equation*}\n",
        "where $\\epsilon \\sim N(0, \\sigma^2)$. Thus, $y_i$ is a normal variable with a mean as a linear function of $x$ and a fixed standard deviation of $y_i \\sim N(\\hat{y}_i, \\sigma^2)$. As a result, for each $y_i$, we choose $\\mu$ in the normal distribution as $\\mu = \\hat{y}_i$. Therefore, the maximum likelihood estimate under linear regression is\n",
        "\\begin{align*}\n",
        "  \\hat{\\beta} &= \\arg\\max P(\\beta \\ | \\ y) \\\\\n",
        "  &= \\arg\\max_\\beta \\prod_{i = 1}^n \\frac{1}{\\sigma\\sqrt{2\\pi}}e^{-\\frac{(y_i - \\hat{y}_i)^2}{2\\sigma^2}} \\\\\n",
        "  &= \\arg\\max_\\beta \\ln\\left(\\prod_{i = 1}^n \\frac{1}{\\sigma\\sqrt{2\\pi}}e^{-\\frac{(y_i - \\hat{y}_i)^2}{2\\sigma^2}}\\right) \\\\\n",
        "  &= \\arg\\max_\\beta \\sum_{i = 1}^n\\left(\\ln\\left(\\frac{1}{\\sigma\\sqrt{2\\pi}}\\right) + \\ln\\left(e^{-\\frac{(y_i - \\hat{y}_i)^2}{2\\sigma^2}}\\right)\\right) \\\\\n",
        "  &= \\arg\\max_\\beta \\sum_{i = 1}^n \\ln\\left(e^{-\\frac{(y_i - \\hat{y}_i)^2}{2\\sigma^2}}\\right) \\\\\n",
        "  &= \\arg\\max_\\beta \\sum_{i = 1}^n -\\frac{(y_i - \\hat{y}_i)^2}{2\\sigma^2} \\\\\n",
        "  &= \\arg\\min_\\beta \\sum_{i = 1}^n (y_i - \\hat{y}_i)^2\n",
        "\\end{align*}\n",
        "which is equivalent to solving the least squares problem for linear regressions."
      ],
      "metadata": {
        "id": "TwtlUKsFV4LY"
      }
    },
    {
      "cell_type": "markdown",
      "source": [
        "### **2.4.3 - Examples of MLE**"
      ],
      "metadata": {
        "id": "V5qXWhrr8twj"
      }
    },
    {
      "cell_type": "code",
      "source": [
        "# create an independent variable \n",
        "x = np.linspace(-10, 30, 100)\n",
        "\n",
        "# create a normally distributed residual\n",
        "e = np.random.normal(10, 5, 100)\n",
        "\n",
        "# generate ground truth\n",
        "y = 10 + 4*x + e\n",
        "\n",
        "df = pd.DataFrame({'x':x, 'y':y})\n",
        "df.head()"
      ],
      "metadata": {
        "colab": {
          "base_uri": "https://localhost:8080/",
          "height": 206
        },
        "id": "iy83CLJxXHpP",
        "outputId": "2a164091-e4a0-4dd6-eb18-6f33627e9ea2"
      },
      "execution_count": 8,
      "outputs": [
        {
          "output_type": "execute_result",
          "data": {
            "text/plain": [
              "           x          y\n",
              "0 -10.000000 -20.818461\n",
              "1  -9.595960 -16.913120\n",
              "2  -9.191919 -19.928005\n",
              "3  -8.787879 -16.279755\n",
              "4  -8.383838  -9.518327"
            ],
            "text/html": [
              "\n",
              "  <div id=\"df-22f4b2c4-afa9-4b0c-9f8c-def72e643707\">\n",
              "    <div class=\"colab-df-container\">\n",
              "      <div>\n",
              "<style scoped>\n",
              "    .dataframe tbody tr th:only-of-type {\n",
              "        vertical-align: middle;\n",
              "    }\n",
              "\n",
              "    .dataframe tbody tr th {\n",
              "        vertical-align: top;\n",
              "    }\n",
              "\n",
              "    .dataframe thead th {\n",
              "        text-align: right;\n",
              "    }\n",
              "</style>\n",
              "<table border=\"1\" class=\"dataframe\">\n",
              "  <thead>\n",
              "    <tr style=\"text-align: right;\">\n",
              "      <th></th>\n",
              "      <th>x</th>\n",
              "      <th>y</th>\n",
              "    </tr>\n",
              "  </thead>\n",
              "  <tbody>\n",
              "    <tr>\n",
              "      <th>0</th>\n",
              "      <td>-10.000000</td>\n",
              "      <td>-20.818461</td>\n",
              "    </tr>\n",
              "    <tr>\n",
              "      <th>1</th>\n",
              "      <td>-9.595960</td>\n",
              "      <td>-16.913120</td>\n",
              "    </tr>\n",
              "    <tr>\n",
              "      <th>2</th>\n",
              "      <td>-9.191919</td>\n",
              "      <td>-19.928005</td>\n",
              "    </tr>\n",
              "    <tr>\n",
              "      <th>3</th>\n",
              "      <td>-8.787879</td>\n",
              "      <td>-16.279755</td>\n",
              "    </tr>\n",
              "    <tr>\n",
              "      <th>4</th>\n",
              "      <td>-8.383838</td>\n",
              "      <td>-9.518327</td>\n",
              "    </tr>\n",
              "  </tbody>\n",
              "</table>\n",
              "</div>\n",
              "      <button class=\"colab-df-convert\" onclick=\"convertToInteractive('df-22f4b2c4-afa9-4b0c-9f8c-def72e643707')\"\n",
              "              title=\"Convert this dataframe to an interactive table.\"\n",
              "              style=\"display:none;\">\n",
              "        \n",
              "  <svg xmlns=\"http://www.w3.org/2000/svg\" height=\"24px\"viewBox=\"0 0 24 24\"\n",
              "       width=\"24px\">\n",
              "    <path d=\"M0 0h24v24H0V0z\" fill=\"none\"/>\n",
              "    <path d=\"M18.56 5.44l.94 2.06.94-2.06 2.06-.94-2.06-.94-.94-2.06-.94 2.06-2.06.94zm-11 1L8.5 8.5l.94-2.06 2.06-.94-2.06-.94L8.5 2.5l-.94 2.06-2.06.94zm10 10l.94 2.06.94-2.06 2.06-.94-2.06-.94-.94-2.06-.94 2.06-2.06.94z\"/><path d=\"M17.41 7.96l-1.37-1.37c-.4-.4-.92-.59-1.43-.59-.52 0-1.04.2-1.43.59L10.3 9.45l-7.72 7.72c-.78.78-.78 2.05 0 2.83L4 21.41c.39.39.9.59 1.41.59.51 0 1.02-.2 1.41-.59l7.78-7.78 2.81-2.81c.8-.78.8-2.07 0-2.86zM5.41 20L4 18.59l7.72-7.72 1.47 1.35L5.41 20z\"/>\n",
              "  </svg>\n",
              "      </button>\n",
              "      \n",
              "  <style>\n",
              "    .colab-df-container {\n",
              "      display:flex;\n",
              "      flex-wrap:wrap;\n",
              "      gap: 12px;\n",
              "    }\n",
              "\n",
              "    .colab-df-convert {\n",
              "      background-color: #E8F0FE;\n",
              "      border: none;\n",
              "      border-radius: 50%;\n",
              "      cursor: pointer;\n",
              "      display: none;\n",
              "      fill: #1967D2;\n",
              "      height: 32px;\n",
              "      padding: 0 0 0 0;\n",
              "      width: 32px;\n",
              "    }\n",
              "\n",
              "    .colab-df-convert:hover {\n",
              "      background-color: #E2EBFA;\n",
              "      box-shadow: 0px 1px 2px rgba(60, 64, 67, 0.3), 0px 1px 3px 1px rgba(60, 64, 67, 0.15);\n",
              "      fill: #174EA6;\n",
              "    }\n",
              "\n",
              "    [theme=dark] .colab-df-convert {\n",
              "      background-color: #3B4455;\n",
              "      fill: #D2E3FC;\n",
              "    }\n",
              "\n",
              "    [theme=dark] .colab-df-convert:hover {\n",
              "      background-color: #434B5C;\n",
              "      box-shadow: 0px 1px 3px 1px rgba(0, 0, 0, 0.15);\n",
              "      filter: drop-shadow(0px 1px 2px rgba(0, 0, 0, 0.3));\n",
              "      fill: #FFFFFF;\n",
              "    }\n",
              "  </style>\n",
              "\n",
              "      <script>\n",
              "        const buttonEl =\n",
              "          document.querySelector('#df-22f4b2c4-afa9-4b0c-9f8c-def72e643707 button.colab-df-convert');\n",
              "        buttonEl.style.display =\n",
              "          google.colab.kernel.accessAllowed ? 'block' : 'none';\n",
              "\n",
              "        async function convertToInteractive(key) {\n",
              "          const element = document.querySelector('#df-22f4b2c4-afa9-4b0c-9f8c-def72e643707');\n",
              "          const dataTable =\n",
              "            await google.colab.kernel.invokeFunction('convertToInteractive',\n",
              "                                                     [key], {});\n",
              "          if (!dataTable) return;\n",
              "\n",
              "          const docLinkHtml = 'Like what you see? Visit the ' +\n",
              "            '<a target=\"_blank\" href=https://colab.research.google.com/notebooks/data_table.ipynb>data table notebook</a>'\n",
              "            + ' to learn more about interactive tables.';\n",
              "          element.innerHTML = '';\n",
              "          dataTable['output_type'] = 'display_data';\n",
              "          await google.colab.output.renderOutput(dataTable, element);\n",
              "          const docLink = document.createElement('div');\n",
              "          docLink.innerHTML = docLinkHtml;\n",
              "          element.appendChild(docLink);\n",
              "        }\n",
              "      </script>\n",
              "    </div>\n",
              "  </div>\n",
              "  "
            ]
          },
          "metadata": {},
          "execution_count": 8
        }
      ]
    },
    {
      "cell_type": "code",
      "source": [
        "# visualize data distribution\n",
        "sns.regplot(x='x', y='y', data = df)\n",
        "plt.show()"
      ],
      "metadata": {
        "colab": {
          "base_uri": "https://localhost:8080/",
          "height": 279
        },
        "id": "N9Nzr8gVXJFi",
        "outputId": "f48585d5-0cfb-4ecc-c2db-165d06ea6211"
      },
      "execution_count": 5,
      "outputs": [
        {
          "output_type": "display_data",
          "data": {
            "text/plain": [
              "<Figure size 432x288 with 1 Axes>"
            ],
            "image/png": "[encoded data removed]"
          },
          "metadata": {
            "needs_background": "light"
          }
        }
      ]
    },
    {
      "cell_type": "markdown",
      "source": [
        "The OLS (ordinary least squares) method in Python for the linear regression is shown below."
      ],
      "metadata": {
        "id": "s7ILD7Lgcqgo"
      }
    },
    {
      "cell_type": "code",
      "source": [
        "features = api.add_constant(df.x)\n",
        "model = api.OLS(y, features).fit()\n",
        "model.summary()"
      ],
      "metadata": {
        "colab": {
          "base_uri": "https://localhost:8080/",
          "height": 498
        },
        "id": "YkRpOJ0BbrKd",
        "outputId": "72a127f5-1f09-47d2-fc75-3f7abe0051c3"
      },
      "execution_count": 9,
      "outputs": [
        {
          "output_type": "stream",
          "name": "stderr",
          "text": [
            "/usr/local/lib/python3.7/dist-packages/statsmodels/tsa/tsatools.py:142: FutureWarning: In a future version of pandas all arguments of concat except for the argument 'objs' will be keyword-only\n",
            "  x = pd.concat(x[::order], 1)\n"
          ]
        },
        {
          "output_type": "execute_result",
          "data": {
            "text/plain": [
              "<class 'statsmodels.iolib.summary.Summary'>\n",
              "\"\"\"\n",
              "                            OLS Regression Results                            \n",
              "==============================================================================\n",
              "Dep. Variable:                      y   R-squared:                       0.991\n",
              "Model:                            OLS   Adj. R-squared:                  0.991\n",
              "Method:                 Least Squares   F-statistic:                 1.067e+04\n",
              "Date:                Mon, 03 Oct 2022   Prob (F-statistic):          8.04e-102\n",
              "Time:                        06:01:12   Log-Likelihood:                -291.81\n",
              "No. Observations:                 100   AIC:                             587.6\n",
              "Df Residuals:                      98   BIC:                             592.8\n",
              "Df Model:                           1                                         \n",
              "Covariance Type:            nonrobust                                         \n",
              "==============================================================================\n",
              "                 coef    std err          t      P>|t|      [0.025      0.975]\n",
              "------------------------------------------------------------------------------\n",
              "const         19.8686      0.596     33.345      0.000      18.686      21.051\n",
              "x              4.0061      0.039    103.290      0.000       3.929       4.083\n",
              "==============================================================================\n",
              "Omnibus:                        4.400   Durbin-Watson:                   2.074\n",
              "Prob(Omnibus):                  0.111   Jarque-Bera (JB):                5.080\n",
              "Skew:                           0.168   Prob(JB):                       0.0789\n",
              "Kurtosis:                       4.052   Cond. No.                         20.3\n",
              "==============================================================================\n",
              "\n",
              "Notes:\n",
              "[1] Standard Errors assume that the covariance matrix of the errors is correctly specified.\n",
              "\"\"\""
            ],
            "text/html": [
              "<table class=\"simpletable\">\n",
              "<caption>OLS Regression Results</caption>\n",
              "<tr>\n",
              "  <th>Dep. Variable:</th>            <td>y</td>        <th>  R-squared:         </th> <td>   0.991</td> \n",
              "</tr>\n",
              "<tr>\n",
              "  <th>Model:</th>                   <td>OLS</td>       <th>  Adj. R-squared:    </th> <td>   0.991</td> \n",
              "</tr>\n",
              "<tr>\n",
              "  <th>Method:</th>             <td>Least Squares</td>  <th>  F-statistic:       </th> <td>1.067e+04</td>\n",
              "</tr>\n",
              "<tr>\n",
              "  <th>Date:</th>             <td>Mon, 03 Oct 2022</td> <th>  Prob (F-statistic):</th> <td>8.04e-102</td>\n",
              "</tr>\n",
              "<tr>\n",
              "  <th>Time:</th>                 <td>06:01:12</td>     <th>  Log-Likelihood:    </th> <td> -291.81</td> \n",
              "</tr>\n",
              "<tr>\n",
              "  <th>No. Observations:</th>      <td>   100</td>      <th>  AIC:               </th> <td>   587.6</td> \n",
              "</tr>\n",
              "<tr>\n",
              "  <th>Df Residuals:</th>          <td>    98</td>      <th>  BIC:               </th> <td>   592.8</td> \n",
              "</tr>\n",
              "<tr>\n",
              "  <th>Df Model:</th>              <td>     1</td>      <th>                     </th>     <td> </td>    \n",
              "</tr>\n",
              "<tr>\n",
              "  <th>Covariance Type:</th>      <td>nonrobust</td>    <th>                     </th>     <td> </td>    \n",
              "</tr>\n",
              "</table>\n",
              "<table class=\"simpletable\">\n",
              "<tr>\n",
              "    <td></td>       <th>coef</th>     <th>std err</th>      <th>t</th>      <th>P>|t|</th>  <th>[0.025</th>    <th>0.975]</th>  \n",
              "</tr>\n",
              "<tr>\n",
              "  <th>const</th> <td>   19.8686</td> <td>    0.596</td> <td>   33.345</td> <td> 0.000</td> <td>   18.686</td> <td>   21.051</td>\n",
              "</tr>\n",
              "<tr>\n",
              "  <th>x</th>     <td>    4.0061</td> <td>    0.039</td> <td>  103.290</td> <td> 0.000</td> <td>    3.929</td> <td>    4.083</td>\n",
              "</tr>\n",
              "</table>\n",
              "<table class=\"simpletable\">\n",
              "<tr>\n",
              "  <th>Omnibus:</th>       <td> 4.400</td> <th>  Durbin-Watson:     </th> <td>   2.074</td>\n",
              "</tr>\n",
              "<tr>\n",
              "  <th>Prob(Omnibus):</th> <td> 0.111</td> <th>  Jarque-Bera (JB):  </th> <td>   5.080</td>\n",
              "</tr>\n",
              "<tr>\n",
              "  <th>Skew:</th>          <td> 0.168</td> <th>  Prob(JB):          </th> <td>  0.0789</td>\n",
              "</tr>\n",
              "<tr>\n",
              "  <th>Kurtosis:</th>      <td> 4.052</td> <th>  Cond. No.          </th> <td>    20.3</td>\n",
              "</tr>\n",
              "</table><br/><br/>Notes:<br/>[1] Standard Errors assume that the covariance matrix of the errors is correctly specified."
            ]
          },
          "metadata": {},
          "execution_count": 9
        }
      ]
    },
    {
      "cell_type": "code",
      "source": [
        "# find the std dev\n",
        "res = model.resid\n",
        "standard_dev = np.std(res)\n",
        "standard_dev"
      ],
      "metadata": {
        "colab": {
          "base_uri": "https://localhost:8080/"
        },
        "id": "HtoV-hfebzgl",
        "outputId": "56b139c2-a205-4131-d89c-3a6a1b104761"
      },
      "execution_count": 10,
      "outputs": [
        {
          "output_type": "execute_result",
          "data": {
            "text/plain": [
              "4.478031531317802"
            ]
          },
          "metadata": {},
          "execution_count": 10
        }
      ]
    },
    {
      "cell_type": "markdown",
      "source": [
        "MLE in Python for the linear regression is shown below."
      ],
      "metadata": {
        "id": "NT2gNeZnclS5"
      }
    },
    {
      "cell_type": "code",
      "source": [
        "# MLE\n",
        "def MLE_Norm(parameters):\n",
        "  const, beta, std_dev = parameters\n",
        "  pred = const + beta*x\n",
        "\n",
        "  LL = np.sum(stats.norm.logpdf(y, pred, std_dev))\n",
        "  neg_LL = -1*LL\n",
        "  return neg_LL\n",
        "\n",
        "mle_model = minimize(MLE_Norm, np.array([2,2,2]), method='L-BFGS-B')\n",
        "mle_model"
      ],
      "metadata": {
        "colab": {
          "base_uri": "https://localhost:8080/"
        },
        "id": "ss-gcoZeb2Rf",
        "outputId": "81cc82d7-9bcf-4845-dedc-c2052a643910"
      },
      "execution_count": 11,
      "outputs": [
        {
          "output_type": "execute_result",
          "data": {
            "text/plain": [
              "      fun: 291.81220927406804\n",
              " hess_inv: <3x3 LbfgsInvHessProduct with dtype=float64>\n",
              "      jac: array([ 1.13686828e-05, -1.13686838e-05,  0.00000000e+00])\n",
              "  message: 'CONVERGENCE: REL_REDUCTION_OF_F_<=_FACTR*EPSMCH'\n",
              "     nfev: 132\n",
              "      nit: 27\n",
              "     njev: 33\n",
              "   status: 0\n",
              "  success: True\n",
              "        x: array([19.86861313,  4.00607407,  4.47803075])"
            ]
          },
          "metadata": {},
          "execution_count": 11
        }
      ]
    },
    {
      "cell_type": "markdown",
      "source": [
        "### **2.4.4 - References**"
      ],
      "metadata": {
        "id": "LIc8oKbO8w1h"
      }
    },
    {
      "cell_type": "markdown",
      "source": [
        "1. MAT 494 Chapter 2 Notes\n",
        "2. https://analyticsindiamag.com/maximum-likelihood-estimation-python-guide/\n",
        "3. https://github.com/RajkumarGalaxy/StructuredData/blob/master/MLE_Maximum_Likelihood_Estimation.ipynb\n",
        "4. https://towardsdatascience.com/a-gentle-introduction-to-maximum-likelihood-estimation-9fbff27ea12f"
      ],
      "metadata": {
        "id": "UgUaMCpy8y9L"
      }
    }
  ]
}