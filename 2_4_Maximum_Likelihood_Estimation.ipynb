{
  "nbformat": 4,
  "nbformat_minor": 0,
  "metadata": {
    "colab": {
      "provenance": [],
      "authorship_tag": "ABX9TyMW+N1EEQUilrHPDthlc7g4",
      "include_colab_link": true
    },
    "kernelspec": {
      "name": "python3",
      "display_name": "Python 3"
    },
    "language_info": {
      "name": "python"
    }
  },
  "cells": [
    {
      "cell_type": "markdown",
      "metadata": {
        "id": "view-in-github",
        "colab_type": "text"
      },
      "source": [
        "<a href=\"https://colab.research.google.com/github/ttruong1000/MAT-494-Mathematical-Methods-for-Data-Science/blob/main/2_4_Maximum_Likelihood_Estimation.ipynb\" target=\"_parent\"><img src=\"https://colab.research.google.com/assets/colab-badge.svg\" alt=\"Open In Colab\"/></a>"
      ]
    },
    {
      "cell_type": "markdown",
      "source": [
        "# **2.4 - Maximum Likelihood Estimation (MLE)**"
      ],
      "metadata": {
        "id": "1yK9d2ux8cCk"
      }
    },
    {
      "cell_type": "markdown",
      "source": [
        "### **2.4.0 - Python Libraries for Maximum Likelihood Estimation (MLE)**"
      ],
      "metadata": {
        "id": "5LpDYd0c81I8"
      }
    },
    {
      "cell_type": "code",
      "source": [
        "import numpy as np, pandas as pd\n",
        "from matplotlib import pyplot as plt\n",
        "import seaborn as sns\n",
        "from scipy.optimize import minimize\n",
        "import scipy.stats as stats\n",
        "import pymc3 as pm3\n",
        "import numdifftools as ndt\n",
        "import statsmodels.api as sm\n",
        "from statsmodels.base.model import GenericLikelihoodModel"
      ],
      "metadata": {
        "id": "GLOAkT6y8-Z5"
      },
      "execution_count": null,
      "outputs": []
    },
    {
      "cell_type": "markdown",
      "source": [
        "### **2.4.1 - MLE for Random Samples**"
      ],
      "metadata": {
        "id": "9HOQqJEl8klr"
      }
    },
    {
      "cell_type": "markdown",
      "source": [
        "##### Definition 2.4.1.1 - Maximum Likehood Estimation"
      ],
      "metadata": {
        "id": "OuGtszO080s4"
      }
    },
    {
      "cell_type": "markdown",
      "source": [
        "Maximum Likelihood Estimation (MLE) is an effective approach of estimating the parameters of a probability distribution through maximizing a likelihood function. The point in the parameter space that maximizes the likelihood function is called the maximum likelihood estimate."
      ],
      "metadata": {
        "id": "KoLVt5ik8zhU"
      }
    },
    {
      "cell_type": "markdown",
      "source": [
        "##### Definition 2.4.1.2 - Maximum Likelihood Estimates"
      ],
      "metadata": {
        "id": "SFphPziLA_1J"
      }
    },
    {
      "cell_type": "markdown",
      "source": [
        "Let $X_1, X_2, \\ldots, X_n$ have a joint PMF (discrete) or PDF (continuous) of\n",
        "\\begin{equation*}\n",
        "  f(x_1, x_2, \\ldots, x_n; \\theta_1, \\theta_2, \\ldots, \\theta_n)\n",
        "\\end{equation*}\n",
        "where the parameters $\\theta_1, \\theta_2, \\ldots \\theta_n$ have unknown values. When $x_1, x_2, \\ldots, x_n$ are the observed sample values and $f(x_1, x_2, \\ldots, x_n; \\theta_1, \\theta_2, \\ldots, \\theta_n)$ is regarded as a function of $\\theta_1, \\theta_2, \\ldots \\theta_n$, this function is called the likelihood function. The maximum likelihood estimates (MLEs) $\\hat{\\theta_1}, \\hat{\\theta_2}, \\ldots, \\hat{\\theta_n}$ are those values of the $\\theta_i$'s that maximize the likelihood function so that\n",
        "\\begin{equation*}\n",
        "  f(x_1, x_2, \\ldots, x_n; \\hat{\\theta_1}, \\hat{\\theta_2}, \\ldots, \\hat{\\theta_n}) \\geq f(x_1, x_2, \\ldots, x_n; \\theta_1, \\theta_2, \\ldots, \\theta_n)\n",
        "\\end{equation*}\n",
        "for all $\\theta_1, \\theta_2, \\ldots, \\theta_n)$. The maximum likelihood estimators are obtained when $x_1 = X_1$, $x_2 = X_2$, $\\ldots$, $x_n = X_n$."
      ],
      "metadata": {
        "id": "tA9KPVAcBSo-"
      }
    },
    {
      "cell_type": "markdown",
      "source": [
        "##### Definition 2.4.1.3 - Maximum Likelihood Estimates in a Normal Distribution"
      ],
      "metadata": {
        "id": "sfe_P_X9EouX"
      }
    },
    {
      "cell_type": "markdown",
      "source": [
        "Let $X_1, X_2, \\ldots, X_n$ be a random sample from a normal distribution. Then, the likelihood function is\n",
        "\\begin{equation*}\n",
        "  f(x_1, x_2, \\ldots, x_n; \\mu, \\sigma^2) = \\left(\\frac{1}{\\sqrt{2\\pi}\\sigma}e^{-\\frac{(x_1 - \\mu)^2}{2\\sigma^2}}\\right)\\left(\\frac{1}{\\sqrt{2\\pi}\\sigma}e^{-\\frac{(x_2 - \\mu)^2}{2\\sigma^2}}\\right)\\cdots\\left(\\frac{1}{\\sqrt{2\\pi}\\sigma}e^{-\\frac{(x_n - \\mu)^2}{2\\sigma^2}}\\right)\n",
        "\\end{equation*}\n",
        "\\begin{equation*}\n",
        "  f(x_1, x_2, \\ldots, x_n; \\mu, \\sigma^2) = \\left(\\frac{1}{\\sqrt{2\\pi}\\sigma}\\right)^ne^{-\\displaystyle\\sum_{i = 1}^n\\frac{(x_i - \\mu)^2}{2\\sigma^2}}\n",
        "\\end{equation*}\n",
        "The resulting maximum likelihood estimates by taking the partial derivatives of this function with respect to $\\mu$ and $\\sigma^2$ is\n",
        "\\begin{equation*}\n",
        "  \\hat{\\mu} = \\overline{X} \\quad \\hat{\\sigma}^2 = \\frac{\\displaystyle\\sum_{i = 1}^n(X_i - \\overline{X})}{n}\n",
        "\\end{equation*}"
      ],
      "metadata": {
        "id": "1tp97I3EFGrA"
      }
    },
    {
      "cell_type": "markdown",
      "source": [
        "### **2.4.2 - MLE for Linear Regression**"
      ],
      "metadata": {
        "id": "R6eCFc988pr8"
      }
    },
    {
      "cell_type": "markdown",
      "source": [],
      "metadata": {
        "id": "1qnCnwH98z4j"
      }
    },
    {
      "cell_type": "markdown",
      "source": [
        "### **2.4.3 - Examples of MLE**"
      ],
      "metadata": {
        "id": "V5qXWhrr8twj"
      }
    },
    {
      "cell_type": "markdown",
      "source": [],
      "metadata": {
        "id": "xNYR4twc80VK"
      }
    },
    {
      "cell_type": "markdown",
      "source": [
        "### **2.4.4 - References**"
      ],
      "metadata": {
        "id": "LIc8oKbO8w1h"
      }
    },
    {
      "cell_type": "markdown",
      "source": [
        "1. MAT 494 Chapter 2 Notes\n",
        "2. https://analyticsindiamag.com/maximum-likelihood-estimation-python-guide/\n",
        "3. https://github.com/RajkumarGalaxy/StructuredData/blob/master/MLE_Maximum_Likelihood_Estimation.ipynb\n",
        "4. https://towardsdatascience.com/a-gentle-introduction-to-maximum-likelihood-estimation-9fbff27ea12f"
      ],
      "metadata": {
        "id": "UgUaMCpy8y9L"
      }
    }
  ]
}