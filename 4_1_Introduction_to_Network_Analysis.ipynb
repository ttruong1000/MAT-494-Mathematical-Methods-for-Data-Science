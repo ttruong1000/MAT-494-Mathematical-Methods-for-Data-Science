{
  "nbformat": 4,
  "nbformat_minor": 0,
  "metadata": {
    "colab": {
      "provenance": [],
      "authorship_tag": "ABX9TyMXnaH/bWaLcJPUHD2PwPuG",
      "include_colab_link": true
    },
    "kernelspec": {
      "name": "python3",
      "display_name": "Python 3"
    },
    "language_info": {
      "name": "python"
    }
  },
  "cells": [
    {
      "cell_type": "markdown",
      "metadata": {
        "id": "view-in-github",
        "colab_type": "text"
      },
      "source": [
        "<a href=\"https://colab.research.google.com/github/ttruong1000/MAT-494-Mathematical-Methods-for-Data-Science/blob/main/4_1_Introduction_to_Network_Analysis.ipynb\" target=\"_parent\"><img src=\"https://colab.research.google.com/assets/colab-badge.svg\" alt=\"Open In Colab\"/></a>"
      ]
    },
    {
      "cell_type": "markdown",
      "source": [
        "# **4.1 - Introduction to Network Analysis**"
      ],
      "metadata": {
        "id": "rSx6J0QTJHj9"
      }
    },
    {
      "cell_type": "markdown",
      "source": [
        "Network analysis is essential in analysis of data not only because social\n",
        "networks create huge amount of data, but also many data have networkstructured.\n",
        "One of simple ways to introduce a network structure is to analyze\n",
        "correlations between variables and create correlation networks, which\n",
        "are widely used data mining method for studying biological networks (for\n",
        "example, biological networks) based on pairwise correlations between variables."
      ],
      "metadata": {
        "id": "WRkglIfVr5iH"
      }
    },
    {
      "cell_type": "markdown",
      "source": [
        "Networks can be conveniently modeled by graphs, which we often refer\n",
        "to as a social graph. The individuals within a network are the nodes, and\n",
        "an edge connects two nodes if the nodes are related by the relationship that\n",
        "characterizes the network. The explosive growth of social media in recent\n",
        "years has attracted millions of end users, thus creating social graphs with\n",
        "millions of nodes and billions of edges reflecting the interactions and relationship between these nodes."
      ],
      "metadata": {
        "id": "0CEDsaqOr6BI"
      }
    },
    {
      "cell_type": "markdown",
      "source": [
        "Networks often exhibit community structure with inherent clusters. Detecting\n",
        "clusters or communities is one of the critical tasks in network analysis\n",
        "because of its broad applications to matters such as friend recommendations,\n",
        "link predictions and collaborative filtering in online social networks. From the\n",
        "graph theory perspective, clustering and community detection essentially are\n",
        "to discover a group of nodes in a graph that are more connected with eachother within the group than those nodes outside the group. Given the size\n",
        "and complexity of todays’ networks, clustering and community detection in\n",
        "these networks face the inherent challenges."
      ],
      "metadata": {
        "id": "RskMhk8ur8g8"
      }
    },
    {
      "cell_type": "markdown",
      "source": [
        "Communities (clusters) are essential to gain spatio-temporal inside into\n",
        "big datasets from networks. Spatial distances often describe the strength of\n",
        "network connectivity among communities (clusters) rather than individual\n",
        "nodes. As a result, good clustering results will enable us to capture key characteristics of datasets in networks."
      ],
      "metadata": {
        "id": "8dsHj5lgr-Dw"
      }
    },
    {
      "cell_type": "markdown",
      "source": [
        "### **4.1.0 - Python Libraries for Introduction to Network Analysis**"
      ],
      "metadata": {
        "id": "gwTiaY3v_eC7"
      }
    },
    {
      "cell_type": "code",
      "source": [
        "import numpy as np\n",
        "from sklearn.datasets import make_moons\n",
        "from sklearn.neighbors import kneighbors_graph\n",
        "from scipy import sparse\n",
        "import networkx as nx\n",
        "import matplotlib.pyplot as plt\n",
        "from sklearn.cluster import KMeans\n",
        "from sklearn.metrics import homogeneity_score, completeness_score,v_measure_score"
      ],
      "metadata": {
        "id": "YC0gHmPY_eYx"
      },
      "execution_count": 1,
      "outputs": []
    },
    {
      "cell_type": "markdown",
      "source": [
        "### **4.1.1 - Graph Models**"
      ],
      "metadata": {
        "id": "R3GaYuUWOV4Q"
      }
    },
    {
      "cell_type": "markdown",
      "source": [
        "In this section, we briefly review some of the common notation used in graphs. Any graph consists of both a set of objects, called nodes, and the connections between these nodes, called edges. Mathematically, a graph $G$ is denoted as pair $G(V, E)$, where $V = \\{v_1, v_2, \\ldots v_n\\}$ represents the set of nodes and $E = \\{e_1, e_2, \\ldots, e_m\\}$ represents the set of edges and the size of the set is commonly shown as $m = |E|$. Edges are also represented by their endpoints (nodes), so $e\\left(v_1, v_2\\right)$ or $\\left(v_1, v_2\\right)$ defines an edge between nodes $v_1$ and $v_2$. Edges can have directions if one node is connected to another, but not vice versa. When edges have directions, $e\\left(v_1, v_2\\right)$ is not the same as $e\\left(v_2, v_1\\right)$. When edges are undirected, nodes are connected both ways and are called undirected edges and this kind of graph is called an undirected graph. Graphs that only have directed edges are called directed graphs and ones that only have undirected edges are called undirected graphs. Finally, mixed graphs have both directed and undirected edges."
      ],
      "metadata": {
        "id": "tgcIW2MNOpGI"
      }
    },
    {
      "cell_type": "markdown",
      "source": [
        "A sequence of edges where nodes and edges are distinct, $e_1\\left(v_1, v_2\\right), e_2\\left(v_2, v_3\\right)$, $e_3\\left(v_3, v_4\\right), \\ldots, e_i\\left(v_i, v_{i + 1}\\right)$, is called a path. A closed path is called a cycle. The length of a path or cycle is the number of edges traversed in the path or cycle. In a directed graph, we only count directed paths because traversal of edges is only allowed in the direction of the edges. For a connected graph, multiple paths can exist between any pair of nodes. Often, we are interested in the path that has the shortest length. This path is called the shortest path. We will also use the shortest path as distance for modeling on networks. The concept of the neighborhood of a node $v_i$ can be generalized using shortest paths. An $n$-hop neighborhood of node $v_i$ is the set of nodes that are within $n$ hops distance from the node $v_i$."
      ],
      "metadata": {
        "id": "sUOghGD9O8RD"
      }
    },
    {
      "cell_type": "markdown",
      "source": [
        "The degree of a node in a graph, which is the number of edges connected to the node, plays a significant role in the study of graphs. For a directed graph, there are two types of degrees:\n",
        "1. in-degrees (edges toward the node) and \n",
        "2. out-degrees (edges away from the node)."
      ],
      "metadata": {
        "id": "vZKG5YVMO_RY"
      }
    },
    {
      "cell_type": "markdown",
      "source": [
        "In a network, nodes with the most connections possess the greatest degree of centrality. Degree centrality measures relative levels of importance. We often regard people with many interpersonal connections to be more important than those with few. Indegree centrality describes the popularity of a node and its prominence or prestige. Out-degree centrality describes the gregariousness of the node. For social media, degree represents the number of friends for each given user. On Facebook, a degree represents the number of friends. For Twitter, in-degree and out-degree show the number of followers and followees, respectively."
      ],
      "metadata": {
        "id": "GQdmYo76Pc8n"
      }
    },
    {
      "cell_type": "markdown",
      "source": [
        "### **4.1.2 - The Laplacian Matrix**"
      ],
      "metadata": {
        "id": "lfrq7mzNOfpp"
      }
    },
    {
      "cell_type": "markdown",
      "source": [
        "A graph with $n$ nodes can be represented by a $n \\times n$ adjacency matrix. A value of 1 at row $i$, column $j$ in the adjacency matrix indicates a connection between nodes $v_i$ and $v_j$, and a value of 0 denotes no connection between the two nodes. When generalized, any real number can be used to show the strength of connection between two nodes. In directed graphs, we can have two edges between $i$ and $j$ (one from $i$ to $j$ and one from $j$ to $i$), whereas in undirected graphs only one edge can exist. As a result, the adjacency matrix for directed graphs is not in general symmetric, whereas the adjacency matrix for undirected graphs is symmetric $\\left(A = A^T\\right)$. In social media, there are many directed and undirected networks. For instance, Facebook is an undirected network and Twitter is a directed network."
      ],
      "metadata": {
        "id": "7a2DZsF_Opg5"
      }
    },
    {
      "cell_type": "markdown",
      "source": [
        "Consider a weighted graph $G = (V, E)$ with $n$ vertices and $m$ edges each with weights $E_{i, j}$ connecting nodes $i, j$. The adjacency of matrix $M$ of a graph is defined by $M_{ij} = E_{ij}$ if there is an edge $\\{i, j\\}$ and $M_{ij} = 0$, otherwise. The Laplacian matrix $L$ of $\\mathrm{G}$ is an $n \\times n$ symmetric matrix, with one row and column for each vertex, such that\n",
        "$$\n",
        "L_{ij} = \\left\\{\\begin{array}{lr}\n",
        "\\sum_{k} E_{i k}, & i=j \\\\\n",
        "-E_{i j}, & i \\neq j, \\text { and } v_{i} \\text { is adjacent to } v_{j} \\\\\n",
        "0, & \\text { otherwise }\n",
        "\\end{array}\\right.\n",
        "$$\n",
        "In addition, a $n \\times m$ incidence matrix of $G$, denoted by $I_G$ has one row per vertex and one column per edge. The column corresponding to edge $\\{i, j\\}$ of $I_G$ is zero except the $i$-th and $j$-th entries, which are $\\sqrt{E_{ij}}$ and $-\\sqrt{E_{ij}}$. respectively."
      ],
      "metadata": {
        "id": "nZ6rfoDqQEfO"
      }
    },
    {
      "cell_type": "markdown",
      "source": [
        "##### Theorem 4.1.2.1 - Properties of the Laplacian Matrix"
      ],
      "metadata": {
        "id": "kDrDHkNOYJqJ"
      }
    },
    {
      "cell_type": "markdown",
      "source": [
        "The Laplacian matrix $L$ of has the following properties.\n",
        "1. $L = D − M$, where $M$ is the adjacency matrix and $D$ is the diagonal degree\n",
        "matrix with $D_{ii} = \\displaystyle\\sum_k E_{ik}$.\n",
        "2. $L = I_GI_G^T$\n",
        "3. $L$ is symmetric positive semi-definite. All eigenvalues of $L$ are real and\n",
        "non-negative, and $L$ has a full set of $n$ real and orthogonal eigenvectors.\n",
        "4. Let $\\mathbf{e} =[1, 1, ...,1]^T$. Then $L\\mathbf{e} = 0$. Thus 0 is the smallest eigenvalue and $\\mathbf{e}$ is the corresponding eigenvector.\n",
        "5. If the graph $G$ has $c$ connected components, then $L$ has $c$ eigenvalues that is 0.\n",
        "6. For any vector $\\mathbf{x}$, $\\mathbf{x}^TL\\mathbf{x} = \\displaystyle\\sum_{\\{i,j\\} \\in E} E_{ij}(x_i − x_j)^2$.\n",
        "7. For any vector $\\mathbf{x}$ and scalars $\\alpha, \\beta$, $(\\alpha\\mathbf{x} + \\beta\\mathbf{e})^TL(\\alpha\\mathbf{x} + \\beta\\mathbf{e}) = \\alpha^2\\mathbf{x}^TL\\mathbf{x}$.\n",
        "8. The problem\n",
        "\\begin{equation*}\n",
        "  \\min_{\\mathbf{x} \\neq 0} \\mathbf{x}^TL\\mathbf{x} \\quad \\text{ subject to } \\mathbf{x}^T\\mathbf{x} = 1, \\mathbf{x}^T\\mathbf{e} = 0\n",
        "\\end{equation*}\n",
        "is solved is solved when x is the eigenvector corresponding to the second smallest eigenvalue (the Fiedler vector) $\\lambda_2$ of the eigenvalue problem\n",
        "\\begin{equation*}\n",
        "  L\\mathbf{x} = \\lambda\\mathbf{x}\n",
        "\\end{equation*}"
      ],
      "metadata": {
        "id": "MquJLf66YM1S"
      }
    },
    {
      "cell_type": "markdown",
      "source": [
        "##### Theorem 4.1.2.2 - Courant-Fischer Theorem"
      ],
      "metadata": {
        "id": "es_upnjh6ap3"
      }
    },
    {
      "cell_type": "markdown",
      "source": [
        "Let $A$ be $n \\times n$ symmetric matrix with an orthogonal diagonalization $A = PDP^{-1}$. The columns of $P$ are orthonormal eigenvectors $\\mathbf{v}_1, \\mathbf{v}_2, \\ldots, \\mathbf{v}_n$ of $A$. Assume that the diagonal of $D$ are arranged so that $\\lambda_1 \\leq \\lambda_2 \\leq \\cdots \\leq \\lambda_n$. Let $S_k$ be the span of $\\mathbf{v}_1, \\mathbf{v}_2, \\ldots, \\mathbf{v}_k$ and $S_k^\\perp$ denote the orthogonal complement of $S_k$. Then,\n",
        "\\begin{equation*}\n",
        "  \\min_{\\mathbf{x} \\neq 0, \\mathbf{x} \\in S_{k - 1}^\\perp} \\frac{\\mathbf{x}^TA\\mathbf{x}}{\\mathbf{x}^T\\mathbf{x}} = \\lambda_k\n",
        "\\end{equation*}\n",
        "When $k = 2$, $S_1^\\perp$ is all $\\mathbf{x}$ such that\n",
        "\\begin{equation*}\n",
        "  \\mathbf{x} \\perp \\mathbf{v}_1, \\quad \\mathbf{v}_1^T \\cdot \\mathbf{x} = 0\n",
        "\\end{equation*}"
      ],
      "metadata": {
        "id": "fHfq-gHz6bA5"
      }
    },
    {
      "cell_type": "markdown",
      "source": [
        "##### Corollary 4.1.2.3 - Corollary of Courant-Fischer Theorem"
      ],
      "metadata": {
        "id": "nku_nyVa6bWu"
      }
    },
    {
      "cell_type": "markdown",
      "source": [
        "Let $A$ be $n \\times n$ symmetric matrix with an orthogonal diagonalization $A = PDP^{-1}$. The columns of $P$ are orthonormal eigenvectors $\\mathbf{v}_1, \\mathbf{v}_2, \\ldots, \\mathbf{v}_n$ of $A$. Assume that the diagonal of $D$ are arranged so that $\\lambda_1 \\leq \\lambda_2 \\leq \\cdots \\leq \\lambda_n$. Then\n",
        "\\begin{equation*}\n",
        "  \\min_{\\mathbf{x} \\neq 0, \\mathbf{x}^T\\mathbf{v}_1 = 0} \\frac{\\mathbf{x}^TA\\mathbf{x}}{\\mathbf{x}^T\\mathbf{x}} = \\lambda_2\n",
        "\\end{equation*}"
      ],
      "metadata": {
        "id": "lzhVE10U6bmH"
      }
    },
    {
      "cell_type": "markdown",
      "source": [
        "### **4.1.3 - References**"
      ],
      "metadata": {
        "id": "CNs0z9cuOjNT"
      }
    },
    {
      "cell_type": "markdown",
      "source": [
        "1. MAT 494 Chapter 4 Notes"
      ],
      "metadata": {
        "id": "D7BWQCqhOl1h"
      }
    }
  ]
}