{
  "cells": [
    {
      "cell_type": "markdown",
      "metadata": {
        "id": "1HZ91Wws7qCZ"
      },
      "source": [
        "# **1.2 - Elements of Linear Algebra**"
      ]
    },
    {
      "cell_type": "markdown",
      "metadata": {
        "id": "zakdcNf27qCd"
      },
      "source": [
        "### **1.2.0 - Python Libraries for Linear Algebra and Basic Functions**"
      ]
    },
    {
      "cell_type": "markdown",
      "metadata": {
        "id": "nDJzRoiV7qCe"
      },
      "source": [
        "The Python libraries used in linear algebra for computational purposes are NumPy and SciPy."
      ]
    },
    {
      "cell_type": "code",
      "execution_count": 75,
      "metadata": {
        "id": "rmjE0b9c7qCf"
      },
      "outputs": [],
      "source": [
        "import numpy as np\n",
        "import sympy as sp"
      ]
    },
    {
      "cell_type": "markdown",
      "source": [
        "We can make an array (row vector) of numbers from $0$ to $n$ as shown below."
      ],
      "metadata": {
        "id": "NAEOTS8NQ6F-"
      }
    },
    {
      "cell_type": "code",
      "source": [
        "matrixA = np.arange(10)\n",
        "print(\"A =\\n\", matrixA)"
      ],
      "metadata": {
        "colab": {
          "base_uri": "https://localhost:8080/"
        },
        "id": "WWUn8gl5P4Wo",
        "outputId": "d5547eef-393b-4ef7-a123-b930b138213c"
      },
      "execution_count": 12,
      "outputs": [
        {
          "output_type": "stream",
          "name": "stdout",
          "text": [
            "A = [0 1 2 3 4 5 6 7 8 9]\n"
          ]
        }
      ]
    },
    {
      "cell_type": "markdown",
      "source": [
        "The zeros and ones function creates an array (row vector) of $n$ elements containing only zeros and ones, respectively."
      ],
      "metadata": {
        "id": "6O107tvtRMt5"
      }
    },
    {
      "cell_type": "code",
      "source": [
        "matrixA = np.zeros(10)\n",
        "print(\"A =\\n\", matrixA)\n",
        "matrixB = np.ones(10)\n",
        "print(\"\\nB =\\n\", matrixB)\n",
        "matrixC = np.zeros(10) + 10\n",
        "print(\"\\nC =\\n\", matrixC)"
      ],
      "metadata": {
        "colab": {
          "base_uri": "https://localhost:8080/"
        },
        "id": "hmOOr68PRJel",
        "outputId": "3d5cb519-05f8-4e30-8e9d-1f2b51d7b88e"
      },
      "execution_count": 131,
      "outputs": [
        {
          "output_type": "stream",
          "name": "stdout",
          "text": [
            "A =\n",
            " [0. 0. 0. 0. 0. 0. 0. 0. 0. 0.]\n",
            "\n",
            "B =\n",
            " [1. 1. 1. 1. 1. 1. 1. 1. 1. 1.]\n",
            "\n",
            "C =\n",
            " [10. 10. 10. 10. 10. 10. 10. 10. 10. 10.]\n"
          ]
        }
      ]
    },
    {
      "cell_type": "markdown",
      "source": [
        "We can create an array of 10 random numbers between 0 and 1, as shown below."
      ],
      "metadata": {
        "id": "yQP5oSvTRPHx"
      }
    },
    {
      "cell_type": "code",
      "source": [
        "matrixA = np.random.rand(10)\n",
        "print(\"A =\\n\", matrixA)"
      ],
      "metadata": {
        "colab": {
          "base_uri": "https://localhost:8080/"
        },
        "id": "7hq2gKVdRPYh",
        "outputId": "d31812ee-7db4-4ced-fd3c-b9aedf3c8c35"
      },
      "execution_count": 15,
      "outputs": [
        {
          "output_type": "stream",
          "name": "stdout",
          "text": [
            "A = [0.3792223  0.57268692 0.98527166 0.98650182 0.8196123  0.31626468\n",
            " 0.45937137 0.24510413 0.89836489 0.9107593 ]\n"
          ]
        }
      ]
    },
    {
      "cell_type": "markdown",
      "source": [
        "We can create an $m \\times n$ array that contains all zeros and/or all ones, as shown below."
      ],
      "metadata": {
        "id": "VvLDKDHzYvbA"
      }
    },
    {
      "cell_type": "code",
      "source": [
        "matrixA = np.zeros((5, 4))\n",
        "print(\"A =\\n\", matrixA)\n",
        "print(\"Length of Array =\", len(matrixA))\n",
        "print(\"Shape of Array (row, column) =\", matrixA.shape)\n",
        "matrixB = np.ones((5, 4))\n",
        "print(\"\\nB =\\n\", matrixB)\n",
        "print(\"Length of Array =\", len(matrixB))\n",
        "print(\"Shape of Array (row, column) =\", matrixB.shape)"
      ],
      "metadata": {
        "colab": {
          "base_uri": "https://localhost:8080/"
        },
        "id": "YrkMnaGmYvsH",
        "outputId": "94a12543-5625-42b4-87f3-0ca55a01523a"
      },
      "execution_count": 132,
      "outputs": [
        {
          "output_type": "stream",
          "name": "stdout",
          "text": [
            "A =\n",
            " [[0. 0. 0. 0.]\n",
            " [0. 0. 0. 0.]\n",
            " [0. 0. 0. 0.]\n",
            " [0. 0. 0. 0.]\n",
            " [0. 0. 0. 0.]]\n",
            "Length of Array = 5\n",
            "Shape of Array (row, column) = (5, 4)\n",
            "\n",
            "B =\n",
            " [[1. 1. 1. 1.]\n",
            " [1. 1. 1. 1.]\n",
            " [1. 1. 1. 1.]\n",
            " [1. 1. 1. 1.]\n",
            " [1. 1. 1. 1.]]\n",
            "Length of Array = 5\n",
            "Shape of Array (row, column) = (5, 4)\n"
          ]
        }
      ]
    },
    {
      "cell_type": "markdown",
      "source": [
        "We can create an $n \\times n$ identity matrix, as shown below."
      ],
      "metadata": {
        "id": "utO0qKXCWhW8"
      }
    },
    {
      "cell_type": "code",
      "source": [
        "matrixA = np.eye(10)"
      ],
      "metadata": {
        "id": "VjSC__XUWjn5"
      },
      "execution_count": null,
      "outputs": []
    },
    {
      "cell_type": "markdown",
      "source": [
        "We can calculate the transpose of a matrix A, as shown below."
      ],
      "metadata": {
        "id": "kceBPI2tWqOX"
      }
    },
    {
      "cell_type": "code",
      "source": [
        "matrixA = np.array([[1, 2, 3],[4, 5, 6],[7, 8, 9]])\n",
        "print(\"A =\\n\", matrixA)\n",
        "matrixA = matrixA.T\n",
        "print(\"\\nTranspose of A (A^T) =\\n\", matrixA)"
      ],
      "metadata": {
        "colab": {
          "base_uri": "https://localhost:8080/"
        },
        "id": "UEmTvM3_Wqeh",
        "outputId": "a6e1322c-9902-430c-fa8a-0a503c0188cf"
      },
      "execution_count": 134,
      "outputs": [
        {
          "output_type": "stream",
          "name": "stdout",
          "text": [
            "A =\n",
            " [[1 2 3]\n",
            " [4 5 6]\n",
            " [7 8 9]]\n",
            "\n",
            "Transpose of A (A^T) =\n",
            " [[1 4 7]\n",
            " [2 5 8]\n",
            " [3 6 9]]\n"
          ]
        }
      ]
    },
    {
      "cell_type": "markdown",
      "source": [
        "Other relevant functions in NumPy and SciPy will be used throughout this document."
      ],
      "metadata": {
        "id": "eIyMbPm3QD0F"
      }
    },
    {
      "cell_type": "markdown",
      "metadata": {
        "id": "CwJ6Js_H7qCg"
      },
      "source": [
        "### **1.2.1 - Linear Spaces**"
      ]
    },
    {
      "cell_type": "markdown",
      "metadata": {
        "id": "RD8CxVLA7qCh"
      },
      "source": [
        "Let $U, V$ be vectors in $\\mathbb{R}^m$."
      ]
    },
    {
      "cell_type": "markdown",
      "metadata": {
        "id": "4PnzryTG7qCh"
      },
      "source": [
        "##### Definition 1.2.1.1 - Linear Combination"
      ]
    },
    {
      "cell_type": "markdown",
      "metadata": {
        "id": "pSzx3TEQ7qCh"
      },
      "source": [
        "A linear combination is the sum of all products of vectors multiplied by scalars. Formally, given vectors $\\textbf{v}_1, \\textbf{v}_2, \\ldots, \\textbf{v}_n \\in V$ and scalars $c_1, c_2, \\ldots, c_n \\in \\mathbb{R}$,\n",
        "\\begin{equation*}\n",
        "    c_1\\textbf{v}_1 + c_2\\textbf{v}_2 + \\cdots + c_n\\textbf{v}_n\n",
        "\\end{equation*}\n",
        "is a linear combination of the vectors $\\textbf{v}_1, \\textbf{v}_2, \\ldots, \\textbf{v}_n$."
      ]
    },
    {
      "cell_type": "markdown",
      "metadata": {
        "id": "-_WcsYvU7qCi"
      },
      "source": [
        "##### Definition 1.2.1.2 - Linear Subspace"
      ]
    },
    {
      "cell_type": "markdown",
      "metadata": {
        "id": "utU5O_a37qCi"
      },
      "source": [
        "A linear subspace is a subset of vector spaces $U \\subseteq V$ that is closed under vector addition and scalar multiplication. Namely, for all vectors $\\textbf{u}_1, \\textbf{u}_2 \\in U$ and $\\alpha \\in \\mathbb{R}$,\n",
        "\\begin{equation*}\n",
        "    \\textbf{u}_1 + \\textbf{u}_2 \\in U \\text{ and } \\alpha\\textbf{u}_1 \\in U\n",
        "\\end{equation*}\n",
        "In particular, $\\textbf{0}$ is always in a linear subspace."
      ]
    },
    {
      "cell_type": "markdown",
      "metadata": {
        "id": "DYF3505o7qCj"
      },
      "source": [
        "##### Definition 1.2.1.3 - Span"
      ]
    },
    {
      "cell_type": "markdown",
      "metadata": {
        "id": "hmNAIyS_7qCj"
      },
      "source": [
        "Let $\\textbf{v}_1, \\textbf{v}_2, \\ldots, \\textbf{v}_n$ be vectors in a vector space $V$. The set of all linear combinations of $\\textbf{v}_1, \\textbf{v}_2, \\ldots, \\textbf{v}_n$ is called the span of $\\textbf{v}_1, \\textbf{v}_2, \\ldots, \\textbf{v}_n$, denoted by $\\text{span}(\\textbf{v}_1, \\textbf{v}_2, \\ldots, \\textbf{v}_n)$."
      ]
    },
    {
      "cell_type": "markdown",
      "metadata": {
        "id": "fpd-QNQZ7qCj"
      },
      "source": [
        "##### Lemma 1.2.1.4 - Every Span is a Linear Subspace"
      ]
    },
    {
      "cell_type": "markdown",
      "metadata": {
        "id": "28NqbkyW7qCj"
      },
      "source": [
        "Let $W = \\text{span}(\\textbf{w}_1, \\textbf{w}_2, \\ldots, \\textbf{w}_m)$, where $\\textbf{w}_1, \\textbf{w}_2, \\ldots, \\textbf{w}_m$ are vectors in a vector space. Then, $W$ is a linear subspace."
      ]
    },
    {
      "cell_type": "markdown",
      "metadata": {
        "id": "IAmSsMMu7qCj"
      },
      "source": [
        "##### Definition 1.2.1.5 - Column Space, Row Space, and Null Space"
      ]
    },
    {
      "cell_type": "markdown",
      "metadata": {
        "id": "NDk9A8Wx7qCk"
      },
      "source": [
        "Let $A \\in \\mathbb{R}^{m \\times n}$ be an $m \\times n$ matrix with column vectors $\\textbf{a}_1, \\textbf{a}_2, \\ldots, \\textbf{a}_m \\in \\mathbb{R}^n$. The column space of $A$, denoted as $\\text{col}(A)$, is the span of the column vectors of $A$; that is, $\\text{col}(A) = \\text{span}(\\textbf{a}_1, \\textbf{a}_2, \\ldots, \\textbf{a}_m) \\in \\mathbb{R}^n$. The row space of $A$, denoted as $\\text{row}(A)$, is the span of the row vectors of $A$; that is, $\\text{row}(A) = \\text{span}(\\textbf{a}_1, \\textbf{a}_2, \\ldots, \\textbf{a}_m) \\in \\mathbb{R}^m$. The null space of $A$, denoted as $N(A)$, is the set of all solutions $\\mathbf{x}$ to the matrix equation $A\\mathbf{x} = \\textbf{0}$; that is $N(A) = \\{\\mathbf{x} \\in \\mathbb{R}^n \\ | \\ A\\mathbf{x} = \\textbf{0}\\}$."
      ]
    },
    {
      "cell_type": "code",
      "source": [
        "print('Example 1')\n",
        "matrixA = sp.Matrix([[1, 1, 1, 0],[2, 1, 0, 1]])\n",
        "print('Column Space =\\n', matrixA.columnspace())\n",
        "print('Row Space =\\n', matrixA.rowspace())\n",
        "print('Null Space =\\n', matrixA.nullspace())\n",
        "print('\\nExample 2')\n",
        "matrixA = sp.Matrix([[2, 1],[3, 2]])\n",
        "print('Column Space =\\n', matrixA.columnspace())\n",
        "print('Row Space =\\n', matrixA.rowspace())\n",
        "print('Null Space =\\n', matrixA.nullspace())\n",
        "print('\\nExample 3')\n",
        "matrixA = sp.Matrix([[1, 2, -3, -1],[-2, -4, 6, 3]])\n",
        "print('Column Space =\\n', matrixA.columnspace())\n",
        "print('Row Space =\\n', matrixA.rowspace())\n",
        "print('Null Space =\\n', matrixA.nullspace())\n",
        "print('\\nExample 4')\n",
        "matrixA = sp.Matrix([[1, 3, -4],[-2, -1, -1],[-1, -3, 4]])\n",
        "print('Column Space =\\n', matrixA.columnspace())\n",
        "print('Row Space =\\n', matrixA.rowspace())\n",
        "print('Null Space =\\n', matrixA.nullspace())\n",
        "print('\\nExample 5')\n",
        "matrixA = sp.Matrix([[1, 1, -1, 2],[2, 2, -3, 1],[-1, -1, 0, -5]])\n",
        "print('Column Space =\\n', matrixA.columnspace())\n",
        "print('Row Space =\\n', matrixA.rowspace())\n",
        "print('Null Space =\\n', matrixA.nullspace())\n",
        "print('\\nExample 6')\n",
        "matrixA = sp.Matrix([[1, 0, 0],[0, 1, 0]])\n",
        "print('Column Space =\\n', matrixA.columnspace())\n",
        "print('Row Space =\\n', matrixA.rowspace())\n",
        "print('Null Space =\\n', matrixA.nullspace())\n",
        "print('\\nExample 7')\n",
        "matrixA = sp.Matrix([[1, -2, 3],[2, -5, 1],[1, -4, -7]])\n",
        "print('Column Space =\\n', matrixA.columnspace())\n",
        "print('Row Space =\\n', matrixA.rowspace())\n",
        "print('Null Space =\\n', matrixA.nullspace())\n",
        "print('\\nExample 8')\n",
        "matrixA = sp.Matrix([[1, 2, -1, 1],[2, 4, -3, 0],[1, 2, 1, 5]])\n",
        "print('Column Space =\\n', matrixA.columnspace())\n",
        "print('Row Space =\\n', matrixA.rowspace())\n",
        "print('Null Space =\\n', matrixA.nullspace())\n",
        "print('\\nExample 9')\n",
        "matrixA = sp.Matrix([[1, -2, 1, 1, 2],[-1, 3, 0, 2, -2],[0, 1, 1, 3, 4],[1, 2, 5, 13, 5]])\n",
        "print('Column Space =\\n', matrixA.columnspace())\n",
        "print('Row Space =\\n', matrixA.rowspace())\n",
        "print('Null Space =\\n', matrixA.nullspace())\n",
        "print('\\nExample 10')\n",
        "matrixA = sp.Matrix([[1, 2, 2, 3],[2, 5, 4, 8],[-1, -3, -2, -5],[0, 2, 0, 4]])\n",
        "print('Column Space =\\n', matrixA.columnspace())\n",
        "print('Row Space =\\n', matrixA.rowspace())\n",
        "print('Null Space =\\n', matrixA.nullspace())\n",
        "print('\\nExample 11')\n",
        "matrixA = sp.Matrix([[1, 3, 2],[2, 1, 4],[4, 7, 8]])\n",
        "print('Column Space =\\n', matrixA.columnspace())\n",
        "print('Row Space =\\n', matrixA.rowspace())\n",
        "print('Null Space =\\n', matrixA.nullspace())\n",
        "print('\\nExample 12')\n",
        "matrixA = sp.Matrix([[-3, 1, 3, 4],[1, 2, -1, -2],[-3, 8, 4, 2]])\n",
        "print('Column Space =\\n', matrixA.columnspace())\n",
        "print('Row Space =\\n', matrixA.rowspace())\n",
        "print('Null Space =\\n', matrixA.nullspace())\n",
        "print('\\nExample 13')\n",
        "matrixA = sp.Matrix([[1, 3, -2, 1],[2, 1, 3, 2],[3, 4, 5, 6]])\n",
        "print('Column Space =\\n', matrixA.columnspace())\n",
        "print('Row Space =\\n', matrixA.rowspace())\n",
        "print('Null Space =\\n', matrixA.nullspace())\n",
        "print('\\nExample 14')\n",
        "matrixA = sp.Matrix([[1, 2, -3],[-2, -2, 3],[2, 4, 6]])\n",
        "print('Column Space =\\n', matrixA.columnspace())\n",
        "print('Row Space =\\n', matrixA.rowspace())\n",
        "print('Null Space =\\n', matrixA.nullspace())\n",
        "print('\\nExample 15')\n",
        "matrixA = sp.Matrix([[1, 1, 2],[1, 2, 3],[1, 3, 1]])\n",
        "print('Column Space =\\n', matrixA.columnspace())\n",
        "print('Row Space =\\n', matrixA.rowspace())\n",
        "print('Null Space =\\n', matrixA.nullspace())\n",
        "print('\\nExample 16')\n",
        "matrixA = sp.Matrix([[1, -2, 3, 2],[-1, 2, -2, 1],[2, -4, 5, 3]])\n",
        "print('Column Space =\\n', matrixA.columnspace())\n",
        "print('Row Space =\\n', matrixA.rowspace())\n",
        "print('Null Space =\\n', matrixA.nullspace())\n",
        "print('\\nExample 17')\n",
        "matrixA = sp.Matrix([[1, 2, 2, 3, 1, 4],[2, 4, 5, 5, 4, 9],[3, 6, 7, 8, 5, 9]])\n",
        "print('Column Space =\\n', matrixA.columnspace())\n",
        "print('Row Space =\\n', matrixA.rowspace())\n",
        "print('Null Space =\\n', matrixA.nullspace())\n",
        "print('\\nExample 18')\n",
        "matrixA = sp.Matrix([])\n",
        "print('Column Space =\\n', matrixA.columnspace())\n",
        "print('Row Space =\\n', matrixA.rowspace())\n",
        "print('Null Space =\\n', matrixA.nullspace())\n",
        "print('\\nExample 19')\n",
        "matrixA = sp.Matrix([[1, -2, -4, 0],[2, 0, -1, -3]])\n",
        "print('Column Space =\\n', matrixA.columnspace())\n",
        "print('Row Space =\\n', matrixA.rowspace())\n",
        "print('Null Space =\\n', matrixA.nullspace())\n",
        "print('\\nExample 20')\n",
        "matrixA = sp.Matrix([[-5, 9, -20],[5, -10, 20],[-5, 11, -20]])\n",
        "print('Column Space =\\n', matrixA.columnspace())\n",
        "print('Row Space =\\n', matrixA.rowspace())\n",
        "print('Null Space =\\n', matrixA.nullspace())\n",
        "print('\\nExample 21')\n",
        "matrixA = sp.Matrix([[1, 2, 1],[1, 3, 1],[1, 4, 1]])\n",
        "print('Column Space =\\n', matrixA.columnspace())\n",
        "print('Row Space =\\n', matrixA.rowspace())\n",
        "print('Null Space =\\n', matrixA.nullspace())\n",
        "print('\\nExample 22')\n",
        "matrixA = sp.Matrix([[-6, -4, 4, -6],[9, 6, -6, 9]])\n",
        "print('Column Space =\\n', matrixA.columnspace())\n",
        "print('Row Space =\\n', matrixA.rowspace())\n",
        "print('Null Space =\\n', matrixA.nullspace())\n",
        "print('\\nExample 23')\n",
        "matrixA = sp.Matrix([[-3, 8, -2, -11],[2, 2, 5, 0],[-5, 6, -7, -11],[-2, -2, -5, 0]])\n",
        "print('Column Space =\\n', matrixA.columnspace())\n",
        "print('Row Space =\\n', matrixA.rowspace())\n",
        "print('Null Space =\\n', matrixA.nullspace())\n",
        "print('\\nExample 24')\n",
        "matrixA = sp.Matrix([[1, -5, 0, -3, -1],[3, -15, 0, -9, -3],[0, 0, -1, 2, -4],[0, 0, -2, 4, -8]])\n",
        "print('Column Space =\\n', matrixA.columnspace())\n",
        "print('Row Space =\\n', matrixA.rowspace())\n",
        "print('Null Space =\\n', matrixA.nullspace())\n",
        "print('\\nExample 25')\n",
        "matrixA = sp.Matrix([[1, 0, -3, 0, 1, -1],[5, 0, -15, 0, 5, 5],[0, -3, 6, 2, -11, -9],[0, 1, -2, -1, 4, 4],[0, -2, 4, 1, -7, -5]])\n",
        "print('Column Space =\\n', matrixA.columnspace())\n",
        "print('Row Space =\\n', matrixA.rowspace())\n",
        "print('Null Space =\\n', matrixA.nullspace())\n",
        "print('\\nExample 26')\n",
        "matrixA = sp.Matrix([[-1, 3, 1, 1, 0],[1, 2, 4, 9, 0],[1, -8, -6, -10, 0],[1, -8, -6, -11, 0],[-4, 2, -6, -16, 0]])\n",
        "print('Column Space =\\n', matrixA.columnspace())\n",
        "print('Row Space =\\n', matrixA.rowspace())\n",
        "print('Null Space =\\n', matrixA.nullspace())\n",
        "print('\\nExample 27')\n",
        "matrixA = sp.Matrix([[2, -1, 3],[2, -3, 4],[4, -4, 3],[5, -3, 13]])\n",
        "print('Column Space =\\n', matrixA.columnspace())\n",
        "print('Row Space =\\n', matrixA.rowspace())\n",
        "print('Null Space =\\n', matrixA.nullspace())"
      ],
      "metadata": {
        "colab": {
          "base_uri": "https://localhost:8080/"
        },
        "id": "lWa0BDhqRIDZ",
        "outputId": "16211858-3dbd-464e-ac3f-5ee76d9c09b0"
      },
      "execution_count": 135,
      "outputs": [
        {
          "output_type": "stream",
          "name": "stdout",
          "text": [
            "Example 1\n",
            "Column Space =\n",
            " [Matrix([\n",
            "[1],\n",
            "[2]]), Matrix([\n",
            "[1],\n",
            "[1]])]\n",
            "Row Space =\n",
            " [Matrix([[1, 1, 1, 0]]), Matrix([[0, -1, -2, 1]])]\n",
            "Null Space =\n",
            " [Matrix([\n",
            "[ 1],\n",
            "[-2],\n",
            "[ 1],\n",
            "[ 0]]), Matrix([\n",
            "[-1],\n",
            "[ 1],\n",
            "[ 0],\n",
            "[ 1]])]\n",
            "\n",
            "Example 2\n",
            "Column Space =\n",
            " [Matrix([\n",
            "[2],\n",
            "[3]]), Matrix([\n",
            "[1],\n",
            "[2]])]\n",
            "Row Space =\n",
            " [Matrix([[2, 1]]), Matrix([[0, 1]])]\n",
            "Null Space =\n",
            " []\n",
            "\n",
            "Example 3\n",
            "Column Space =\n",
            " [Matrix([\n",
            "[ 1],\n",
            "[-2]]), Matrix([\n",
            "[-1],\n",
            "[ 3]])]\n",
            "Row Space =\n",
            " [Matrix([[1, 2, -3, -1]]), Matrix([[0, 0, 0, 1]])]\n",
            "Null Space =\n",
            " [Matrix([\n",
            "[-2],\n",
            "[ 1],\n",
            "[ 0],\n",
            "[ 0]]), Matrix([\n",
            "[3],\n",
            "[0],\n",
            "[1],\n",
            "[0]])]\n",
            "\n",
            "Example 4\n",
            "Column Space =\n",
            " [Matrix([\n",
            "[ 1],\n",
            "[-2],\n",
            "[-1]]), Matrix([\n",
            "[ 3],\n",
            "[-1],\n",
            "[-3]])]\n",
            "Row Space =\n",
            " [Matrix([[1, 3, -4]]), Matrix([[0, 5, -9]])]\n",
            "Null Space =\n",
            " [Matrix([\n",
            "[-7/5],\n",
            "[ 9/5],\n",
            "[   1]])]\n",
            "\n",
            "Example 5\n",
            "Column Space =\n",
            " [Matrix([\n",
            "[ 1],\n",
            "[ 2],\n",
            "[-1]]), Matrix([\n",
            "[-1],\n",
            "[-3],\n",
            "[ 0]])]\n",
            "Row Space =\n",
            " [Matrix([[1, 1, -1, 2]]), Matrix([[0, 0, -1, -3]])]\n",
            "Null Space =\n",
            " [Matrix([\n",
            "[-1],\n",
            "[ 1],\n",
            "[ 0],\n",
            "[ 0]]), Matrix([\n",
            "[-5],\n",
            "[ 0],\n",
            "[-3],\n",
            "[ 1]])]\n",
            "\n",
            "Example 6\n",
            "Column Space =\n",
            " [Matrix([\n",
            "[1],\n",
            "[0]]), Matrix([\n",
            "[0],\n",
            "[1]])]\n",
            "Row Space =\n",
            " [Matrix([[1, 0, 0]]), Matrix([[0, 1, 0]])]\n",
            "Null Space =\n",
            " [Matrix([\n",
            "[0],\n",
            "[0],\n",
            "[1]])]\n",
            "\n",
            "Example 7\n",
            "Column Space =\n",
            " [Matrix([\n",
            "[1],\n",
            "[2],\n",
            "[1]]), Matrix([\n",
            "[-2],\n",
            "[-5],\n",
            "[-4]])]\n",
            "Row Space =\n",
            " [Matrix([[1, -2, 3]]), Matrix([[0, -1, -5]])]\n",
            "Null Space =\n",
            " [Matrix([\n",
            "[-13],\n",
            "[ -5],\n",
            "[  1]])]\n",
            "\n",
            "Example 8\n",
            "Column Space =\n",
            " [Matrix([\n",
            "[1],\n",
            "[2],\n",
            "[1]]), Matrix([\n",
            "[-1],\n",
            "[-3],\n",
            "[ 1]])]\n",
            "Row Space =\n",
            " [Matrix([[1, 2, -1, 1]]), Matrix([[0, 0, -1, -2]])]\n",
            "Null Space =\n",
            " [Matrix([\n",
            "[-2],\n",
            "[ 1],\n",
            "[ 0],\n",
            "[ 0]]), Matrix([\n",
            "[-3],\n",
            "[ 0],\n",
            "[-2],\n",
            "[ 1]])]\n",
            "\n",
            "Example 9\n",
            "Column Space =\n",
            " [Matrix([\n",
            "[ 1],\n",
            "[-1],\n",
            "[ 0],\n",
            "[ 1]]), Matrix([\n",
            "[-2],\n",
            "[ 3],\n",
            "[ 1],\n",
            "[ 2]]), Matrix([\n",
            "[ 2],\n",
            "[-2],\n",
            "[ 4],\n",
            "[ 5]])]\n",
            "Row Space =\n",
            " [Matrix([[1, -2, 1, 1, 2]]), Matrix([[0, 1, 1, 3, 0]]), Matrix([[0, 0, 0, 0, 4]])]\n",
            "Null Space =\n",
            " [Matrix([\n",
            "[-3],\n",
            "[-1],\n",
            "[ 1],\n",
            "[ 0],\n",
            "[ 0]]), Matrix([\n",
            "[-7],\n",
            "[-3],\n",
            "[ 0],\n",
            "[ 1],\n",
            "[ 0]])]\n",
            "\n",
            "Example 10\n",
            "Column Space =\n",
            " [Matrix([\n",
            "[ 1],\n",
            "[ 2],\n",
            "[-1],\n",
            "[ 0]]), Matrix([\n",
            "[ 2],\n",
            "[ 5],\n",
            "[-3],\n",
            "[ 2]])]\n",
            "Row Space =\n",
            " [Matrix([[1, 2, 2, 3]]), Matrix([[0, 1, 0, 2]])]\n",
            "Null Space =\n",
            " [Matrix([\n",
            "[-2],\n",
            "[ 0],\n",
            "[ 1],\n",
            "[ 0]]), Matrix([\n",
            "[ 1],\n",
            "[-2],\n",
            "[ 0],\n",
            "[ 1]])]\n",
            "\n",
            "Example 11\n",
            "Column Space =\n",
            " [Matrix([\n",
            "[1],\n",
            "[2],\n",
            "[4]]), Matrix([\n",
            "[3],\n",
            "[1],\n",
            "[7]])]\n",
            "Row Space =\n",
            " [Matrix([[1, 3, 2]]), Matrix([[0, -5, 0]])]\n",
            "Null Space =\n",
            " [Matrix([\n",
            "[-2],\n",
            "[ 0],\n",
            "[ 1]])]\n",
            "\n",
            "Example 12\n",
            "Column Space =\n",
            " [Matrix([\n",
            "[-3],\n",
            "[ 1],\n",
            "[-3]]), Matrix([\n",
            "[1],\n",
            "[2],\n",
            "[8]]), Matrix([\n",
            "[ 3],\n",
            "[-1],\n",
            "[ 4]])]\n",
            "Row Space =\n",
            " [Matrix([[-3, 1, 3, 4]]), Matrix([[0, -7, 0, 2]]), Matrix([[0, 0, 21, 0]])]\n",
            "Null Space =\n",
            " [Matrix([\n",
            "[10/7],\n",
            "[ 2/7],\n",
            "[   0],\n",
            "[   1]])]\n",
            "\n",
            "Example 13\n",
            "Column Space =\n",
            " [Matrix([\n",
            "[1],\n",
            "[2],\n",
            "[3]]), Matrix([\n",
            "[3],\n",
            "[1],\n",
            "[4]]), Matrix([\n",
            "[-2],\n",
            "[ 3],\n",
            "[ 5]])]\n",
            "Row Space =\n",
            " [Matrix([[1, 3, -2, 1]]), Matrix([[0, -5, 7, 0]]), Matrix([[0, 0, -20, -15]])]\n",
            "Null Space =\n",
            " [Matrix([\n",
            "[ 13/20],\n",
            "[-21/20],\n",
            "[  -3/4],\n",
            "[     1]])]\n",
            "\n",
            "Example 14\n",
            "Column Space =\n",
            " [Matrix([\n",
            "[ 1],\n",
            "[-2],\n",
            "[ 2]]), Matrix([\n",
            "[ 2],\n",
            "[-2],\n",
            "[ 4]]), Matrix([\n",
            "[-3],\n",
            "[ 3],\n",
            "[ 6]])]\n",
            "Row Space =\n",
            " [Matrix([[1, 2, -3]]), Matrix([[0, 2, -3]]), Matrix([[0, 0, 12]])]\n",
            "Null Space =\n",
            " []\n",
            "\n",
            "Example 15\n",
            "Column Space =\n",
            " [Matrix([\n",
            "[1],\n",
            "[1],\n",
            "[1]]), Matrix([\n",
            "[1],\n",
            "[2],\n",
            "[3]]), Matrix([\n",
            "[2],\n",
            "[3],\n",
            "[1]])]\n",
            "Row Space =\n",
            " [Matrix([[1, 1, 2]]), Matrix([[0, 1, 1]]), Matrix([[0, 0, -3]])]\n",
            "Null Space =\n",
            " []\n",
            "\n",
            "Example 16\n",
            "Column Space =\n",
            " [Matrix([\n",
            "[ 1],\n",
            "[-1],\n",
            "[ 2]]), Matrix([\n",
            "[ 3],\n",
            "[-2],\n",
            "[ 5]]), Matrix([\n",
            "[2],\n",
            "[1],\n",
            "[3]])]\n",
            "Row Space =\n",
            " [Matrix([[1, -2, 3, 2]]), Matrix([[0, 0, 1, 3]]), Matrix([[0, 0, 0, 2]])]\n",
            "Null Space =\n",
            " [Matrix([\n",
            "[2],\n",
            "[1],\n",
            "[0],\n",
            "[0]])]\n",
            "\n",
            "Example 17\n",
            "Column Space =\n",
            " [Matrix([\n",
            "[1],\n",
            "[2],\n",
            "[3]]), Matrix([\n",
            "[2],\n",
            "[5],\n",
            "[7]]), Matrix([\n",
            "[4],\n",
            "[9],\n",
            "[9]])]\n",
            "Row Space =\n",
            " [Matrix([[1, 2, 2, 3, 1, 4]]), Matrix([[0, 0, 1, -1, 2, 1]]), Matrix([[0, 0, 0, 0, 0, -4]])]\n",
            "Null Space =\n",
            " [Matrix([\n",
            "[-2],\n",
            "[ 1],\n",
            "[ 0],\n",
            "[ 0],\n",
            "[ 0],\n",
            "[ 0]]), Matrix([\n",
            "[-5],\n",
            "[ 0],\n",
            "[ 1],\n",
            "[ 1],\n",
            "[ 0],\n",
            "[ 0]]), Matrix([\n",
            "[ 3],\n",
            "[ 0],\n",
            "[-2],\n",
            "[ 0],\n",
            "[ 1],\n",
            "[ 0]])]\n",
            "\n",
            "Example 18\n",
            "Column Space =\n",
            " []\n",
            "Row Space =\n",
            " []\n",
            "Null Space =\n",
            " []\n",
            "\n",
            "Example 19\n",
            "Column Space =\n",
            " [Matrix([\n",
            "[1],\n",
            "[2]]), Matrix([\n",
            "[-2],\n",
            "[ 0]])]\n",
            "Row Space =\n",
            " [Matrix([[1, -2, -4, 0]]), Matrix([[0, 4, 7, -3]])]\n",
            "Null Space =\n",
            " [Matrix([\n",
            "[ 1/2],\n",
            "[-7/4],\n",
            "[   1],\n",
            "[   0]]), Matrix([\n",
            "[3/2],\n",
            "[3/4],\n",
            "[  0],\n",
            "[  1]])]\n",
            "\n",
            "Example 20\n",
            "Column Space =\n",
            " [Matrix([\n",
            "[-5],\n",
            "[ 5],\n",
            "[-5]]), Matrix([\n",
            "[  9],\n",
            "[-10],\n",
            "[ 11]])]\n",
            "Row Space =\n",
            " [Matrix([[-5, 9, -20]]), Matrix([[0, 5, 0]])]\n",
            "Null Space =\n",
            " [Matrix([\n",
            "[-4],\n",
            "[ 0],\n",
            "[ 1]])]\n",
            "\n",
            "Example 21\n",
            "Column Space =\n",
            " [Matrix([\n",
            "[1],\n",
            "[1],\n",
            "[1]]), Matrix([\n",
            "[2],\n",
            "[3],\n",
            "[4]])]\n",
            "Row Space =\n",
            " [Matrix([[1, 2, 1]]), Matrix([[0, 1, 0]])]\n",
            "Null Space =\n",
            " [Matrix([\n",
            "[-1],\n",
            "[ 0],\n",
            "[ 1]])]\n",
            "\n",
            "Example 22\n",
            "Column Space =\n",
            " [Matrix([\n",
            "[-6],\n",
            "[ 9]])]\n",
            "Row Space =\n",
            " [Matrix([[-6, -4, 4, -6]])]\n",
            "Null Space =\n",
            " [Matrix([\n",
            "[-2/3],\n",
            "[   1],\n",
            "[   0],\n",
            "[   0]]), Matrix([\n",
            "[2/3],\n",
            "[  0],\n",
            "[  1],\n",
            "[  0]]), Matrix([\n",
            "[-1],\n",
            "[ 0],\n",
            "[ 0],\n",
            "[ 1]])]\n",
            "\n",
            "Example 23\n",
            "Column Space =\n",
            " [Matrix([\n",
            "[-3],\n",
            "[ 2],\n",
            "[-5],\n",
            "[-2]]), Matrix([\n",
            "[ 8],\n",
            "[ 2],\n",
            "[ 6],\n",
            "[-2]])]\n",
            "Row Space =\n",
            " [Matrix([[-3, 8, -2, -11]]), Matrix([[0, -22, -11, 22]])]\n",
            "Null Space =\n",
            " [Matrix([\n",
            "[  -2],\n",
            "[-1/2],\n",
            "[   1],\n",
            "[   0]]), Matrix([\n",
            "[-1],\n",
            "[ 1],\n",
            "[ 0],\n",
            "[ 1]])]\n",
            "\n",
            "Example 24\n",
            "Column Space =\n",
            " [Matrix([\n",
            "[1],\n",
            "[3],\n",
            "[0],\n",
            "[0]]), Matrix([\n",
            "[ 0],\n",
            "[ 0],\n",
            "[-1],\n",
            "[-2]])]\n",
            "Row Space =\n",
            " [Matrix([[1, -5, 0, -3, -1]]), Matrix([[0, 0, -1, 2, -4]])]\n",
            "Null Space =\n",
            " [Matrix([\n",
            "[5],\n",
            "[1],\n",
            "[0],\n",
            "[0],\n",
            "[0]]), Matrix([\n",
            "[3],\n",
            "[0],\n",
            "[2],\n",
            "[1],\n",
            "[0]]), Matrix([\n",
            "[ 1],\n",
            "[ 0],\n",
            "[-4],\n",
            "[ 0],\n",
            "[ 1]])]\n",
            "\n",
            "Example 25\n",
            "Column Space =\n",
            " [Matrix([\n",
            "[1],\n",
            "[5],\n",
            "[0],\n",
            "[0],\n",
            "[0]]), Matrix([\n",
            "[ 0],\n",
            "[ 0],\n",
            "[-3],\n",
            "[ 1],\n",
            "[-2]]), Matrix([\n",
            "[ 0],\n",
            "[ 0],\n",
            "[ 2],\n",
            "[-1],\n",
            "[ 1]]), Matrix([\n",
            "[-1],\n",
            "[ 5],\n",
            "[-9],\n",
            "[ 4],\n",
            "[-5]])]\n",
            "Row Space =\n",
            " [Matrix([[1, 0, -3, 0, 1, -1]]), Matrix([[0, -3, 6, 2, -11, -9]]), Matrix([[0, 0, 0, 1, -1, -3]]), Matrix([[0, 0, 0, 0, 0, 10]])]\n",
            "Null Space =\n",
            " [Matrix([\n",
            "[3],\n",
            "[2],\n",
            "[1],\n",
            "[0],\n",
            "[0],\n",
            "[0]]), Matrix([\n",
            "[-1],\n",
            "[-3],\n",
            "[ 0],\n",
            "[ 1],\n",
            "[ 1],\n",
            "[ 0]])]\n",
            "\n",
            "Example 26\n",
            "Column Space =\n",
            " [Matrix([\n",
            "[-1],\n",
            "[ 1],\n",
            "[ 1],\n",
            "[ 1],\n",
            "[-4]]), Matrix([\n",
            "[ 3],\n",
            "[ 2],\n",
            "[-8],\n",
            "[-8],\n",
            "[ 2]]), Matrix([\n",
            "[  1],\n",
            "[  9],\n",
            "[-10],\n",
            "[-11],\n",
            "[-16]])]\n",
            "Row Space =\n",
            " [Matrix([[-1, 3, 1, 1, 0]]), Matrix([[0, -5, -5, -10, 0]]), Matrix([[0, 0, 0, 5, 0]])]\n",
            "Null Space =\n",
            " [Matrix([\n",
            "[-2],\n",
            "[-1],\n",
            "[ 1],\n",
            "[ 0],\n",
            "[ 0]]), Matrix([\n",
            "[0],\n",
            "[0],\n",
            "[0],\n",
            "[0],\n",
            "[1]])]\n",
            "\n",
            "Example 27\n",
            "Column Space =\n",
            " [Matrix([\n",
            "[2],\n",
            "[2],\n",
            "[4],\n",
            "[5]]), Matrix([\n",
            "[-1],\n",
            "[-3],\n",
            "[-4],\n",
            "[-3]]), Matrix([\n",
            "[ 3],\n",
            "[ 4],\n",
            "[ 3],\n",
            "[13]])]\n",
            "Row Space =\n",
            " [Matrix([[2, -1, 3]]), Matrix([[0, -4, 2]]), Matrix([[0, 0, 32]])]\n",
            "Null Space =\n",
            " []\n"
          ]
        }
      ]
    },
    {
      "cell_type": "markdown",
      "metadata": {
        "id": "lquJPJU37qCk"
      },
      "source": [
        "##### Definition 1.2.1.6 - Linear Independence"
      ]
    },
    {
      "cell_type": "markdown",
      "metadata": {
        "id": "pjhyv3rU7qCk"
      },
      "source": [
        "A list of vectors $\\textbf{v}_1, \\textbf{v}_2, \\ldots, \\textbf{v}_n$ in a vector space $V$ are linearly independent if none of them can be written as a linear combination of the others; that is, for all $i \\in \\mathbb{Z}^+$,\n",
        "\\begin{equation*}\n",
        "    \\mathbf{v}_i \\notin \\text{span}(\\{\\mathbf{u}_j \\ : \\ i \\neq j\\})\n",
        "\\end{equation*}\n",
        "Alternatively, a list of vectors $\\textbf{v}_1, \\textbf{v}_2, \\ldots, \\textbf{v}_n$ in a vector space $V$ are linearly independent if for scalars $c_1, c_2, \\ldots, c_n \\in \\mathbb{R}$,\n",
        "\\begin{equation*}\n",
        "    c_1\\mathbf{v}_1 + c_2\\mathbf{v}_2 + \\cdots + c_n\\mathbf{v}_n = \\textbf{0}\n",
        "\\end{equation*}\n",
        "implying that $c_1, c_2, \\ldots, c_n = 0$."
      ]
    },
    {
      "cell_type": "markdown",
      "metadata": {
        "id": "cO8vtnZa7qCk"
      },
      "source": [
        "##### Definition 1.2.1.7 - Linear Dependence"
      ]
    },
    {
      "cell_type": "markdown",
      "metadata": {
        "id": "aGkpwa2v7qCk"
      },
      "source": [
        "A list of vectors $\\textbf{v}_1, \\textbf{v}_2, \\ldots, \\textbf{v}_n$ in a vector space $V$ are linearly dependent if there exists scalars $c_1, c_2, \\ldots, c_n \\in \\mathbb{R}$, not all zero, such that\n",
        "\\begin{equation*}\n",
        "    c_1\\mathbf{v}_1 + c_2\\mathbf{v}_2 + \\cdots + c_n\\mathbf{v}_n = \\textbf{0}\n",
        "\\end{equation*}\n",
        "Equivalently, a list of vectors is linearly dependent if it is not linearly independent."
      ]
    },
    {
      "cell_type": "markdown",
      "metadata": {
        "id": "VSU7fgjm7qCl"
      },
      "source": [
        "##### Lemma 1.2.1.8 - Determination of Scalars for Linear Independence/Depedence"
      ]
    },
    {
      "cell_type": "markdown",
      "metadata": {
        "id": "OlKQHNLI7qCl"
      },
      "source": [
        "The vectors $\\mathbf{v}_1, \\mathbf{v}_2, \\ldots, \\mathbf{v}_n$ are linearly independent if and only if for all $i \\in \\mathbf{Z}$,\n",
        "\\begin{equation*}\n",
        "    \\sum_{i = 0}^n \\alpha_i\\mathbf{v}_i = \\textbf{0} \\to \\alpha_i = 0\n",
        "\\end{equation*}\n",
        "Equivalently, the vectors $\\mathbf{v}_1, \\mathbf{v}_2, \\ldots, \\mathbf{v}_n$ are linearly dependent if and only if for all $i \\in \\mathbb{Z}$, there exists some $\\alpha_i$, not all zero, such that\n",
        "\\begin{equation*}\n",
        "    \\sum_{i = 0}^n \\alpha_i\\mathbf{v}_i = 0\n",
        "\\end{equation*}"
      ]
    },
    {
      "cell_type": "code",
      "execution_count": 97,
      "metadata": {
        "colab": {
          "base_uri": "https://localhost:8080/"
        },
        "id": "p6fVzVJp7qCl",
        "outputId": "8d1d852b-5b32-4883-d233-a5c37d1aa412"
      },
      "outputs": [
        {
          "output_type": "stream",
          "name": "stdout",
          "text": [
            "Example 1\n",
            "Some columns of this matrix are linearly dependent vectors.\n",
            "\n",
            "Example 2\n",
            "All columns of this matrix are linearly independent vectors.\n",
            "\n",
            "Example 3\n",
            "Some columns of this matrix are linearly dependent vectors.\n",
            "\n",
            "Example 4\n",
            "All columns of this matrix are linearly independent vectors.\n",
            "\n",
            "Example 5\n",
            "Some columns of this matrix are linearly dependent vectors.\n",
            "\n",
            "Example 6\n",
            "Some columns of this matrix are linearly dependent vectors.\n",
            "\n",
            "Example 7\n",
            "Some columns of this matrix are linearly dependent vectors.\n",
            "\n",
            "Example 8\n",
            "Some columns of this matrix are linearly dependent vectors.\n",
            "\n",
            "Example 9\n",
            "All columns of this matrix are linearly independent vectors.\n",
            "\n",
            "Example 10\n",
            "Some columns of this matrix are linearly dependent vectors.\n",
            "\n",
            "Example 11\n",
            "Some columns of this matrix are linearly dependent vectors.\n",
            "\n",
            "Example 12\n",
            "Some columns of this matrix are linearly dependent vectors.\n",
            "\n",
            "Example 13\n",
            "All columns of this matrix are linearly independent vectors.\n",
            "\n",
            "Example 14\n",
            "All columns of this matrix are linearly independent vectors.\n",
            "\n",
            "Example 15\n",
            "Some columns of this matrix are linearly dependent vectors.\n",
            "\n",
            "Example 16\n",
            "Some columns of this matrix are linearly dependent vectors.\n",
            "\n",
            "Example 17\n",
            "Some columns of this matrix are linearly dependent vectors.\n",
            "\n",
            "Example 18\n",
            "All columns of this matrix are linearly independent vectors.\n",
            "\n",
            "Example 19\n",
            "Some columns of this matrix are linearly dependent vectors.\n",
            "\n",
            "Example 20\n",
            "All columns of this matrix are linearly independent vectors.\n",
            "\n",
            "Example 21\n",
            "Some columns of this matrix are linearly dependent vectors.\n",
            "\n",
            "Example 22\n",
            "Some columns of this matrix are linearly dependent vectors.\n",
            "\n",
            "Example 23\n",
            "Some columns of this matrix are linearly dependent vectors.\n",
            "\n",
            "Example 24\n",
            "All columns of this matrix are linearly independent vectors.\n",
            "\n",
            "Example 25\n",
            "Some columns of this matrix are linearly dependent vectors.\n",
            "\n",
            "Example 26\n",
            "All columns of this matrix are linearly independent vectors.\n",
            "\n",
            "Example 27\n",
            "Some columns of this matrix are linearly dependent vectors.\n",
            "\n",
            "Example 28\n",
            "Some columns of this matrix are linearly dependent vectors.\n"
          ]
        }
      ],
      "source": [
        "def Checking_Linear_Independence_or_Dependence(matrix, column):\n",
        "    fulllinIndpTuple = tuple(np.arange(column))\n",
        "    (rrefMatrix, linIndpCol) = sp.Matrix(matrix).T.rref()\n",
        "    if linIndpCol == fulllinIndpTuple or column == 1:\n",
        "        print(\"All columns of this matrix are linearly independent vectors.\")\n",
        "    else:\n",
        "        print(\"Some columns of this matrix are linearly dependent vectors.\")\n",
        "\n",
        "print('Example 1')\n",
        "matrixA = np.array([[1, -2, -1],[-1, 3, 3],[2, 1, 8]])\n",
        "(row, column) = matrixA.shape;\n",
        "Checking_Linear_Independence_or_Dependence(matrixA, column)\n",
        "print('\\nExample 2')\n",
        "matrixA = np.array([[1, 1],[1, 2]])\n",
        "(row, column) = matrixA.shape;\n",
        "Checking_Linear_Independence_or_Dependence(matrixA, column)\n",
        "print('\\nExample 3')\n",
        "matrixA = np.array([[1, 2, 3]])\n",
        "(row, column) = matrixA.shape;\n",
        "Checking_Linear_Independence_or_Dependence(matrixA, column)\n",
        "print('\\nExample 4')\n",
        "matrixA = np.array([[1, 1, 1], [1, 1, 0], [1, 0, 0]])\n",
        "(row, column) = matrixA.shape;\n",
        "Checking_Linear_Independence_or_Dependence(matrixA, column)\n",
        "print('\\nExample 5')\n",
        "matrixA = np.array([[1, 0, 1], [0, 1, 0]])\n",
        "(row, column) = matrixA.shape;\n",
        "Checking_Linear_Independence_or_Dependence(matrixA, column)\n",
        "print('\\nExample 6')\n",
        "matrixA = np.array([[1, 2, 4], [2, 1, 3], [4, -1, 1]])\n",
        "(row, column) = matrixA.shape;\n",
        "Checking_Linear_Independence_or_Dependence(matrixA, column)\n",
        "print('\\nExample 7')\n",
        "matrixA = np.array([[4, 2, 2], [2, 3, -5], [3, 1, 3]])\n",
        "(row, column) = matrixA.shape;\n",
        "Checking_Linear_Independence_or_Dependence(matrixA, column)\n",
        "print('\\nExample 8')\n",
        "matrixA = np.array([[1, -2, 1],[-1, 3, 0],[2, 1, 7],[3, -2, 7]])\n",
        "(row, column) = matrixA.shape;\n",
        "Checking_Linear_Independence_or_Dependence(matrixA, column)\n",
        "print('\\nExample 9')\n",
        "matrixA = np.array([[2, 3],[1, 2]])\n",
        "(row, column) = matrixA.shape;\n",
        "Checking_Linear_Independence_or_Dependence(matrixA, column)\n",
        "print('\\nExample 10')\n",
        "matrixA = np.array([[2, 4],[3, 6]])\n",
        "(row, column) = matrixA.shape;\n",
        "Checking_Linear_Independence_or_Dependence(matrixA, column)\n",
        "print('\\nExample 11')\n",
        "matrixA = np.array([[-2, 1, 2],[1, 3, 4]])\n",
        "(row, column) = matrixA.shape;\n",
        "Checking_Linear_Independence_or_Dependence(matrixA, column)\n",
        "print('\\nExample 12')\n",
        "matrixA = np.array([[-1, 1, 2],[2, -2, -4]])\n",
        "(row, column) = matrixA.shape;\n",
        "Checking_Linear_Independence_or_Dependence(matrixA, column)\n",
        "print('\\nExample 13')\n",
        "matrixA = np.array([[1, -1],[2, 1]])\n",
        "(row, column) = matrixA.shape;\n",
        "Checking_Linear_Independence_or_Dependence(matrixA, column)\n",
        "print('\\nExample 14')\n",
        "matrixA = np.array([[1, 0, 1],[0, 1, 0],[0, 1, 1]])\n",
        "(row, column) = matrixA.shape;\n",
        "Checking_Linear_Independence_or_Dependence(matrixA, column)\n",
        "print('\\nExample 15')\n",
        "matrixA = np.array([[1, 0, 1, 1],[0, 1, 0, 2],[0, 1, 1, 3]])\n",
        "(row, column) = matrixA.shape;\n",
        "Checking_Linear_Independence_or_Dependence(matrixA, column)\n",
        "print('\\nExample 16')\n",
        "matrixA = np.array([[2, 3, 2], [1, 2, 2], [-2, -2, 0]])\n",
        "(row, column) = matrixA.shape;\n",
        "Checking_Linear_Independence_or_Dependence(matrixA, column)\n",
        "print('\\nExample 17')\n",
        "matrixA = np.array([[2, -2, 4], [1, -1, 2], [-2, 2, -4]])\n",
        "(row, column) = matrixA.shape;\n",
        "Checking_Linear_Independence_or_Dependence(matrixA, column)\n",
        "print('\\nExample 18')\n",
        "matrixA = np.array([[1, 0],[1, 2],[3, 1]])\n",
        "(row, column) = matrixA.shape;\n",
        "Checking_Linear_Independence_or_Dependence(matrixA, column)\n",
        "print('\\nExample 19')\n",
        "matrixA = np.array([[7, -1, 1],[-13, 3, -1],[-19, 1, -4]])\n",
        "(row, column) = matrixA.shape;\n",
        "Checking_Linear_Independence_or_Dependence(matrixA, column)\n",
        "print('\\nExample 20')\n",
        "matrixA = np.array([[8, 4, 12],[-4, -1, -7],[3, 2, 9]])\n",
        "(row, column) = matrixA.shape;\n",
        "Checking_Linear_Independence_or_Dependence(matrixA, column)\n",
        "print('\\nExample 21')\n",
        "matrixA = np.array([[-2, 0, 1, -2],[3, 1, -2, -3],[3, 0, -2, 2],[-2, -1, 1, 3]])\n",
        "(row, column) = matrixA.shape;\n",
        "Checking_Linear_Independence_or_Dependence(matrixA, column)\n",
        "print('\\nExample 22')\n",
        "matrixA = np.array([[2, 3, -4],[2, 6, -5],[2, 0, -3]])\n",
        "(row, column) = matrixA.shape;\n",
        "Checking_Linear_Independence_or_Dependence(matrixA, column)\n",
        "print('\\nExample 23')\n",
        "matrixA = np.array([[0, -7],[0, 3]])\n",
        "(row, column) = matrixA.shape;\n",
        "Checking_Linear_Independence_or_Dependence(matrixA, column)\n",
        "print('\\nExample 24')\n",
        "matrixA = np.array([[-2, 6]])\n",
        "(row, column) = matrixA.T.shape;\n",
        "Checking_Linear_Independence_or_Dependence(matrixA.T, column)\n",
        "print('\\nExample 25')\n",
        "matrixA = np.array([[-7, 8, 15],[-4, 7, 11],[-5, -3, 2]])\n",
        "(row, column) = matrixA.shape;\n",
        "Checking_Linear_Independence_or_Dependence(matrixA, column)\n",
        "print('\\nExample 26')\n",
        "matrixA = np.array([[1, -8],[5, 1]])\n",
        "(row, column) = matrixA.shape;\n",
        "Checking_Linear_Independence_or_Dependence(matrixA, column)\n",
        "print('\\nExample 27')\n",
        "matrixA = np.array([[-8, 5, 6],[3, -2, 9],[0, 0, 0]])\n",
        "(row, column) = matrixA.shape;\n",
        "Checking_Linear_Independence_or_Dependence(matrixA, column)\n",
        "print('\\nExample 28')\n",
        "matrixA = np.array([[1, 4, 2, -1]])\n",
        "(row, column) = matrixA.shape;\n",
        "Checking_Linear_Independence_or_Dependence(matrixA, column)"
      ]
    },
    {
      "cell_type": "markdown",
      "metadata": {
        "id": "4lmcsfxK7qCm"
      },
      "source": [
        "##### Definition 1.2.1.9 - Basis of a Vector Space"
      ]
    },
    {
      "cell_type": "markdown",
      "metadata": {
        "id": "NQItaTIN7qCm"
      },
      "source": [
        "The vectors $\\mathbf{v}_1, \\mathbf{v}_2, \\ldots, \\mathbf{v}_n$ form a basis for a vector space $V$ if and only if\n",
        "- $\\mathbf{v}_1, \\mathbf{v}_2, \\ldots, \\mathbf{v}_n$ are linearly independent\n",
        "- $\\mathbf{v}_1, \\mathbf{v}_2, \\ldots, \\mathbf{v}_n$ span $V$"
      ]
    },
    {
      "cell_type": "markdown",
      "metadata": {
        "id": "zeu1sAy37qCm"
      },
      "source": [
        "##### Theorem 1.2.1.10 - Relationship Between Basis and Linear Dependence"
      ]
    },
    {
      "cell_type": "markdown",
      "metadata": {
        "id": "GS0V5jeu7qCm"
      },
      "source": [
        "If the vectors $\\mathbf{v}_1, \\mathbf{v}_2, \\ldots, \\mathbf{v}_n$ span the vector space $V$, then any collection of $m$ vectors in $V$, where $m > n$, is linearly dependent."
      ]
    },
    {
      "cell_type": "markdown",
      "metadata": {
        "id": "zWPiO94R7qCm"
      },
      "source": [
        "##### Corollary 1.2.1.11"
      ]
    },
    {
      "cell_type": "markdown",
      "metadata": {
        "id": "gx3ynXeC7qCn"
      },
      "source": [
        "If both vectors $\\mathbf{u}_1, \\mathbf{u}_2, \\ldots, \\mathbf{u}_m$ and $\\mathbf{v}_1, \\mathbf{v}_2, \\ldots, \\mathbf{v}_n$ are bases for a vector space $V$, then $m = n$."
      ]
    },
    {
      "cell_type": "markdown",
      "metadata": {
        "id": "sdt4FZ3M7qCn"
      },
      "source": [
        "##### Definition 1.2.1.12 - Dimension of a Vector Space"
      ]
    },
    {
      "cell_type": "markdown",
      "metadata": {
        "id": "HEYsmDme7qCn"
      },
      "source": [
        "Let $V$ be a vector space. If $V$ has a basis consisting of $n$ vectors, we say that $V$ has dimension $n$, denoted as $\\text{div}(V) = n$. The subspace $\\{\\textbf{0}\\}$ of $V$ is said to have dimension $n = 0$. $V$ is said to be finite dimensional is there is a finite set of vectors that spans $V$; otherwise, we say that $V$ is infinite dimensional."
      ]
    },
    {
      "cell_type": "markdown",
      "metadata": {
        "id": "FBmMA5sp7qCn"
      },
      "source": [
        "##### Lemma 1.2.1.13 - Characterization of Linearly Dependent Sets"
      ]
    },
    {
      "cell_type": "markdown",
      "metadata": {
        "id": "a_LgwtAv7qCn"
      },
      "source": [
        "Let vectors $\\mathbf{u}_1, \\mathbf{u}_2, \\ldots, \\mathbf{u}_m$ be a linearly dependent set of vectors with a subset of linearly independent vectors $\\{\\mathbf{u}_i \\ : \\ i \\in \\{1, 2, \\ldots, m\\}, \\ k < m, \\ k \\in \\mathbb{Z}\\}$. Then, there exists an $i > k$ such that\n",
        "- $\\mathbf{u}_i \\in \\text{span}(\\mathbf{u}_1, \\mathbf{u}_2, \\ldots, \\mathbf{u}_{i - 1})$\n",
        "- $\\text{span}(\\{\\mathbf{u}_j \\ : \\ j \\in \\{1, 2, \\ldots, m\\}\\}) = \\text{span}(\\{\\mathbf{u}_j \\ : \\ j \\in \\{1, 2, \\ldots, m\\}, \\ i \\neq j\\})$"
      ]
    },
    {
      "cell_type": "markdown",
      "metadata": {
        "id": "9HXQB5jg7qCo"
      },
      "source": [
        "##### Theorem 1.2.1.14 - Properties of Dimension"
      ]
    },
    {
      "cell_type": "markdown",
      "metadata": {
        "id": "XLDC92Rt7qCo"
      },
      "source": [
        "If $V$ is a vector space of dimension $n > 0$, then\n",
        "- any set of $n$ linearly independent vectors span $n$\n",
        "- any $n$ vectors that span $V$ are linearly independent\n",
        "- no set of fewer than $n$ vectors can span $V$\n",
        "- any subset of fewer than $n$ linearly independent vectors can be extended to form a basis for $V$\n",
        "- any spanning set containing more than $n$ vectors can be pared down to (reduced to) form a basis for $V$"
      ]
    },
    {
      "cell_type": "markdown",
      "metadata": {
        "id": "ooS5Ojd17qCo"
      },
      "source": [
        "### **1.2.2 - Orthogonality**"
      ]
    },
    {
      "cell_type": "markdown",
      "metadata": {
        "id": "7Dl5X_nD7qCo"
      },
      "source": [
        "##### Definition 1.2.2.1 - Inner Product of Vectors"
      ]
    },
    {
      "cell_type": "markdown",
      "metadata": {
        "id": "xbGjaHOy7qCo"
      },
      "source": [
        "An inner product (dot product) on a vector space $V$ is an operation on $V$ that assigns, to each pair of vectors $\\mathbf{u}$ and $\\mathbf{v}$, satisfying the following conditions\n",
        "- $\\langle \\mathbf{u}, \\mathbf{u} \\rangle \\geq 0$ with equality if and only if $\\mathbf{u} = \\mathbf{0}$\n",
        "- $\\langle \\mathbf{x}, \\mathbf{y} \\rangle = \\langle \\mathbf{y}, \\mathbf{x} \\rangle$ for all $\\mathbf{x}, \\mathbf{y} \\in V$\n",
        "- $\\langle \\alpha\\mathbf{x} + \\beta\\mathbf{y}, \\mathbf{z} \\rangle = \\langle \\alpha\\mathbf{x}, \\mathbf{z} \\rangle + \\langle \\beta\\mathbf{y}, \\mathbf{z} \\rangle$ for all $\\mathbf{x}, \\mathbf{y}, \\mathbf{z} \\in V$ and all scalars $\\alpha, \\beta \\in \\mathbb{R}$"
      ]
    },
    {
      "cell_type": "markdown",
      "metadata": {
        "id": "AtMgqdKP7qCo"
      },
      "source": [
        "##### Definition 1.2.2.2 - Norm of a Vector"
      ]
    },
    {
      "cell_type": "markdown",
      "metadata": {
        "id": "LvbdZFHu7qCo"
      },
      "source": [
        "If vector $\\mathbf{v}$ is in an inner product space $V$, then the norm (length) of $\\mathbf{v}$ is\n",
        "\\begin{equation*}\n",
        "    ||\\mathbf{v}|| = \\sqrt{\\langle v, v \\rangle} = \\sqrt{\\displaystyle\\sum_{i = 1}^n \\mathbf{v}_i^2}\n",
        "\\end{equation*}\n",
        "If vectors $\\mathbf{u}, \\mathbf{v}$ are vectors in a normed linear space, the distance between $\\mathbf{u}$ and $\\mathbf{v}$ is $||\\mathbf{v} - \\mathbf{u}||$."
      ]
    },
    {
      "cell_type": "markdown",
      "metadata": {
        "id": "EY7jsBtA7qCp"
      },
      "source": [
        "##### Definition 1.2.2.3 - Orthonormal Sets"
      ]
    },
    {
      "cell_type": "markdown",
      "metadata": {
        "id": "WKHZjZVT7qCp"
      },
      "source": [
        "A set of vectors $\\{\\mathbf{v}_1, \\mathbf{v}_2, \\ldots, \\mathbf{v}_m\\}$ in a vectors space $V$ is orthonormal if for some $i, j$, where $i \\neq j$, $\\mathbf{v}_i, \\mathbf{v}_j$ are pairwise orthogonal and vectors $\\mathbf{v}_i, \\mathbf{v}_j$ each have length 1; that is, $\\langle \\mathbf{v}_i, \\mathbf{v}_j \\rangle = 0$ and $||\\mathbf{v}_i||, ||\\mathbf{v}_j|| = 1$. Concisely, an orthonormal set of vectors is an orthogonal set of unit vectors."
      ]
    },
    {
      "cell_type": "markdown",
      "metadata": {
        "id": "LJdWOXnS7qCp"
      },
      "source": [
        "##### Lemma 1.2.2.4 - Properties of Orthonormal Sets"
      ]
    },
    {
      "cell_type": "markdown",
      "metadata": {
        "id": "CaRkeCZd7qCp"
      },
      "source": [
        "Let $\\{\\mathbf{v}_1, \\mathbf{v}_2, \\ldots, \\mathbf{v}_m\\}$ be an orthonormal set of vectors. Then,\n",
        "- $\\left|\\left|\\displaystyle\\sum_{i = 1}^m \\alpha_i\\mathbf{v}_i\\right|\\right| = \\displaystyle\\sum_{i = 1}^m \\alpha_i^2$ for any $\\alpha_i \\in \\mathbb{R}$, $i \\in \\{1, 2, \\ldots, m\\}$\n",
        "- $\\{\\mathbf{v}_1, \\mathbf{v}_2, \\ldots, \\mathbf{v}_m\\}$ are linearly independent"
      ]
    },
    {
      "cell_type": "markdown",
      "metadata": {
        "id": "WCp_cjU47qCp"
      },
      "source": [
        "##### Theorem 1.2.2.5 - Orthonormal Basis Expansion"
      ]
    },
    {
      "cell_type": "markdown",
      "metadata": {
        "id": "WNMhqvW67qCp"
      },
      "source": [
        "Let $\\{\\mathbf{u}_1, \\mathbf{u}_2, \\ldots, \\mathbf{u}_n\\}$ be an orthonormal basis for an inner product space $V$. If $\\mathbf{v} = \\displaystyle\\sum_{i = 1}^n c_i\\mathbf{u}_i$, then $c_i = \\langle \\mathbf{v}, \\mathbf{u}_i \\rangle$, or, alternatively,\n",
        "\\begin{equation*}\n",
        "    \\mathbf{v} = \\displaystyle\\sum_{i = 1}^n \\langle \\mathbf{v}, \\mathbf{u}_i \\rangle\\mathbf{u}_i\n",
        "\\end{equation*}"
      ]
    },
    {
      "cell_type": "markdown",
      "metadata": {
        "id": "B4_wzanC7qCp"
      },
      "source": [
        "##### Corollary 1.2.2.6"
      ]
    },
    {
      "cell_type": "markdown",
      "metadata": {
        "id": "p_K0WkXV7qCp"
      },
      "source": [
        "Let $\\{\\mathbf{u}_1, \\mathbf{u}_2, \\ldots, \\mathbf{u}_n\\}$ be an orthonormal basis for an inner product space $V$. If $\\mathbf{u} = \\displaystyle\\sum_{i = 1}^n a_i\\mathbf{u}_i$ and $\\mathbf{v} = \\displaystyle\\sum_{i = 1}^n b_i\\mathbf{u}_i$, then\n",
        "\\begin{equation*}\n",
        "    \\langle \\mathbf{u}, \\mathbf{v} \\rangle = \\sum_{i = 1}^n a_ib_i\n",
        "\\end{equation*}"
      ]
    },
    {
      "cell_type": "markdown",
      "metadata": {
        "id": "ZcioJyW27qCp"
      },
      "source": [
        "##### Corollary 1.2.2.7 - Parseval's Formula"
      ]
    },
    {
      "cell_type": "markdown",
      "metadata": {
        "id": "KdI7HxKl7qCp"
      },
      "source": [
        "If $\\{\\mathbf{u}_1, \\mathbf{u}_2, \\ldots, \\mathbf{u}_n\\}$ is an orthonormal basis for an inner product space $V$ and $\\mathbf{v} = \\displaystyle\\sum_{i = 1}^n c_i\\mathbf{u}_i$, then\n",
        "\\begin{equation*}\n",
        "    ||\\mathbf{v}||^2 = \\sum_{i = 1}^n c_i^2\n",
        "\\end{equation*}"
      ]
    },
    {
      "cell_type": "markdown",
      "metadata": {
        "id": "ApQoo6hS7qCp"
      },
      "source": [
        "##### Definition 1.2.2.8 - Orthogonal Projection"
      ]
    },
    {
      "cell_type": "markdown",
      "metadata": {
        "id": "noUCC7mW7qCq"
      },
      "source": [
        "Let $U \\subseteq V$ be a linear subspace of vector space $V$ with an orthonormal basis $\\mathbf{q}_1, \\mathbf{q}_2, \\ldots, \\mathbf{q}_n$. The orthogonal projection of $\\mathbf{v} \\in V$ on $U$ is\n",
        "\\begin{equation*}\n",
        "    \\text{proj}_{U}V = \\sum_{i = i}^n \\langle \\mathbf{v}, \\mathbf{q}_i \\rangle\\mathbf{q}_i\n",
        "\\end{equation*}"
      ]
    },
    {
      "cell_type": "markdown",
      "metadata": {
        "id": "Eby3sSqL7qCq"
      },
      "source": [
        "##### Theorem 1.2.2.9 - Best Approximation Theorem"
      ]
    },
    {
      "cell_type": "markdown",
      "metadata": {
        "id": "I4Vc2uaa7qCq"
      },
      "source": [
        "Let $U \\subseteq V$ be a linear subspace with orthonormal basis $\\mathbf{q}_1, \\mathbf{q}_2, \\ldots, \\mathbf{q}_n$. Let $\\mathbf{v} \\in V$. For any $\\mathbf{u} \\in U$,\n",
        "\\begin{equation*}\n",
        "    ||\\mathbf{v} - \\text{proj}_{U}V|| \\leq ||\\mathbf{v} - \\mathbf{u}||\n",
        "\\end{equation*}\n",
        "Equality is achieved when $\\mathbf{u} = \\text{proj}_{U}V$."
      ]
    },
    {
      "cell_type": "markdown",
      "metadata": {
        "id": "ysd5XR7S7qCq"
      },
      "source": [
        "##### Lemma 1.2.2.10 - Vector Form of the Pythagorean Theorem"
      ]
    },
    {
      "cell_type": "markdown",
      "metadata": {
        "id": "4_ipVeD_7qCq"
      },
      "source": [
        "Let $\\mathbf{u}, \\mathbf{v}$ be orthogonal vectors. Then, $||\\mathbf{u} + \\mathbf{v}||^2 = ||\\mathbf{u}||^2 + ||\\mathbf{v}||^2$."
      ]
    },
    {
      "cell_type": "markdown",
      "metadata": {
        "id": "IGoqbSmX7qCq"
      },
      "source": [
        "##### Lemma 1.2.2.11 - Vector Form of the Cauchy-Schwarz Inequality"
      ]
    },
    {
      "cell_type": "markdown",
      "metadata": {
        "id": "AVuSFDw07qCq"
      },
      "source": [
        "For any vectors $\\mathbf{u}, \\mathbf{v} \\in V$, $|\\langle \\mathbf{u}, \\mathbf{v} \\rangle| \\leq ||\\mathbf{u}||||\\mathbf{v}||$."
      ]
    },
    {
      "cell_type": "markdown",
      "metadata": {
        "id": "Q9fDSCYb7qCq"
      },
      "source": [
        "##### Lemma 1.2.2.12 - Orthogonal Decomposition"
      ]
    },
    {
      "cell_type": "markdown",
      "metadata": {
        "id": "E5aBr68M7qCq"
      },
      "source": [
        "Let $U \\subseteq V$ be a linear subspace with an orthonormal basis $\\mathbf{q}_1, \\mathbf{q}_2, \\ldots, \\mathbf{q}_n$. Let $\\mathbf{v} \\in V$. For any $\\mathbf{u} \\in U$, $\\langle \\mathbf{v} - \\text{proj}_{U}\\mathbf{v}, \\mathbf{u} \\rangle = 0$. In particular, $\\mathbf{v}$ can be decomposed as $(\\mathbf{v} - \\text{proj}_{U}\\mathbf{v}) + \\text{proj}_{U}\\mathbf{v}$, where these two terms are orthogonal."
      ]
    },
    {
      "cell_type": "markdown",
      "metadata": {
        "id": "wobbtCSR7qCq"
      },
      "source": [
        "### **1.2.3 - Gram-Schmidt Orthogonalization Process**"
      ]
    },
    {
      "cell_type": "markdown",
      "metadata": {
        "id": "cmDPFXjj7qCr"
      },
      "source": [
        "##### Theorem 1.2.3.1 - Gram-Schmidt Process"
      ]
    },
    {
      "cell_type": "markdown",
      "metadata": {
        "id": "pCn3r2r37qCr"
      },
      "source": [
        "Let $\\mathbf{v}_1, \\mathbf{v}_2, \\ldots, \\mathbf{v}_n \\in \\mathbb{R}^n$ be linearly independent. Then, there exists an orthonormal basis $\\mathbf{q}_1, \\mathbf{q}_2, \\ldots, \\mathbf{q}_n$ of $\\text{span}(\\mathbf{v}_1, \\mathbf{v}_2, \\ldots, \\mathbf{v}_n)$. The process to determine this orthonormal basis is shown below."
      ]
    },
    {
      "cell_type": "markdown",
      "metadata": {
        "id": "Yfr-JDVV7qCr"
      },
      "source": [
        "Let $\\{\\mathbf{v}_1, \\mathbf{v}_2, \\ldots, \\mathbf{v}_n\\}$ be a basis for the inner product space $V$. Let\n",
        "\\begin{equation*}\n",
        "    \\mathbf{u}_1 = \\frac{\\mathbf{v}_1}{||\\mathbf{v}_1||}\n",
        "\\end{equation*}\n",
        "and define $\\{\\mathbf{v}_2, \\ldots, \\mathbf{v}_n\\}$ recursively by\n",
        "\\begin{equation*}\n",
        "    \\mathbf{u}_{k + 1} = \\frac{\\mathbf{v}_{k + 1} - \\mathbf{p}_k}{||\\mathbf{v}_{k + 1} - \\mathbf{p}_k||} \\quad \\text{ for } k = 1, 2, \\cdots, n - 1\n",
        "\\end{equation*}\n",
        "where\n",
        "\\begin{equation*}\n",
        "    \\mathbf{p}_k = \\langle \\mathbf{x}_{k + 1}, \\mathbf{u}_1 \\rangle\\mathbf{u}_1 + \\langle \\mathbf{x}_{k + 1}, \\mathbf{u}_2 \\rangle\\mathbf{u}_2 + \\cdots + \\langle \\mathbf{x}_{k + 1}, \\mathbf{u}_k \\rangle\\mathbf{u}_k\n",
        "\\end{equation*}\n",
        "is the projection of $\\mathbf{x}_{k + 1}$ onto $\\text{span}(\\mathbf{u}_1, \\mathbf{u}_2, \\ldots, \\mathbf{u}_n)$. Then, the set\n",
        "\\begin{equation*}\n",
        "    \\{\\mathbf{u}_1, \\mathbf{u}_2, \\ldots, \\mathbf{u}_n\\}\n",
        "\\end{equation*}\n",
        "is an orthonormal basis for $V$."
      ]
    },
    {
      "cell_type": "code",
      "source": [
        "print('Example 1')\n",
        "A = np.array([[1, -2, -1],[2, 0, 1],[2, -4, 2],[4, 0, 0]], dtype = float)\n",
        "(Q, R) = np.linalg.qr(A)\n",
        "print('Q =\\n', Q)\n",
        "print('R =\\n', R)\n",
        "print('A = QR =\\n', np.dot(Q, R))\n",
        "print('\\nExample 2')\n",
        "A = np.array([[1, -2, -2],[4, 3, 2],[1 , 2, 1]], dtype = float)\n",
        "(Q, R) = np.linalg.qr(A)\n",
        "print('Q =\\n', Q)\n",
        "print('R =\\n', R)\n",
        "print('A = QR =\\n', np.dot(Q, R))\n",
        "print('\\nExample 3')\n",
        "A = np.array([[-8, 6, -7],[-4, 0, 1],[-8 , 3, 2]], dtype = float)\n",
        "(Q, R) = np.linalg.qr(A)\n",
        "print('Q =\\n', Q)\n",
        "print('R =\\n', R)\n",
        "print('A = QR =\\n', np.dot(Q, R))\n",
        "print('\\nExample 4')\n",
        "A = np.array([[1, 3],[0, 1],[1, 0]], dtype = float)\n",
        "(Q, R) = np.linalg.qr(A)\n",
        "print('Q =\\n', Q)\n",
        "print('R =\\n', R)\n",
        "print('A = QR =\\n', np.dot(Q, R))\n",
        "print('\\nExample 5')\n",
        "A = np.array([[-9, 11],[-6, -2],[-18, 36]], dtype = float)\n",
        "(Q, R) = np.linalg.qr(A)\n",
        "print('Q =\\n', Q)\n",
        "print('R =\\n', R)\n",
        "print('A = QR =\\n', np.dot(Q, R))\n",
        "print('\\nExample 6')\n",
        "A = np.array([[-4, 1, 5],[-2, -4, 13],[-4, 10, 2]], dtype = float)\n",
        "(Q, R) = np.linalg.qr(A)\n",
        "print('Q =\\n', Q)\n",
        "print('R =\\n', R)\n",
        "print('A = QR =\\n', np.dot(Q, R))"
      ],
      "metadata": {
        "colab": {
          "base_uri": "https://localhost:8080/"
        },
        "id": "kucNsl-IeOED",
        "outputId": "962de246-d41a-4c29-a77f-9831e9659704"
      },
      "execution_count": 89,
      "outputs": [
        {
          "output_type": "stream",
          "name": "stdout",
          "text": [
            "Example 1\n",
            "Q =\n",
            " [[-0.2  0.4  0.8]\n",
            " [-0.4 -0.2 -0.4]\n",
            " [-0.4  0.8 -0.4]\n",
            " [-0.8 -0.4  0.2]]\n",
            "R =\n",
            " [[-5.  2. -1.]\n",
            " [ 0. -4.  1.]\n",
            " [ 0.  0. -2.]]\n",
            "A = Q x R =\n",
            " [[ 1. -2. -1.]\n",
            " [ 2.  0.  1.]\n",
            " [ 2. -4.  2.]\n",
            " [ 4.  0. -0.]]\n",
            "\n",
            "Example 2\n",
            "Q =\n",
            " [[-0.2357  0.8889  0.3928]\n",
            " [-0.9428 -0.1111 -0.3143]\n",
            " [-0.2357 -0.4444  0.8642]]\n",
            "R =\n",
            " [[-4.2426 -2.8284 -1.6499]\n",
            " [ 0.     -3.     -2.4444]\n",
            " [ 0.      0.     -0.55  ]]\n",
            "A = Q x R =\n",
            " [[ 1. -2. -2.]\n",
            " [ 4.  3.  2.]\n",
            " [ 1.  2.  1.]]\n",
            "\n",
            "Example 3\n",
            "Q =\n",
            " [[-0.6667  0.6667 -0.3333]\n",
            " [-0.3333 -0.6667 -0.6667]\n",
            " [-0.6667 -0.3333  0.6667]]\n",
            "R =\n",
            " [[12. -6.  3.]\n",
            " [ 0.  3. -6.]\n",
            " [ 0.  0.  3.]]\n",
            "A = Q x R =\n",
            " [[-8.  6. -7.]\n",
            " [-4. -0.  1.]\n",
            " [-8.  3.  2.]]\n",
            "\n",
            "Example 4\n",
            "Q =\n",
            " [[-0.7071 -0.6396]\n",
            " [-0.     -0.4264]\n",
            " [-0.7071  0.6396]]\n",
            "R =\n",
            " [[-1.4142 -2.1213]\n",
            " [ 0.     -2.3452]]\n",
            "A = Q x R =\n",
            " [[ 1.  3.]\n",
            " [ 0.  1.]\n",
            " [ 1. -0.]]\n",
            "\n",
            "Example 5\n",
            "Q =\n",
            " [[-0.4286 -0.2857]\n",
            " [-0.2857 -0.8571]\n",
            " [-0.8571  0.4286]]\n",
            "R =\n",
            " [[ 21. -35.]\n",
            " [  0.  14.]]\n",
            "A = Q x R =\n",
            " [[ -9.  11.]\n",
            " [ -6.  -2.]\n",
            " [-18.  36.]]\n",
            "\n",
            "Example 6\n",
            "Q =\n",
            " [[-0.6667 -0.3333 -0.6667]\n",
            " [-0.3333 -0.6667  0.6667]\n",
            " [-0.6667  0.6667  0.3333]]\n",
            "R =\n",
            " [[ 6. -6. -9.]\n",
            " [ 0.  9. -9.]\n",
            " [ 0.  0.  6.]]\n",
            "A = Q x R =\n",
            " [[-4.  1.  5.]\n",
            " [-2. -4. 13.]\n",
            " [-4. 10.  2.]]\n"
          ]
        }
      ]
    },
    {
      "cell_type": "markdown",
      "metadata": {
        "id": "GHbfTWvT7qCr"
      },
      "source": [
        "### **1.2.4 - Eigenvalues and Eigenvectors**"
      ]
    },
    {
      "cell_type": "markdown",
      "metadata": {
        "id": "aJ7GxDxj7qCu"
      },
      "source": [
        "##### Definition 1.2.4.1 - Eigenvalues and Eigenvectors"
      ]
    },
    {
      "cell_type": "markdown",
      "metadata": {
        "id": "izHeqIh67qCu"
      },
      "source": [
        "Let $A \\in \\mathbb{R}^{d \\times d}$ be a $d \\times d$ square matrix. Then, $\\lambda \\in \\mathbb{R}$ is an eigenvalue (characteristic value) of $A$ if there exists a nonzero vector $\\mathbf{x} \\neq \\mathbf{0}$ such that\n",
        "\\begin{equation*}\n",
        "    A\\mathbf{x} = \\lambda\\mathbf{x}\n",
        "\\end{equation*}\n",
        "The vector $\\mathbf{x}$ is referred to as an eigenvector (characteristic vector) belonging to the eigenvalue $\\lambda$."
      ]
    },
    {
      "cell_type": "markdown",
      "metadata": {
        "id": "bq4fflAT7qCu"
      },
      "source": [
        "##### Lemma 1.2.4.2 = Properties of Eigenvalues"
      ]
    },
    {
      "cell_type": "markdown",
      "metadata": {
        "id": "KmoZRdgY7qCu"
      },
      "source": [
        "Let $A \\in \\mathbb{R}^{d \\times d}$ be a $d \\times d$ square matrix and let $\\lambda$ be a scalar. The following statements are equivalent.\n",
        "- $\\lambda$ is an eigenvalue of $A$\n",
        "- $(A - \\lambda I)\\mathbf{x} = \\textbf{0}$ has a nontrivial solution.\n",
        "- the nullspace $N(A - \\lambda I) \\neq \\{\\textbf{0}\\}$\n",
        "- $A - \\lambda I$ is singular\n",
        "- $\\text{det}(A - \\lambda I) = 0$"
      ]
    },
    {
      "cell_type": "markdown",
      "metadata": {
        "id": "phUi6NQR7qCu"
      },
      "source": [
        "##### Lemma 1.2.4.2 - Number of Eigenvalues"
      ]
    },
    {
      "cell_type": "markdown",
      "metadata": {
        "id": "VoqlW6nC7qCv"
      },
      "source": [
        "Let matrix $A \\in \\mathbb{R}^{d \\times d}$, and let $\\lambda_1, \\lambda_2, \\ldots, \\lambda_n$ be distinct eigenvalues of $A$ with the corresponding nonzero eigenvectors $\\mathbf{x}_1, \\mathbf{x}_2, \\ldots, \\mathbf{x}_n$. Then, $\\mathbf{x}_1, \\mathbf{x}_2, \\ldots, \\mathbf{x}_n$ are linearly independent, and $n \\leq q$; that is, $A \\in \\mathbb{R}^{d \\times d}$ has at most $d$ distinct eigenvalues."
      ]
    },
    {
      "cell_type": "code",
      "source": [
        "def Finding_Eigenvalues_and_Eigenvectors(matrix):\n",
        "  (eigenvalues, eigenvectors) = np.linalg.eig(matrix)\n",
        "  print('Eigenvalues:\\n', eigenvalues)\n",
        "  print('Eigenvectors:\\n', eigenvectors)\n",
        "\n",
        "print('Example 1')\n",
        "matrixA = np.array([[4, -2], [1, 1]], dtype = float)\n",
        "Finding_Eigenvalues_and_Eigenvectors(matrixA)\n",
        "print('\\nExample 2')\n",
        "matrixA = np.array([[3, 2], [3, -2]], dtype = float)\n",
        "Finding_Eigenvalues_and_Eigenvectors(matrixA)\n",
        "print('\\nExample 3')\n",
        "matrixA = np.array([[2, -3, 1], [1, -2, 1], [1, -3, 2]], dtype = float)\n",
        "Finding_Eigenvalues_and_Eigenvectors(matrixA)\n",
        "print('\\nExample 4')\n",
        "matrixA = np.array([[1, 2],[-2, 1]], dtype = float)\n",
        "Finding_Eigenvalues_and_Eigenvectors(matrixA)\n",
        "print('\\nExample 5')\n",
        "matrixA = np.array([[5, -18],[1, -1]], dtype = float)\n",
        "Finding_Eigenvalues_and_Eigenvectors(matrixA)\n",
        "print('\\nExample 6')\n",
        "matrixA = np.array([[2, 1],[0, 3]], dtype = float)\n",
        "Finding_Eigenvalues_and_Eigenvectors(matrixA)\n",
        "print('\\nExample 7')\n",
        "matrixA = np.array([[5, 3],[3, 2]], dtype = float)\n",
        "Finding_Eigenvalues_and_Eigenvectors(matrixA)\n",
        "print('\\nExample 8')\n",
        "matrixA = np.array([[-1, -2],[6, 6]], dtype = float)\n",
        "Finding_Eigenvalues_and_Eigenvectors(matrixA)\n",
        "print('\\nExample 9')\n",
        "matrixA = np.array([[3, 2], [4, 1]], dtype = float)\n",
        "Finding_Eigenvalues_and_Eigenvectors(matrixA)\n",
        "print('\\nExample 10')\n",
        "matrixA = np.array([[6, -4], [3, -1]], dtype = float)\n",
        "Finding_Eigenvalues_and_Eigenvectors(matrixA)\n",
        "print('\\nExample 11')\n",
        "matrixA = np.array([[3, -1],[1, 1]], dtype = float)\n",
        "Finding_Eigenvalues_and_Eigenvectors(matrixA)\n",
        "print('\\nExample 12')\n",
        "matrixA = np.array([[3, -8],[2, 3]], dtype = float)\n",
        "Finding_Eigenvalues_and_Eigenvectors(matrixA)\n",
        "print('\\nExample 13')\n",
        "matrixA = np.array([[1, 1],[-2, 3]], dtype = float)\n",
        "Finding_Eigenvalues_and_Eigenvectors(matrixA)\n",
        "print('\\nExample 14')\n",
        "matrixA = np.array([[0, 1, 0],[0, 0, 1],[0, 0, 0]], dtype = float)\n",
        "Finding_Eigenvalues_and_Eigenvectors(matrixA)\n",
        "print('\\nExample 15')\n",
        "matrixA = np.array([[1, 1, 1],[0, 2, 1],[0, 0, 1]], dtype = float)\n",
        "Finding_Eigenvalues_and_Eigenvectors(matrixA)\n",
        "print('\\nExample 16')\n",
        "matrixA = np.array([[1, 2, 1],[0, 3, 1],[0, 5, -1]], dtype = float)\n",
        "Finding_Eigenvalues_and_Eigenvectors(matrixA)\n",
        "print('\\nExample 17')\n",
        "matrixA = np.array([[4, 5, -1],[1, 0, -1],[0, 1, -1]], dtype = float)\n",
        "Finding_Eigenvalues_and_Eigenvectors(matrixA)\n",
        "print('\\nExample 18')\n",
        "matrixA = np.array([[-2, 0, 11],[1, 0, -1],[0, 1, -1]], dtype = float)\n",
        "Finding_Eigenvalues_and_Eigenvectors(matrixA)\n",
        "print('\\nExample 19')\n",
        "matrixA = np.array([[2, 0, 0, 0],[0, 2, 0, 0],[0, 0, 3, 0],[0, 0, 0, 4]], dtype = float)\n",
        "Finding_Eigenvalues_and_Eigenvectors(matrixA)\n",
        "print('\\nExample 20')\n",
        "matrixA = np.array([[3, 0, 0, 0],[4, 1, 0, 0],[0, 0, 2, 1],[0, 0, 0, 2]], dtype = float)\n",
        "Finding_Eigenvalues_and_Eigenvectors(matrixA)\n",
        "print('\\nExample 21')\n",
        "matrixA = np.array([[[-1, 3, 0],[0, 4, 4],[-5, 4, 0]]], dtype = float)\n",
        "Finding_Eigenvalues_and_Eigenvectors(matrixA)\n",
        "print('\\nExample 22')\n",
        "matrixA = np.array([[-5, -1],[1, -7]], dtype = float)\n",
        "Finding_Eigenvalues_and_Eigenvectors(matrixA)\n",
        "print('\\nExample 23')\n",
        "matrixA = np.array([[-1, 0, 0, 0],[2, 1, -1, 1],[1, 3, 1, -3],[1, 3, -1, -1]], dtype = float)\n",
        "Finding_Eigenvalues_and_Eigenvectors(matrixA)\n",
        "print('\\nExample 24')\n",
        "matrixA = np.array([[2, 3, -2, 1],[-4, -5, 2, -1],[-3, -3, 1, -1],[0, 0, 0, 2]], dtype = float)\n",
        "Finding_Eigenvalues_and_Eigenvectors(matrixA)\n",
        "print('\\nExample 25')\n",
        "matrixA = np.array([[4, -3, -2, 2],[2, -1, -2, -2],[3, -3, -1, 5],[0, 0, 0, -2]], dtype = float)\n",
        "Finding_Eigenvalues_and_Eigenvectors(matrixA)\n",
        "print('\\nExample 26')\n",
        "matrixA = np.array([[5, 0, 0],[22, 3, 8],[-16, -4, -9]], dtype = float)\n",
        "Finding_Eigenvalues_and_Eigenvectors(matrixA)\n",
        "print('\\nExample 27')\n",
        "matrixA = np.array([[0, 0, -4],[2, -2, -4],[1, 0, -4]], dtype = float)\n",
        "Finding_Eigenvalues_and_Eigenvectors(matrixA)\n",
        "print('\\nExample 28')\n",
        "matrixA = np.array([[1, 1, 1],[1, 1, 1],[-1, -1, -1]], dtype = float)\n",
        "Finding_Eigenvalues_and_Eigenvectors(matrixA)\n",
        "print('\\nExample 29')\n",
        "matrixA = np.array([[-4, 0, 4, -8],[-2, -2, 2, -6],[1, 0, -4, 4],[1, 0, -4, 4]], dtype = float)\n",
        "Finding_Eigenvalues_and_Eigenvectors(matrixA)\n",
        "print('\\nExample 30')\n",
        "matrixA = np.array([[-7, 9],[9, 17]], dtype = float)\n",
        "Finding_Eigenvalues_and_Eigenvectors(matrixA)\n",
        "print('\\nExample 31')\n",
        "matrixA = np.array([[3, 0, 0, -1],[0, 3, -1, 0],[0, -1, 3, 0],[-1, 0, 0, 3]], dtype = float)\n",
        "Finding_Eigenvalues_and_Eigenvectors(matrixA)\n",
        "print('\\nExample 32')\n",
        "matrixA = np.array([[3, 10],[-10, -13]], dtype = float)\n",
        "Finding_Eigenvalues_and_Eigenvectors(matrixA)"
      ],
      "metadata": {
        "colab": {
          "base_uri": "https://localhost:8080/"
        },
        "id": "ysiXBj0x4CQ8",
        "outputId": "3ff2a516-cb3b-4ea2-a8ba-302fe5f28b8c"
      },
      "execution_count": 98,
      "outputs": [
        {
          "output_type": "stream",
          "name": "stdout",
          "text": [
            "Example 1\n",
            "Eigenvalues:\n",
            " [3. 2.]\n",
            "Eigenvectors:\n",
            " [[0.8944 0.7071]\n",
            " [0.4472 0.7071]]\n",
            "\n",
            "Example 2\n",
            "Eigenvalues:\n",
            " [ 4. -3.]\n",
            "Eigenvectors:\n",
            " [[ 0.8944 -0.3162]\n",
            " [ 0.4472  0.9487]]\n",
            "\n",
            "Example 3\n",
            "Eigenvalues:\n",
            " [0.+0.j 1.+0.j 1.-0.j]\n",
            "Eigenvectors:\n",
            " [[0.5774+0.j     0.8495+0.j     0.8495-0.j    ]\n",
            " [0.5774+0.j     0.3419-0.1142j 0.3419+0.1142j]\n",
            " [0.5774+0.j     0.1762-0.3427j 0.1762+0.3427j]]\n",
            "\n",
            "Example 4\n",
            "Eigenvalues:\n",
            " [1.+2.j 1.-2.j]\n",
            "Eigenvectors:\n",
            " [[0.    -0.7071j 0.    +0.7071j]\n",
            " [0.7071+0.j     0.7071-0.j    ]]\n",
            "\n",
            "Example 5\n",
            "Eigenvalues:\n",
            " [2.+3.j 2.-3.j]\n",
            "Eigenvectors:\n",
            " [[0.9733+0.j     0.9733-0.j    ]\n",
            " [0.1622-0.1622j 0.1622+0.1622j]]\n",
            "\n",
            "Example 6\n",
            "Eigenvalues:\n",
            " [2. 3.]\n",
            "Eigenvectors:\n",
            " [[1.     0.7071]\n",
            " [0.     0.7071]]\n",
            "\n",
            "Example 7\n",
            "Eigenvalues:\n",
            " [6.8541 0.1459]\n",
            "Eigenvectors:\n",
            " [[ 0.8507 -0.5257]\n",
            " [ 0.5257  0.8507]]\n",
            "\n",
            "Example 8\n",
            "Eigenvalues:\n",
            " [2. 3.]\n",
            "Eigenvectors:\n",
            " [[-0.5547  0.4472]\n",
            " [ 0.8321 -0.8944]]\n",
            "\n",
            "Example 9\n",
            "Eigenvalues:\n",
            " [ 5. -1.]\n",
            "Eigenvectors:\n",
            " [[ 0.7071 -0.4472]\n",
            " [ 0.7071  0.8944]]\n",
            "\n",
            "Example 10\n",
            "Eigenvalues:\n",
            " [3. 2.]\n",
            "Eigenvectors:\n",
            " [[0.8    0.7071]\n",
            " [0.6    0.7071]]\n",
            "\n",
            "Example 11\n",
            "Eigenvalues:\n",
            " [2. 2.]\n",
            "Eigenvectors:\n",
            " [[0.7071 0.7071]\n",
            " [0.7071 0.7071]]\n",
            "\n",
            "Example 12\n",
            "Eigenvalues:\n",
            " [3.+4.j 3.-4.j]\n",
            "Eigenvectors:\n",
            " [[0.8944+0.j     0.8944-0.j    ]\n",
            " [0.    -0.4472j 0.    +0.4472j]]\n",
            "\n",
            "Example 13\n",
            "Eigenvalues:\n",
            " [2.+1.j 2.-1.j]\n",
            "Eigenvectors:\n",
            " [[0.4082-0.4082j 0.4082+0.4082j]\n",
            " [0.8165+0.j     0.8165-0.j    ]]\n",
            "\n",
            "Example 14\n",
            "Eigenvalues:\n",
            " [0. 0. 0.]\n",
            "Eigenvectors:\n",
            " [[ 1. -1.  1.]\n",
            " [ 0.  0. -0.]\n",
            " [ 0.  0.  0.]]\n",
            "\n",
            "Example 15\n",
            "Eigenvalues:\n",
            " [1. 2. 1.]\n",
            "Eigenvectors:\n",
            " [[ 1.      0.7071  0.    ]\n",
            " [ 0.      0.7071 -0.7071]\n",
            " [ 0.      0.      0.7071]]\n",
            "\n",
            "Example 16\n",
            "Eigenvalues:\n",
            " [ 1.  4. -2.]\n",
            "Eigenvectors:\n",
            " [[ 1.      0.5774 -0.1925]\n",
            " [ 0.      0.5774 -0.1925]\n",
            " [ 0.      0.5774  0.9623]]\n",
            "\n",
            "Example 17\n",
            "Eigenvalues:\n",
            " [ 4.945 +0.j     -0.9725+0.8198j -0.9725-0.8198j]\n",
            "Eigenvectors:\n",
            " [[0.9809+0.j     0.1959-0.5039j 0.1959+0.5039j]\n",
            " [0.1918+0.j     0.0179+0.5332j 0.0179-0.5332j]\n",
            " [0.0323+0.j     0.6504+0.j     0.6504-0.j    ]]\n",
            "\n",
            "Example 18\n",
            "Eigenvalues:\n",
            " [-2.0772+1.8658j -2.0772-1.8658j  1.1544+0.j    ]\n",
            "Eigenvectors:\n",
            " [[ 0.9274+0.j      0.9274-0.j      0.8265+0.j    ]\n",
            " [-0.2865-0.1816j -0.2865+0.1816j  0.5106+0.j    ]\n",
            " [-0.0065+0.1573j -0.0065-0.1573j  0.237 +0.j    ]]\n",
            "\n",
            "Example 19\n",
            "Eigenvalues:\n",
            " [2. 2. 3. 4.]\n",
            "Eigenvectors:\n",
            " [[1. 0. 0. 0.]\n",
            " [0. 1. 0. 0.]\n",
            " [0. 0. 1. 0.]\n",
            " [0. 0. 0. 1.]]\n",
            "\n",
            "Example 20\n",
            "Eigenvalues:\n",
            " [1. 3. 2. 2.]\n",
            "Eigenvectors:\n",
            " [[ 0.      0.4472  0.      0.    ]\n",
            " [ 1.      0.8944  0.      0.    ]\n",
            " [ 0.      0.      1.     -1.    ]\n",
            " [ 0.      0.      0.      0.    ]]\n",
            "\n",
            "Example 21\n",
            "Eigenvalues:\n",
            " [[-4.217  2.     5.217]]\n",
            "Eigenvectors:\n",
            " [[[ 0.3779 -0.6667  0.4191]\n",
            "  [-0.4052 -0.6667  0.8686]\n",
            "  [ 0.8325  0.3333  0.2643]]]\n",
            "\n",
            "Example 22\n",
            "Eigenvalues:\n",
            " [-6. -6.]\n",
            "Eigenvectors:\n",
            " [[0.7071 0.7071]\n",
            " [0.7071 0.7071]]\n",
            "\n",
            "Example 23\n",
            "Eigenvalues:\n",
            " [-2.  2.  1. -1.]\n",
            "Eigenvectors:\n",
            " [[ 0.      0.      0.      0.3162]\n",
            " [-0.     -0.7071  0.5774 -0.3162]\n",
            " [ 0.7071 -0.      0.5774 -0.6325]\n",
            " [ 0.7071 -0.7071  0.5774 -0.6325]]\n",
            "\n",
            "Example 24\n",
            "Eigenvalues:\n",
            " [ 1. -2. -1.  2.]\n",
            "Eigenvectors:\n",
            " [[ 0.5774  0.4082  0.7071  0.5   ]\n",
            " [-0.5774 -0.8165 -0.7071 -0.5   ]\n",
            " [-0.5774 -0.4082 -0.     -0.5   ]\n",
            " [ 0.      0.      0.      0.5   ]]\n",
            "\n",
            "Example 25\n",
            "Eigenvalues:\n",
            " [-1.  2.  1. -2.]\n",
            "Eigenvectors:\n",
            " [[-0.5774 -0.7071 -0.7071 -0.4082]\n",
            " [-0.5774  0.     -0.7071  0.    ]\n",
            " [-0.5774 -0.7071 -0.     -0.8165]\n",
            " [ 0.      0.      0.      0.4082]]\n",
            "\n",
            "Example 26\n",
            "Eigenvalues:\n",
            " [-5. -1.  5.]\n",
            "Eigenvectors:\n",
            " [[ 0.      0.      0.2673]\n",
            " [ 0.7071 -0.8944  0.8018]\n",
            " [-0.7071  0.4472 -0.5345]]\n",
            "\n",
            "Example 27\n",
            "Eigenvalues:\n",
            " [-2. -2. -2.]\n",
            "Eigenvectors:\n",
            " [[0.     0.7559 0.49  ]\n",
            " [1.     0.5345 0.8366]\n",
            " [0.     0.378  0.245 ]]\n",
            "\n",
            "Example 28\n",
            "Eigenvalues:\n",
            " [1. 0. 0.]\n",
            "Eigenvectors:\n",
            " [[ 0.5774 -0.     -0.    ]\n",
            " [ 0.5774 -0.7071  0.7071]\n",
            " [-0.5774  0.7071 -0.7071]]\n",
            "\n",
            "Example 29\n",
            "Eigenvalues:\n",
            " [-2. -2. -2.  0.]\n",
            "Eigenvectors:\n",
            " [[ 0.     -0.6325 -0.6325 -0.6489]\n",
            " [ 1.     -0.6325 -0.6325 -0.4867]\n",
            " [ 0.      0.3162  0.3162  0.3244]\n",
            " [ 0.      0.3162  0.3162  0.4867]]\n",
            "\n",
            "Example 30\n",
            "Eigenvalues:\n",
            " [-10.  20.]\n",
            "Eigenvectors:\n",
            " [[-0.9487 -0.3162]\n",
            " [ 0.3162 -0.9487]]\n",
            "\n",
            "Example 31\n",
            "Eigenvalues:\n",
            " [4. 2. 4. 2.]\n",
            "Eigenvectors:\n",
            " [[ 0.7071  0.7071  0.      0.    ]\n",
            " [ 0.      0.     -0.7071  0.7071]\n",
            " [ 0.      0.      0.7071  0.7071]\n",
            " [-0.7071  0.7071  0.      0.    ]]\n",
            "\n",
            "Example 32\n",
            "Eigenvalues:\n",
            " [-5.+6.j -5.-6.j]\n",
            "Eigenvectors:\n",
            " [[ 0.7071+0.j      0.7071-0.j    ]\n",
            " [-0.5657+0.4243j -0.5657-0.4243j]]\n"
          ]
        }
      ]
    },
    {
      "cell_type": "markdown",
      "metadata": {
        "id": "ZtYug-4x7qCv"
      },
      "source": [
        "##### Lemma 1.2.4.3 - Diagonalization and Similar Matrices"
      ]
    },
    {
      "cell_type": "markdown",
      "metadata": {
        "id": "d6ZDBNI87qCv"
      },
      "source": [
        "Let $A$ be similar to a matrix $D = \\text{diag}(\\lambda_1, \\lambda_2, \\ldots, \\lambda_n)$ with distinct diagonal entries; that is, there exists a nonsingular matrix $P$ such that\n",
        "\\begin{equation*}\n",
        "    A = PDP^{-1}\n",
        "\\end{equation*}\n",
        "Let $\\mathbf{p}_1, \\mathbf{p}_2, \\ldots, \\mathbf{p}_d$ be the columns of $P$. Then,\n",
        "\\begin{equation*}\n",
        "    AP = PD\n",
        "\\end{equation*}\n",
        "which implies that\n",
        "\\begin{equation*}\n",
        "    A\\mathbf{p}_i = \\lambda_i\\mathbf{p}_i\n",
        "\\end{equation*}\n",
        "for some $i \\in \\{1, 2, \\ldots, d\\}$."
      ]
    },
    {
      "cell_type": "code",
      "source": [
        "print('Example 1')\n",
        "matrixA = sp.Matrix([[2, -3],[2, -5]])\n",
        "(matrixP, matrixD) = matrixA.diagonalize()\n",
        "print('P =', matrixP)\n",
        "print('D =', matrixD)\n",
        "print('\\nExample 2')\n",
        "matrixA = sp.Matrix([[3, -1, -2],[2, 0, 2],[2, -1, -1]])\n",
        "(matrixP, matrixD) = matrixA.diagonalize()\n",
        "print('P =', matrixP)\n",
        "print('D =', matrixD)\n",
        "print('\\nExample 3')\n",
        "matrixA = sp.Matrix([[0, 1],[1, 0]])\n",
        "(matrixP, matrixD) = matrixA.diagonalize()\n",
        "print('P =', matrixP)\n",
        "print('D =', matrixD)\n",
        "print('\\nExample 4')\n",
        "matrixA = sp.Matrix([[5, 6],[-2, -2]])\n",
        "(matrixP, matrixD) = matrixA.diagonalize()\n",
        "print('P =', matrixP)\n",
        "print('D =', matrixD)\n",
        "print('\\nExample 5')\n",
        "matrixA = sp.Matrix([[2, -8],[1, -4]])\n",
        "(matrixP, matrixD) = matrixA.diagonalize()\n",
        "print('P =', matrixP)\n",
        "print('D =', matrixD)\n",
        "print('\\nExample 6')\n",
        "matrixA = sp.Matrix([[2, 2, 1],[0, 1, 2],[0, 0, -1]])\n",
        "(matrixP, matrixD) = matrixA.diagonalize()\n",
        "print('P =', matrixP)\n",
        "print('D =', matrixD)\n",
        "print('\\nExample 7')\n",
        "matrixA = sp.Matrix([[1, 0, 0],[-2, 1, 3],[1, 1, -1]])\n",
        "(matrixP, matrixD) = matrixA.diagonalize()\n",
        "print('P =', matrixP)\n",
        "print('D =', matrixD)\n",
        "print('\\nExample 8')\n",
        "matrixA = sp.Matrix([[1, 2, -1],[2, 4, -2],[3, 6, -3]])\n",
        "(matrixP, matrixD) = matrixA.diagonalize()\n",
        "print('P =', matrixP)\n",
        "print('D =', matrixD)\n",
        "print('\\nExample 9')\n",
        "matrixA = sp.Matrix([[-8, -0.5],[-3.5, 5]])\n",
        "(matrixP, matrixD) = matrixA.diagonalize()\n",
        "print('P =', matrixP)\n",
        "print('D =', matrixD)\n",
        "print('\\nExample 10')\n",
        "matrixA = sp.Matrix([[-19, -13],[26, 20]])\n",
        "(matrixP, matrixD) = matrixA.diagonalize()\n",
        "print('P =', matrixP)\n",
        "print('D =', matrixD)\n",
        "print('\\nExample 11')\n",
        "matrixA = sp.Matrix([[45, -24],[80, -43]])\n",
        "(matrixP, matrixD) = matrixA.diagonalize()\n",
        "print('P =', matrixP)\n",
        "print('D =', matrixD)\n",
        "print('\\nExample 12')\n",
        "matrixA = sp.Matrix([[9, -2],[1, 6]])\n",
        "(matrixP, matrixD) = matrixA.diagonalize()\n",
        "print('P =', matrixP)\n",
        "print('D =', matrixD)"
      ],
      "metadata": {
        "colab": {
          "base_uri": "https://localhost:8080/"
        },
        "id": "HBdtR8C4KkBS",
        "outputId": "2b00c941-5999-45c3-82f4-cfcd79dbd1f2"
      },
      "execution_count": 121,
      "outputs": [
        {
          "output_type": "stream",
          "name": "stdout",
          "text": [
            "Example 1\n",
            "P = Matrix([[1, 3], [2, 1]])\n",
            "D = Matrix([[-4, 0], [0, 1]])\n",
            "\n",
            "Example 2\n",
            "P = Matrix([[1, 1, 1], [2, (-sqrt(15) + 9*I)/(sqrt(15) + 3*I), (sqrt(15) + 9*I)/(-sqrt(15) + 3*I)], [0, 1, 1]])\n",
            "D = Matrix([[1, 0, 0], [0, 1/2 - sqrt(15)*I/2, 0], [0, 0, 1/2 + sqrt(15)*I/2]])\n",
            "\n",
            "Example 3\n",
            "P = Matrix([[-1, 1], [1, 1]])\n",
            "D = Matrix([[-1, 0], [0, 1]])\n",
            "\n",
            "Example 4\n",
            "P = Matrix([[-3, -2], [2, 1]])\n",
            "D = Matrix([[1, 0], [0, 2]])\n",
            "\n",
            "Example 5\n",
            "P = Matrix([[2, 4], [1, 1]])\n",
            "D = Matrix([[-2, 0], [0, 0]])\n",
            "\n",
            "Example 6\n",
            "P = Matrix([[1, -2, 1], [-3, 1, 0], [3, 0, 0]])\n",
            "D = Matrix([[-1, 0, 0], [0, 1, 0], [0, 0, 2]])\n",
            "\n",
            "Example 7\n",
            "P = Matrix([[0, 3, 0], [-1, 1, 3], [1, 2, 1]])\n",
            "D = Matrix([[-2, 0, 0], [0, 1, 0], [0, 0, 2]])\n",
            "\n",
            "Example 8\n",
            "P = Matrix([[-2, 1, 1], [1, 0, 2], [0, 1, 3]])\n",
            "D = Matrix([[0, 0, 0], [0, 0, 0], [0, 0, 2]])\n",
            "\n",
            "Example 9\n",
            "P = Matrix([[0.966275223926533, -0.0390043303801878], [0.257511536878889, 1.02450721122301]])\n",
            "D = Matrix([[-8.13324958071080, 0], [0, 5.13324958071080]])\n",
            "\n",
            "Example 10\n",
            "P = Matrix([[-1, -1], [1, 2]])\n",
            "D = Matrix([[-6, 0], [0, 7]])\n",
            "\n",
            "Example 11\n",
            "P = Matrix([[1, 3], [2, 5]])\n",
            "D = Matrix([[-3, 0], [0, 5]])\n",
            "\n",
            "Example 12\n",
            "P = Matrix([[1, 2], [1, 1]])\n",
            "D = Matrix([[7, 0], [0, 8]])\n"
          ]
        }
      ]
    },
    {
      "cell_type": "markdown",
      "metadata": {
        "id": "yVUAKGzt7qCv"
      },
      "source": [
        "##### Theorem 1.2.4.4 - Relationship Between Symmetric Matrices and Eigenvalues and Eigenvectors"
      ]
    },
    {
      "cell_type": "markdown",
      "metadata": {
        "id": "Qoj-F_8q7qCv"
      },
      "source": [
        "If $A$ is a symmetric matrix, then any two eigenvectors from different eigenspaces are orthogonal."
      ]
    },
    {
      "cell_type": "markdown",
      "metadata": {
        "id": "g1I1Gei47qCv"
      },
      "source": [
        "##### Theorem 1.2.4.5 - The Spectral Theorem for Symmetric Matrices"
      ]
    },
    {
      "cell_type": "markdown",
      "metadata": {
        "id": "z-aNuNzJ7qCv"
      },
      "source": [
        "An $n \\times n$ symmetric matrix $A$ has the following properties.\n",
        "- $A$ has $n$ real eigenvalues, counting multiplicities.\n",
        "- If $\\lambda$ is an eigenvalue of $A$ with multiplicity $k$, then the eigenspace for $\\lambda$ is $k$-dimensional.\n",
        "- The eigenspaces are mutually orthogonal; eigenvectors corresponding to different eigenvalues are orthogonal.\n",
        "- $A$ is orthogonally diagonalizable."
      ]
    },
    {
      "cell_type": "markdown",
      "metadata": {
        "id": "pZWQoRIw7qCv"
      },
      "source": [
        "##### Theorem 1.2.4.6 - Constrained Optimization"
      ]
    },
    {
      "cell_type": "markdown",
      "metadata": {
        "id": "aovVTSMR7qCv"
      },
      "source": [
        "Let $A$ be $n \\times n$ symmetric matrix $A$ with an orthogonal diagonalization $A = PDP^{-1}$. The columns of $P$ are orthonormal eigenvectors $\\mathbf{v}_1, \\mathbf{v}_2, \\ldots, \\mathbf{v}_n$ of $A$. Suppose that the diagonal of matrix $D$ are arranged so that $\\lambda_1 \\leq \\lambda_2 \\leq \\cdots \\leq \\lambda_n$. Then,\n",
        "\\begin{equation*}\n",
        "    \\min_{x \\neq 0} \\frac{\\mathbf{x}^TA\\mathbf{x}}{\\mathbf{x}^T\\mathbf{x}} = \\lambda_1\n",
        "\\end{equation*}\n",
        "is achieved when $\\mathbf{x} = \\mathbf{v}_1$ and\n",
        "\\begin{equation*}\n",
        "    \\max_{x \\neq 0} \\frac{\\mathbf{x}^TA\\mathbf{x}}{\\mathbf{x}^T\\mathbf{x}} = \\lambda_n\n",
        "\\end{equation*}\n",
        "is achieved when $\\mathbf{x} = \\mathbf{v}_n$."
      ]
    },
    {
      "cell_type": "markdown",
      "metadata": {
        "id": "YqsWgY6R7qCv"
      },
      "source": [
        "### **1.2.5 - References**"
      ]
    },
    {
      "cell_type": "markdown",
      "metadata": {
        "id": "GniO1nRf7qCw"
      },
      "source": [
        "1. MAT 494 Chapter 1 Lecture 1 Notes\n",
        "2. Steven J. Leon, Linear Algebra with Applications, 9th Edition"
      ]
    }
  ],
  "metadata": {
    "kernelspec": {
      "display_name": "Python 3.10.5 64-bit",
      "language": "python",
      "name": "python3"
    },
    "language_info": {
      "codemirror_mode": {
        "name": "ipython",
        "version": 3
      },
      "file_extension": ".py",
      "mimetype": "text/x-python",
      "name": "python",
      "nbconvert_exporter": "python",
      "pygments_lexer": "ipython3",
      "version": "3.10.5"
    },
    "orig_nbformat": 4,
    "vscode": {
      "interpreter": {
        "hash": "369f2c481f4da34e4445cda3fffd2e751bd1c4d706f27375911949ba6bb62e1c"
      }
    },
    "colab": {
      "name": "1.2_Elements_Of_Linear_Algebra.ipynb",
      "provenance": [],
      "collapsed_sections": []
    }
  },
  "nbformat": 4,
  "nbformat_minor": 0
}