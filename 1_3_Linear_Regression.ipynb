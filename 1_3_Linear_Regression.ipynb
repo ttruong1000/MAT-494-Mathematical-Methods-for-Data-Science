{
  "nbformat": 4,
  "nbformat_minor": 0,
  "metadata": {
    "colab": {
      "provenance": [],
      "collapsed_sections": [],
      "authorship_tag": "ABX9TyPVCJK3finGS22dl+d9u6kc",
      "include_colab_link": true
    },
    "kernelspec": {
      "name": "python3",
      "display_name": "Python 3"
    },
    "language_info": {
      "name": "python"
    }
  },
  "cells": [
    {
      "cell_type": "markdown",
      "metadata": {
        "id": "view-in-github",
        "colab_type": "text"
      },
      "source": [
        "<a href=\"https://colab.research.google.com/github/ttruong1000/MAT-494-Mathematical-Methods-for-Data-Science/blob/main/1_3_Linear_Regression.ipynb\" target=\"_parent\"><img src=\"https://colab.research.google.com/assets/colab-badge.svg\" alt=\"Open In Colab\"/></a>"
      ]
    },
    {
      "cell_type": "markdown",
      "source": [
        "# **1.3 - Linear Regression**"
      ],
      "metadata": {
        "id": "h80S0F1PxGNG"
      }
    },
    {
      "cell_type": "markdown",
      "source": [
        "### **1.3.0 - Python Libraries for Linear Regression**"
      ],
      "metadata": {
        "id": "DSv6wSFW0J6q"
      }
    },
    {
      "cell_type": "markdown",
      "source": [
        "The Python libraries used in linear algebra for computational purposes are NumPy, Sympy, SciPy, and MatPlotLib."
      ],
      "metadata": {
        "id": "4RNV0lWx0OvY"
      }
    },
    {
      "cell_type": "code",
      "source": [
        "import numpy as np\n",
        "import sympy as sp\n",
        "from scipy import optimize\n",
        "import matplotlib.pyplot as plt\n",
        "import pandas as pd\n",
        "from sklearn.linear_model import LinearRegression"
      ],
      "metadata": {
        "id": "MB5W7mIn0g30"
      },
      "execution_count": 30,
      "outputs": []
    },
    {
      "cell_type": "markdown",
      "source": [
        "### **1.3.1 - QR Decomposition**"
      ],
      "metadata": {
        "id": "5eELsdyB5oEo"
      }
    },
    {
      "cell_type": "markdown",
      "source": [
        "##### Definition 1.3.1.1 - Rank of a Matrix"
      ],
      "metadata": {
        "id": "jBRB9YQD7foR"
      }
    },
    {
      "cell_type": "markdown",
      "source": [
        "The rank of a matrix, denoted $\\text{rank}(A)$, is the dimension of the row space of $A$."
      ],
      "metadata": {
        "id": "9AUuuIcw7iXU"
      }
    },
    {
      "cell_type": "markdown",
      "source": [
        "##### Theorem 1.3.1.2 - Gram-Schmidt QR Factorization"
      ],
      "metadata": {
        "id": "R2B_4I9A5-SL"
      }
    },
    {
      "cell_type": "markdown",
      "source": [
        "If $A$ is an $m \\times n$ matrix of rank $n$, then $A$ can be factored into a product $QR$, where $Q$ is an $m \\times n$ matrix with orthonormal column vectors and $R$ is an upper triangular $n \\times n$ matrix whose diagonal entries are all positive."
      ],
      "metadata": {
        "id": "uiYqUUI_6s87"
      }
    },
    {
      "cell_type": "code",
      "source": [
        "print('Example 1')\n",
        "A = np.array([[1, -2, -1],[2, 0, 1],[2, -4, 2],[4, 0, 0]], dtype = float)\n",
        "(Q, R) = np.linalg.qr(A)\n",
        "print('Q =\\n', Q)\n",
        "print('R =\\n', R)\n",
        "print('A = QR =\\n', np.dot(Q, R))\n",
        "print('\\nExample 2')\n",
        "A = np.array([[1, -2, -2],[4, 3, 2],[1 , 2, 1]], dtype = float)\n",
        "(Q, R) = np.linalg.qr(A)\n",
        "print('Q =\\n', Q)\n",
        "print('R =\\n', R)\n",
        "print('A = QR =\\n', np.dot(Q, R))\n",
        "print('\\nExample 3')\n",
        "A = np.array([[-8, 6, -7],[-4, 0, 1],[-8 , 3, 2]], dtype = float)\n",
        "(Q, R) = np.linalg.qr(A)\n",
        "print('Q =\\n', Q)\n",
        "print('R =\\n', R)\n",
        "print('A = QR =\\n', np.dot(Q, R))\n",
        "print('\\nExample 4')\n",
        "A = np.array([[1, 3],[0, 1],[1, 0]], dtype = float)\n",
        "(Q, R) = np.linalg.qr(A)\n",
        "print('Q =\\n', Q)\n",
        "print('R =\\n', R)\n",
        "print('A = QR =\\n', np.dot(Q, R))\n",
        "print('\\nExample 5')\n",
        "A = np.array([[-9, 11],[-6, -2],[-18, 36]], dtype = float)\n",
        "(Q, R) = np.linalg.qr(A)\n",
        "print('Q =\\n', Q)\n",
        "print('R =\\n', R)\n",
        "print('A = QR =\\n', np.dot(Q, R))\n",
        "print('\\nExample 6')\n",
        "A = np.array([[-4, 1, 5],[-2, -4, 13],[-4, 10, 2]], dtype = float)\n",
        "(Q, R) = np.linalg.qr(A)\n",
        "print('Q =\\n', Q)\n",
        "print('R =\\n', R)\n",
        "print('A = QR =\\n', np.dot(Q, R))\n",
        "print('\\nExample 7')\n",
        "A = np.array([[2, 1],[1, 1],[2, 1]], dtype = float)\n",
        "(Q, R) = np.linalg.qr(A)\n",
        "print('Q =\\n', Q)\n",
        "print('R =\\n', R)\n",
        "print('A = QR =\\n', np.dot(Q, R))"
      ],
      "metadata": {
        "colab": {
          "base_uri": "https://localhost:8080/"
        },
        "id": "XiioLAO_72V_",
        "outputId": "c8d23575-e40b-41a3-8f89-763689d0c150"
      },
      "execution_count": 3,
      "outputs": [
        {
          "output_type": "stream",
          "name": "stdout",
          "text": [
            "Example 1\n",
            "Q =\n",
            " [[-0.2  0.4  0.8]\n",
            " [-0.4 -0.2 -0.4]\n",
            " [-0.4  0.8 -0.4]\n",
            " [-0.8 -0.4  0.2]]\n",
            "R =\n",
            " [[-5.  2. -1.]\n",
            " [ 0. -4.  1.]\n",
            " [ 0.  0. -2.]]\n",
            "A = QR =\n",
            " [[ 1.00000000e+00 -2.00000000e+00 -1.00000000e+00]\n",
            " [ 2.00000000e+00  2.44249065e-16  1.00000000e+00]\n",
            " [ 2.00000000e+00 -4.00000000e+00  2.00000000e+00]\n",
            " [ 4.00000000e+00  9.32587341e-16 -1.22124533e-16]]\n",
            "\n",
            "Example 2\n",
            "Q =\n",
            " [[-0.23570226  0.88888889  0.3928371 ]\n",
            " [-0.94280904 -0.11111111 -0.31426968]\n",
            " [-0.23570226 -0.44444444  0.86424162]]\n",
            "R =\n",
            " [[-4.24264069 -2.82842712 -1.64991582]\n",
            " [ 0.         -3.         -2.44444444]\n",
            " [ 0.          0.         -0.54997194]]\n",
            "A = QR =\n",
            " [[ 1. -2. -2.]\n",
            " [ 4.  3.  2.]\n",
            " [ 1.  2.  1.]]\n",
            "\n",
            "Example 3\n",
            "Q =\n",
            " [[-0.66666667  0.66666667 -0.33333333]\n",
            " [-0.33333333 -0.66666667 -0.66666667]\n",
            " [-0.66666667 -0.33333333  0.66666667]]\n",
            "R =\n",
            " [[12. -6.  3.]\n",
            " [ 0.  3. -6.]\n",
            " [ 0.  0.  3.]]\n",
            "A = QR =\n",
            " [[-8.00000000e+00  6.00000000e+00 -7.00000000e+00]\n",
            " [-4.00000000e+00 -1.48029737e-16  1.00000000e+00]\n",
            " [-8.00000000e+00  3.00000000e+00  2.00000000e+00]]\n",
            "\n",
            "Example 4\n",
            "Q =\n",
            " [[-0.70710678 -0.63960215]\n",
            " [-0.         -0.42640143]\n",
            " [-0.70710678  0.63960215]]\n",
            "R =\n",
            " [[-1.41421356 -2.12132034]\n",
            " [ 0.         -2.34520788]]\n",
            "A = QR =\n",
            " [[ 1.00000000e+00  3.00000000e+00]\n",
            " [ 0.00000000e+00  1.00000000e+00]\n",
            " [ 1.00000000e+00 -7.79017995e-16]]\n",
            "\n",
            "Example 5\n",
            "Q =\n",
            " [[-0.42857143 -0.28571429]\n",
            " [-0.28571429 -0.85714286]\n",
            " [-0.85714286  0.42857143]]\n",
            "R =\n",
            " [[ 21. -35.]\n",
            " [  0.  14.]]\n",
            "A = QR =\n",
            " [[ -9.  11.]\n",
            " [ -6.  -2.]\n",
            " [-18.  36.]]\n",
            "\n",
            "Example 6\n",
            "Q =\n",
            " [[-0.66666667 -0.33333333 -0.66666667]\n",
            " [-0.33333333 -0.66666667  0.66666667]\n",
            " [-0.66666667  0.66666667  0.33333333]]\n",
            "R =\n",
            " [[ 6. -6. -9.]\n",
            " [ 0.  9. -9.]\n",
            " [ 0.  0.  6.]]\n",
            "A = QR =\n",
            " [[-4.  1.  5.]\n",
            " [-2. -4. 13.]\n",
            " [-4. 10.  2.]]\n",
            "\n",
            "Example 7\n",
            "Q =\n",
            " [[-0.66666667  0.23570226]\n",
            " [-0.33333333 -0.94280904]\n",
            " [-0.66666667  0.23570226]]\n",
            "R =\n",
            " [[-3.         -1.66666667]\n",
            " [ 0.         -0.47140452]]\n",
            "A = QR =\n",
            " [[2. 1.]\n",
            " [1. 1.]\n",
            " [2. 1.]]\n"
          ]
        }
      ]
    },
    {
      "cell_type": "markdown",
      "source": [
        "### **1.3.2 - Least-Squares Problems**"
      ],
      "metadata": {
        "id": "M_KWOeiq7u6N"
      }
    },
    {
      "cell_type": "markdown",
      "source": [
        "##### Theorem 1.3.2.1 - Normal Equations"
      ],
      "metadata": {
        "id": "RUtI0qJq8YJ8"
      }
    },
    {
      "cell_type": "markdown",
      "source": [
        "Let $A \\in \\mathbb{R}^{m \\times n}$ be an $m \\times n$ matrix with linearly independent columns. Let $\\mathbf{b} \\in \\mathbb{R}^n$ be a vector. The solution to the least-squares problem\n",
        "\\begin{equation*}\n",
        "  \\min_{\\mathbf{x} \\in \\mathbb{R}^m} ||A\\mathbf{x} - \\mathbf{b}||\n",
        "\\end{equation*}\n",
        "satisfies\n",
        "\\begin{equation*}\n",
        "  A^TA\\mathbf{x} = A^T\\mathbf{b}\n",
        "\\end{equation*}\n",
        "which is known as the normal equations."
      ],
      "metadata": {
        "id": "HNQhRKu78yiM"
      }
    },
    {
      "cell_type": "markdown",
      "source": [
        "Alternatively, if $A$ is an $m \\times n$ matrix of rank $n$, the normal equations\n",
        "\\begin{equation*}\n",
        "  A^TA\\mathbf{x} = A^T\\mathbf{b}\n",
        "\\end{equation*}\n",
        "has a unique solution\n",
        "\\begin{equation*}\n",
        "  \\hat{\\mathbf{x}} = (A^TA)^{-1}A^T\\mathbf{b}\n",
        "\\end{equation*}\n",
        "and $\\hat{\\mathbf{x}}$ is the unique least squares solution of the system $A\\mathbf{x} = \\mathbf{b}$."
      ],
      "metadata": {
        "id": "JFi2Mw3v94h6"
      }
    },
    {
      "cell_type": "markdown",
      "source": [
        "##### Definition 1.3.2.2 - Projection Vector and Projection Matrix"
      ],
      "metadata": {
        "id": "VZId2BwNDLVf"
      }
    },
    {
      "cell_type": "markdown",
      "source": [
        "The projection vector\n",
        "\\begin{equation*}\n",
        "  \\mathbf{p} = A\\hat{\\mathbf{x}} = A(A^TA)^{-1}A^T\\mathbf{b}\n",
        "\\end{equation*}\n",
        "is the element in the row space of $A$, $R(A)$, that is closest to $\\mathbf{b}$ in the least squares sense. The matrix $P = A(A^TA)^{-1}A^T$ is the projection matrix."
      ],
      "metadata": {
        "id": "jJPkzLBsJcet"
      }
    },
    {
      "cell_type": "markdown",
      "source": [
        "##### Theorem 1.3.2.3 - Least Squares via QR"
      ],
      "metadata": {
        "id": "_SSglIcFJ0tf"
      }
    },
    {
      "cell_type": "markdown",
      "source": [
        "Let $A \\in \\mathbb{R}^{m \\times n}$ be an $m \\times n$ matrix with linearly independent columns. Let $\\mathbf{b} \\in \\mathbb{R}^n$ be a vector, and let $A = QR$ be a QR decomposition of $A$, where $Q$ is a $\\mathbb{R}^{m \\times n}$ matrix with $Q^TQ = I_{m \\times n}$ and $R$ is upper triangular. The solution to the least-squares problem\n",
        "\\begin{equation*}\n",
        "  \\min_{\\mathbf{x} \\in \\mathbb{R}^m} ||A\\mathbf{x} - \\mathbf{b}||\n",
        "\\end{equation*}\n",
        "satisfies\n",
        "\\begin{equation*}\n",
        "  R\\mathbf{x} = Q^T\\mathbf{b}\n",
        "\\end{equation*}"
      ],
      "metadata": {
        "id": "6lEeCjSjJ1Bt"
      }
    },
    {
      "cell_type": "markdown",
      "source": [
        "Alternatively, if $A$ is an $m \\times n$ matrix of rank $n$, then the least squares solution of $A\\mathbf{x} = \\mathbf{b}$ is given by $\\hat{\\mathbf{x}} = R^{-1}Q^T\\mathbf{b}$, where $Q$ and $R$ are the matrices obtained from the Gram-Schmidt QR Factorization [Theorem 1.3.1.2]. The solution $\\hat{\\mathbf{x}}$ may be obtained by using back substitution to solve $R\\mathbf{x} = Q^T\\mathbf{b}$."
      ],
      "metadata": {
        "id": "gP1PpFt1Lio9"
      }
    },
    {
      "cell_type": "markdown",
      "source": [],
      "metadata": {
        "id": "y2EFbuxsrjr3"
      }
    },
    {
      "cell_type": "markdown",
      "source": [
        "##### Lemma 1.3.2.4 - Observations of Matrices in SVD"
      ],
      "metadata": {
        "id": "AJm8R8P7rkFm"
      }
    },
    {
      "cell_type": "markdown",
      "source": [
        "Let $A$ be an $m \\times n$ matrix with a singular value decomposition $U\\sum V^T$.\n",
        "- The singular values $\\sigma_1, \\sigma_2, \\ldots, \\sigma_n$ of $A$ are unique; however, the matrices $U$ and $V$ are not unique.\n",
        "- Since $V$ diagonalizes $A^TA$, it follows that the $\\mathbf{v}_j$'s are eigenvectors of $A^TA$.\n",
        "- Since $AA^T = U\\sum\\sum^TU^T$, it follows that $U$ diagonalizes $AA^T$ and that the $\\mathbf{u}_j$'s are eigenvectors of $AA^T$.\n",
        "- Comparing the $j$-th columns of each side of the euqation\n",
        "\\begin{equation*}\n",
        "  AV = U\\sum\n",
        "\\end{equation*}\n",
        "we get\n",
        "\\begin{equation*}\n",
        "  A\\mathbf{v}_j = \\sigma_j\\mathbf{u}_j \\quad j = 1, 2, \\ldots, n\n",
        "\\end{equation*}\n",
        "Similarly,\n",
        "\\begin{equation*}\n",
        "  A^TU = V\\left(\\sum\\right)^T\n",
        "\\end{equation*}\n",
        "and hence\n",
        "\\begin{equation*}\n",
        "  A\\mathbf{u}_j = \\sigma_j\\mathbf{v}_j \\quad j = 1, 2, \\ldots, n\n",
        "\\end{equation*}\n",
        "\\begin{equation*}\n",
        "  A\\mathbf{u}_j = 0 \\quad \\text{ for } j = n + 1, n + 2, \\ldots, m\n",
        "\\end{equation*}\n",
        "The $\\mathbf{v}_j$'s are called the right singular vectors of $A$, and the $\\mathbf{u}_j$'s are called the left singular vectors of $A$.\n",
        "- If $A$ has rank $r$, then\n",
        "  - $\\mathbf{v}_1, \\mathbf{v}_2, \\ldots, \\mathbf{v}_r$ form an orthonormal basis for the row space of $A^T$ $R(A^T)$.\n",
        "  - $\\mathbf{v}_{r + 1}, \\mathbf{v}_{r + 2}2, \\ldots, \\mathbf{v}_n$ form an orthonormal basis for the null space of $A$ $N(A)$.\n",
        "  - $\\mathbf{u}_1, \\mathbf{u}_2, \\ldots, \\mathbf{u}_r$ form an orthonormal basis for the row space of $A$ $R(A)$.\n",
        "  - $\\mathbf{u}_{r + 1}, \\mathbf{u}_{r + 2}, \\ldots, \\mathbf{u}_n$ form an orthonormal basis for the null space of $A^T$ $N(A^T)$.\n",
        "- The rank of the matrix $A$ is equal to the number of its nonzero signular values,w here singular values are counted according to multiplicity.\n",
        "- In the case that $A$ has rank $r < n$, if we set\n",
        "\\begin{equation*}\n",
        "  U_1 = (\\mathbf{u}_1, \\mathbf{u}_2, \\ldots, \\mathbf{u}_r) \\quad V_1 = (\\mathbf{v}_1, \\mathbf{v}_2, \\ldots, \\mathbf{v}_r)\n",
        "\\end{equation*}\n",
        "and define $\\sum_1$ as an $r \\times r$ matrix with diagonal entries $\\sigma_1, \\sigma_2, \\ldots, \\sigma_r$. Then, $A = U_1\\sum_1V_1^T$, which is the compact form of the singular value decomposition of $A$."
      ],
      "metadata": {
        "id": "WUrN465iryPr"
      }
    },
    {
      "cell_type": "markdown",
      "source": [
        "### **1.3.3 - Linear Regression**"
      ],
      "metadata": {
        "id": "3usSeVgdML6K"
      }
    },
    {
      "cell_type": "markdown",
      "source": [
        "Definition 1.3.3.1 - Relationships Between Linear Regression and Least Squares"
      ],
      "metadata": {
        "id": "Kxk_YyYaMMNt"
      }
    },
    {
      "cell_type": "markdown",
      "source": [
        "Given a set of input data points $\\{(\\mathbf{x}_i, y_i)\\}_{i = 1}^n$, with each $\\mathbf{x}_i = (x_{i1}, x_{i2}, \\ldots, x_{id})^T$, we seek an affine function (linear function and a translation) that fits the data. The common approach of finding this regression is to find coefficients $\\beta_j$ for all $j \\geq 0$, $j \\in \\mathbb{Z}$ that minimizes the least squares criterion\n",
        "\\begin{equation*}\n",
        "  \\sum_{i = 1}^n (y_i - \\hat{y_i})^2\n",
        "\\end{equation*}\n",
        "where\n",
        "\\begin{equation*}\n",
        "  \\hat{y_i} = \\beta_0 + \\sum_{j = 1}^d \\beta_jx_{ij}\n",
        "\\end{equation*}\n",
        "can be viewed as the predicted values of the linear model with coefficients of $\\beta_j$ for all $j \\geq 0$, $j \\in \\mathbb{Z}$. This minimization problem can be formulated in matrix form. Let\n",
        "\\begin{equation*}\n",
        "  y = \\begin{bmatrix}\n",
        "           y_1 \\\\\n",
        "           y_2 \\\\\n",
        "           \\vdots \\\\\n",
        "           y_n\n",
        "         \\end{bmatrix}\n",
        "  \\quad\n",
        "  A = \\begin{bmatrix}\n",
        "           1 & x_1^T \\\\\n",
        "           1 & x_2^T \\\\\n",
        "           \\vdots & \\vdots \\\\\n",
        "           1 & x_n^T \\\\\n",
        "         \\end{bmatrix}\n",
        "  \\quad \\text{ and } \\quad\n",
        "  \\beta = \\begin{bmatrix}\n",
        "           \\beta_0 \\\\\n",
        "           \\beta_1 \\\\\n",
        "           \\vdots \\\\\n",
        "           \\beta_n\n",
        "         \\end{bmatrix}\n",
        "\\end{equation*}\n",
        "Then, the problem is transformed to finding\n",
        "\\begin{equation*}\n",
        "  \\min_\\beta ||\\mathbf{y} - A\\beta||^2\n",
        "\\end{equation*}\n",
        "which is a least-squares problem."
      ],
      "metadata": {
        "id": "8WMVVBxKcabL"
      }
    },
    {
      "cell_type": "markdown",
      "source": [
        "### **1.3.4 - Least Squares Linear Regression in Python**"
      ],
      "metadata": {
        "id": "9HjOIbHE5QuO"
      }
    },
    {
      "cell_type": "markdown",
      "source": [
        "Let $X = (x_1, x_2, \\ldots, x_n)^T$ be a column vector of all of the inputs $x_i$, $1 \\leq i \\leq n$ for the data. Let $\\hat{Y}$ be a column vector of all of the outputs $\\hat{Y}_i = \\hat{y}(x_i)$, $1 \\leq i \\leq n$, where\n",
        "\\begin{equation*}\n",
        "  \\hat{y}(x_1) = \\alpha_1f_1(x_1) + \\alpha_2f_2(x_1) + \\cdots + \\alpha_nf_n(x_1) \\\\\n",
        "  \\hat{y}(x_2) = \\alpha_1f_1(x_2) + \\alpha_2f_2(x_2) + \\cdots + \\alpha_nf_n(x_2) \\\\\n",
        "  \\cdot \\\\\n",
        "  \\cdot \\\\\n",
        "  \\cdot \\\\\n",
        "  \\hat{y}(x_n) = \\alpha_1f_1(x_n) + \\alpha_2f_2(x_n) + \\cdots + \\alpha_nf_n(x_n) \\\\\n",
        "\\end{equation*}\n",
        "If the data is perfectly aligned (no noise/discrepancies in the data), the outputs would be\n",
        "\\begin{equation*}\n",
        "  y(x_1) = \\alpha_1f_1(x_1) + \\alpha_2f_2(x_1) + \\cdots + \\alpha_nf_n(x_1) \\\\\n",
        "  y(x_2) = \\alpha_1f_1(x_2) + \\alpha_2f_2(x_2) + \\cdots + \\alpha_nf_n(x_2) \\\\\n",
        "  \\cdot \\\\\n",
        "  \\cdot \\\\\n",
        "  \\cdot \\\\\n",
        "  y(x_n) = \\alpha_1f_1(x_n) + \\alpha_2f_2(x_n) + \\cdots + \\alpha_nf_n(x_n) \\\\\n",
        "\\end{equation*}\n",
        "and all of these output entries would be stored in a column vector $Y$, with $Y_i = y(x_i)$, $1 \\leq i \\leq n$. The coefficients of the least-squares linear regression would be the matrix solution to the matrix equation $Y = A\\beta$ if the data was perfectly linear; however, pragmatically, this is usually not the case. Therefore, we can find a solution by finding the least squares regression coefficients\n",
        "\\begin{equation*}\n",
        "  \\beta = (A^TA)^{-1}A^TY\n",
        "\\end{equation*}"
      ],
      "metadata": {
        "id": "XIHe7g9S52t4"
      }
    },
    {
      "cell_type": "markdown",
      "source": [
        "##### 1.3.4.1 - Using the Direct Inverse Method"
      ],
      "metadata": {
        "id": "8V5tyncjPMWD"
      }
    },
    {
      "cell_type": "markdown",
      "source": [
        "We can directly evaluate $\\beta = (A^TA)^{-1}A^TY$ directly and find the least squares regression linear equation, as shown below. The equation for the regression line is written as $Y_e = \\alpha X + \\beta$."
      ],
      "metadata": {
        "id": "DdhJ7jZrc2Ok"
      }
    },
    {
      "cell_type": "code",
      "source": [
        "plt.style.use('seaborn-poster')\n",
        "# generate x and y\n",
        "x = np.linspace(0, 1, 101)\n",
        "y = 1 + x + x * np.random.random(len(x))\n",
        "\n",
        "# assemble matrix A\n",
        "A = np.vstack([x, np.ones(len(x))]).T\n",
        "\n",
        "# turn y into a column vector\n",
        "y = y[:, np.newaxis]\n",
        "\n",
        "# Direct least square regression\n",
        "alpha = np.dot((np.dot(np.linalg.inv(np.dot(A.T,A)),A.T)),y)\n",
        "print(alpha)\n",
        "print('y = {0}x + {1}'.format(alpha[0][0], alpha[1][0]))\n",
        "\n",
        "# plot the results\n",
        "plt.figure(figsize = (10,8))\n",
        "plt.plot(x, y, 'b.')\n",
        "plt.plot(x, alpha[0]*x + alpha[1], 'r')\n",
        "plt.xlabel('x')\n",
        "plt.ylabel('y')\n",
        "plt.show()"
      ],
      "metadata": {
        "colab": {
          "base_uri": "https://localhost:8080/",
          "height": 569
        },
        "id": "rs75ZtjiPMCx",
        "outputId": "472b94d8-fae7-4402-c88c-e14b51dc8a12"
      },
      "execution_count": 57,
      "outputs": [
        {
          "output_type": "stream",
          "name": "stdout",
          "text": [
            "[[1.40150227]\n",
            " [1.02027244]]\n",
            "y = 1.4015022681811227x + 1.0202724416289024\n"
          ]
        },
        {
          "output_type": "display_data",
          "data": {
            "text/plain": [
              "<Figure size 720x576 with 1 Axes>"
            ],
            "image/png": "[encoded data removed]"
          },
          "metadata": {
            "needs_background": "light"
          }
        }
      ]
    },
    {
      "cell_type": "markdown",
      "source": [
        "##### 1.3.4.2 - Using the Moore-Penrose Inverse (Pseudoinverse)"
      ],
      "metadata": {
        "id": "NY3Pw-lLPwqz"
      }
    },
    {
      "cell_type": "markdown",
      "source": [
        "Using $\\beta = (A^TA)^{-1}A^TY$, we can directly evaluate the pseudoinverse (Moore-Penrose Inverse) $P = (A^TA)^{-1}A^T$ using the pinv function in NumPy and find the least squares regression linear equation, as shown below. The equation for the regression line is written as $Y_e = \\alpha X + \\beta$."
      ],
      "metadata": {
        "id": "GA3eAiEDdRBY"
      }
    },
    {
      "cell_type": "code",
      "source": [
        "pinv = np.linalg.pinv(A)\n",
        "alpha = pinv.dot(y)\n",
        "print(alpha)\n",
        "print('y = {0}x + {1}'.format(alpha[0][0], alpha[1][0]))"
      ],
      "metadata": {
        "colab": {
          "base_uri": "https://localhost:8080/"
        },
        "id": "kPKmfkczPwH-",
        "outputId": "b21278af-3f36-4e92-fdb0-cbe57a4e702d"
      },
      "execution_count": 58,
      "outputs": [
        {
          "output_type": "stream",
          "name": "stdout",
          "text": [
            "[[1.40150227]\n",
            " [1.02027244]]\n",
            "y = 1.4015022681811218x + 1.0202724416289024\n"
          ]
        }
      ]
    },
    {
      "cell_type": "markdown",
      "source": [
        "##### 1.3.4.3 - Using the NumPy Least-Squares Function"
      ],
      "metadata": {
        "id": "Bgk8QisNR_01"
      }
    },
    {
      "cell_type": "markdown",
      "source": [
        "NumPy has a Least Squares function which can directly be used to find the least squares regression linear equation, as shown below."
      ],
      "metadata": {
        "id": "-_Dfw0PHSAOG"
      }
    },
    {
      "cell_type": "code",
      "source": [
        "alpha = np.linalg.lstsq(A, y, rcond=None)[0]\n",
        "print(alpha)\n",
        "print('y = {0}x + {1}'.format(alpha[0][0], alpha[1][0]))"
      ],
      "metadata": {
        "colab": {
          "base_uri": "https://localhost:8080/"
        },
        "id": "N2vnd15sSDyC",
        "outputId": "aedc07ad-03b3-4e84-d6dd-f68a7e19dda0"
      },
      "execution_count": 59,
      "outputs": [
        {
          "output_type": "stream",
          "name": "stdout",
          "text": [
            "[[1.40150227]\n",
            " [1.02027244]]\n",
            "y = 1.4015022681811211x + 1.0202724416289026\n"
          ]
        }
      ]
    },
    {
      "cell_type": "markdown",
      "source": [
        "##### 1.3.4.4 - Using the SciPy Optimize Curve Fit Function"
      ],
      "metadata": {
        "id": "rgSssalISmqB"
      }
    },
    {
      "cell_type": "markdown",
      "source": [
        "The SciPy Optimize Curve Fit function can optimize not only linear equation, but nonlinear equations as well (e.g polynomial equations, exponential equations, logarithmic equations, etc.). The equation for the regression line is written as $Y_e = \\alpha X + \\beta$."
      ],
      "metadata": {
        "id": "1lTmS2XbS2lX"
      }
    },
    {
      "cell_type": "code",
      "source": [
        "# generate x and y\n",
        "x = np.linspace(0, 1, 101)\n",
        "y = 1 + x + x * np.random.random(len(x))\n",
        "\n",
        "def func(x, a, b):\n",
        "    y = a*x + b\n",
        "    return y\n",
        "\n",
        "alpha = optimize.curve_fit(func, xdata = x, ydata = y)[0]\n",
        "print(alpha)\n",
        "print('y = {0}x + {1}'.format(alpha[0], alpha[1]))"
      ],
      "metadata": {
        "colab": {
          "base_uri": "https://localhost:8080/"
        },
        "id": "XudIXJMIS21I",
        "outputId": "f7836615-ebe0-454d-d7eb-18e24863728c"
      },
      "execution_count": 60,
      "outputs": [
        {
          "output_type": "stream",
          "name": "stdout",
          "text": [
            "[1.54760248 0.97702773]\n",
            "y = 1.5476024759558x + 0.9770277285147838\n"
          ]
        }
      ]
    },
    {
      "cell_type": "markdown",
      "source": [
        "##### 1.3.4.5 - Using Pandas"
      ],
      "metadata": {
        "id": "HFOz2ZFjWt9x"
      }
    },
    {
      "cell_type": "markdown",
      "source": [
        "Using pandas, we can create a table of all of the arbitrary data created from the random number generator. To calculate the least squares linear regression equation coefficients $\\alpha$, $\\beta$ via the Ordinary Least Squares (OLS) regression method,\n",
        "- calculate the mean of $A$ and $b$\n",
        "- calculate the covariance of $A$ and $b$\n",
        "- calculate the variance of $A$\n"
      ],
      "metadata": {
        "id": "R7F1s-YaYZjl"
      }
    },
    {
      "cell_type": "markdown",
      "source": [
        "The equation for the regression line is written as $Y_e = \\alpha + \\beta X$."
      ],
      "metadata": {
        "id": "1_KyQIyfggs8"
      }
    },
    {
      "cell_type": "code",
      "source": [
        "# Generate 'random' data\n",
        "np.random.seed(0)\n",
        "A = 2.5 * np.random.randn(100) + 1.5   # Array of 100 values with mean = 1.5, stddev = 2.5\n",
        "res = 0.5 * np.random.randn(100)       # Generate 100 residual terms\n",
        "b = 2 + 0.3 * A + res                  # Actual values of b\n",
        "\n",
        "# Create pandas dataframe to store our X and y values\n",
        "df = pd.DataFrame(\n",
        "    {'A': A,\n",
        "     'b': b}\n",
        ")\n",
        "\n",
        "# Show the first five rows of our dataframe\n",
        "df.head()\n",
        "\n",
        "# Calculate the mean of A and b\n",
        "xmean = np.mean(A)\n",
        "ymean = np.mean(b)\n",
        "\n",
        "# Calculate the terms needed for the numator and denominator of beta\n",
        "df['Abcov'] = (df['A'] - xmean) * (df['b'] - ymean)\n",
        "df['Avar'] = (df['A'] - xmean)**2\n",
        "\n",
        "# Calculate beta and alpha\n",
        "beta = df['Abcov'].sum() / df['Avar'].sum()\n",
        "alpha = ymean - (beta * xmean)\n",
        "print(f'alpha = {alpha}')\n",
        "print(f'beta = {beta}')\n",
        "print('y = {0} + {1}x'.format(alpha, beta))\n",
        "\n",
        "# Calculate ypred\n",
        "ypred = alpha + beta * A\n",
        "\n",
        "# Plot regression against actual data\n",
        "plt.figure(figsize=(12, 6))\n",
        "plt.plot(A, ypred)     # regression line\n",
        "plt.plot(A, b, 'ro')   # scatter plot showing actual data\n",
        "plt.xlabel('A')\n",
        "plt.ylabel('b')\n",
        "\n",
        "plt.show()"
      ],
      "metadata": {
        "colab": {
          "base_uri": "https://localhost:8080/",
          "height": 461
        },
        "id": "vSSX2UbVWtsE",
        "outputId": "409c4413-6d68-475a-aa5b-9ecc068c9c07"
      },
      "execution_count": 56,
      "outputs": [
        {
          "output_type": "stream",
          "name": "stdout",
          "text": [
            "alpha = 2.0031670124623426\n",
            "beta = 0.3229396867092763\n",
            "y = 2.0031670124623426 + 0.3229396867092763x\n"
          ]
        },
        {
          "output_type": "display_data",
          "data": {
            "text/plain": [
              "<Figure size 864x432 with 1 Axes>"
            ],
            "image/png": "[encoded data removed]"
          },
          "metadata": {
            "needs_background": "light"
          }
        }
      ]
    },
    {
      "cell_type": "markdown",
      "source": [
        "##### 1.3.4.6 - Using the Linear Regression Function from SciKitLearn"
      ],
      "metadata": {
        "id": "7yF5iwlIXr3e"
      }
    },
    {
      "cell_type": "markdown",
      "source": [
        "The linear regression function from SciKitLearn can be used to not only create linear regressions with one variable, but also multiple linear regressions with multiple variables."
      ],
      "metadata": {
        "id": "ew3AasuIYa_o"
      }
    },
    {
      "cell_type": "code",
      "source": [
        "# Create random data with numpy:\n",
        "rnstate = np.random.RandomState(1)\n",
        "x = 10 * rnstate.rand(100)\n",
        "y = 5 * x + rnstate.randn(100)\n",
        "\n",
        "# Create a linear regression model based the positioning of the data and Intercept, and predict a Best Fit:\n",
        "model = LinearRegression(fit_intercept=True)\n",
        "model.fit(x[:, np.newaxis], y)\n",
        "xfit = np.linspace(0, 10, 1000)\n",
        "yfit = model.predict(xfit[:, np.newaxis])\n",
        "print('alpha =', model.intercept_)\n",
        "print('beta =', model.coef_[0])\n",
        "print('y = {0} + {1}x'.format(model.intercept_, model.coef_[0]))\n",
        "\n",
        "# Plot the estimated linear regression line with matplotlib:\n",
        "plt.figure(figsize=(12, 6))\n",
        "plt.plot(x, y, 'b.')\n",
        "plt.plot(xfit, yfit, 'r')\n",
        "\n",
        "plt.show()"
      ],
      "metadata": {
        "colab": {
          "base_uri": "https://localhost:8080/",
          "height": 439
        },
        "id": "hyHkm94GXsRS",
        "outputId": "f3257a43-f568-480c-d037-5e5063fc13ff"
      },
      "execution_count": 54,
      "outputs": [
        {
          "output_type": "stream",
          "name": "stdout",
          "text": [
            "alpha = 0.2369572541489049\n",
            "beta = 4.968492508765532\n",
            "y = 0.2369572541489049 + 4.968492508765532x\n"
          ]
        },
        {
          "output_type": "display_data",
          "data": {
            "text/plain": [
              "<Figure size 864x432 with 1 Axes>"
            ],
            "image/png": "[encoded data removed]"
          },
          "metadata": {
            "needs_background": "light"
          }
        }
      ]
    },
    {
      "cell_type": "markdown",
      "source": [
        "### **1.3.5 - References**"
      ],
      "metadata": {
        "id": "zyhPPQUkn2xk"
      }
    },
    {
      "cell_type": "markdown",
      "source": [
        "1. MAT 494 Chapter 1 Lecture 1 Notes\n",
        "2. Steven J. Leon, Linear Algebra with Applications, 9th Edition\n",
        "3. https://pythonnumericalmethods.berkeley.edu/notebooks/chapter16.04-Least-Squares-Regression-in-Python.html\n",
        "4. https://towardsdatascience.com/introduction-to-linear-regression-in-python-c12a072bedf0"
      ],
      "metadata": {
        "id": "Ku1GPUoCn3Ek"
      }
    }
  ]
}