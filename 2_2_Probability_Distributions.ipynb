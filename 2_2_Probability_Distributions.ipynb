{
  "nbformat": 4,
  "nbformat_minor": 0,
  "metadata": {
    "colab": {
      "provenance": [],
      "collapsed_sections": [],
      "authorship_tag": "ABX9TyPNlhxMwdGETQzi1uRjUrBD",
      "include_colab_link": true
    },
    "kernelspec": {
      "name": "python3",
      "display_name": "Python 3"
    },
    "language_info": {
      "name": "python"
    }
  },
  "cells": [
    {
      "cell_type": "markdown",
      "metadata": {
        "id": "view-in-github",
        "colab_type": "text"
      },
      "source": [
        "<a href=\"https://colab.research.google.com/github/ttruong1000/MAT-494-Mathematical-Methods-for-Data-Science/blob/main/2_2_Probability_Distributions.ipynb\" target=\"_parent\"><img src=\"https://colab.research.google.com/assets/colab-badge.svg\" alt=\"Open In Colab\"/></a>"
      ]
    },
    {
      "cell_type": "markdown",
      "source": [
        "# **2.2 - Probability Distributions**"
      ],
      "metadata": {
        "id": "QbK52tMOvlI3"
      }
    },
    {
      "cell_type": "markdown",
      "source": [
        "### **2.2.0 - Python Libraries for Probability Distributions**"
      ],
      "metadata": {
        "id": "xn0SNxKI8vLg"
      }
    },
    {
      "cell_type": "code",
      "source": [
        "import numpy as np\n",
        "import matplotlib.pyplot as plt\n",
        "from scipy import stats"
      ],
      "metadata": {
        "id": "YcsCBueL81Mx"
      },
      "execution_count": null,
      "outputs": []
    },
    {
      "cell_type": "markdown",
      "source": [
        "### **2.2.1 - Axioms of Probability**"
      ],
      "metadata": {
        "id": "n-GiZohLwC3M"
      }
    },
    {
      "cell_type": "markdown",
      "source": [
        "##### Definition 2.2.1.1 - Sample Space"
      ],
      "metadata": {
        "id": "1GfhcB479B-Q"
      }
    },
    {
      "cell_type": "markdown",
      "source": [
        "The sample space of an experiment, denoted by $S$, is the set of all possible outcomes of that experiment."
      ],
      "metadata": {
        "id": "OTXB88FC9Cwc"
      }
    },
    {
      "cell_type": "markdown",
      "source": [
        "##### Definition 2.2.1.2 - Events, Simple and Compound"
      ],
      "metadata": {
        "id": "GX0_ph1i9SJM"
      }
    },
    {
      "cell_type": "markdown",
      "source": [
        "An event is any collection (subset) of outcomes contained in the sample space $S$. An event is simple if it consists of exactly one outocme and compound if it consists of more than one outcome."
      ],
      "metadata": {
        "id": "txJKq_Bv9VVQ"
      }
    },
    {
      "cell_type": "markdown",
      "source": [
        "##### Definition 2.2.1.3 - Probability Distribution"
      ],
      "metadata": {
        "id": "DS-pHpWv9Sb4"
      }
    },
    {
      "cell_type": "markdown",
      "source": [
        "Given an experiment and a sample space $S$, the probability distribution is a function which assigns to each event $A$ a number $P(A)$, the probability of event $A$, which gives a precise measure of the chance that $A$ will occur. Alternatively, a probability distribution is the mathematical function that gives the probabilities of the occurrences of different possible outcomes for an experiment."
      ],
      "metadata": {
        "id": "snNAPCwV9rXc"
      }
    },
    {
      "cell_type": "markdown",
      "source": [
        "##### Definition 2.2.1.4 - Axioms of Probability"
      ],
      "metadata": {
        "id": "SsIiTsIF9rox"
      }
    },
    {
      "cell_type": "markdown",
      "source": [
        "Probability follows the following axioms:\n",
        "- For any event $A$, $0 \\leq P(A) \\leq 1$.\n",
        "- $P(S) = 1$, where $S$ is the sample space.\n",
        "- If $A_1, A_2, A_3, \\ldots$ is an infinite collection of disjoint events, then\n",
        "\\begin{equation*}\n",
        "  P(A_1 \\cup A_2 \\cup A_3 \\cup \\cdots) = \\sum_{i = 1}^\\infty P(A_i)\n",
        "\\end{equation*}\n",
        "- For any event $A$, $P(A) + P(A') = 1$, from which $P(A) = 1 - P(A')$, where $A'$ is the complement of $A$.\n",
        "- When events $A$ and $B$ are mutually exclusive, $P(A \\cup B) = P(A) + P(B)$.\n",
        "- (Principle of Inclusion-Exclusion) For any two events $A$ and $B$,\n",
        "\\begin{equation*}\n",
        "  P(A \\cup B) = P(A) + P(B) - P(A \\cap B)\n",
        "\\end{equation*}"
      ],
      "metadata": {
        "id": "tu0AlljC9sEy"
      }
    },
    {
      "cell_type": "markdown",
      "source": [
        "##### Definition 2.2.1.5 - Equally Likely Outcomes"
      ],
      "metadata": {
        "id": "7CHl47aF_ZaA"
      }
    },
    {
      "cell_type": "markdown",
      "source": [
        "If there are $n$ equally likely outcomes, the probability for each event is $\\frac{1}{n}$. Consider an event $A$, with $N(A)$ denoting the number of outcomes contained in $A$. Then,\n",
        "\\begin{equation*}\n",
        "  P(A) = \\frac{N(A)}{N}\n",
        "\\end{equation*}"
      ],
      "metadata": {
        "id": "Yra9YEB3_Zp7"
      }
    },
    {
      "cell_type": "markdown",
      "source": [
        "### **2.2.2 - Conditional Probability**"
      ],
      "metadata": {
        "id": "mddUC3xYwDHX"
      }
    },
    {
      "cell_type": "markdown",
      "source": [
        "##### Definition 2.2.2.1 - Conditional Probability"
      ],
      "metadata": {
        "id": "ffS6MbdMAU8T"
      }
    },
    {
      "cell_type": "markdown",
      "source": [
        "For any two events $A$ and $B$ with $P(B) > 0$, the conditional probability of $A$ given that $B$ has occurred is defined by\n",
        "\\begin{equation*}\n",
        "  P(A|B) = \\frac{P(A \\cap B)}{P(B)}\n",
        "\\end{equation*}"
      ],
      "metadata": {
        "id": "EKeK3yE9AVOq"
      }
    },
    {
      "cell_type": "markdown",
      "source": [
        "##### Definition 2.2.2.2 - Independence and Dependence for Two Events"
      ],
      "metadata": {
        "id": "cpP0MypqBQEE"
      }
    },
    {
      "cell_type": "markdown",
      "source": [
        "Two events $A$ and $B$ are independent if $P(A|B) = P(A)$ or $P(A \\cap B) = P(A)P(B)$. If this is otherwise, two events $A$ and $B$ are dependent."
      ],
      "metadata": {
        "id": "g6BA2ogwBUdp"
      }
    },
    {
      "cell_type": "markdown",
      "source": [
        "##### Definition 2.2.2.3 - Independence for $n$ Events"
      ],
      "metadata": {
        "id": "Uf6dZ0Q8BoiT"
      }
    },
    {
      "cell_type": "markdown",
      "source": [
        "Events $A_1, A_2, \\ldots, A_n$ are mutually independent if for every $k = 2, 3, \\ldots, n$ and every subset of indices $i_1, i_2, \\ldots, i_k$,\n",
        "\\begin{equation*}\n",
        "  P(A_{i_1} \\cap A_{i_2} \\cap \\cdots \\cap A_{i_k}) = P(A_{i_1})P(A_{i_2}) \\cdots P(A_{i_k})\n",
        "\\end{equation*}"
      ],
      "metadata": {
        "id": "UvU3ZlcUBuvp"
      }
    },
    {
      "cell_type": "markdown",
      "source": [
        "### **2.2.3 - Discrete Random Variables**"
      ],
      "metadata": {
        "id": "qB7iR3mDwDTt"
      }
    },
    {
      "cell_type": "markdown",
      "source": [
        "##### Definition 2.2.3.1 - Random Variables"
      ],
      "metadata": {
        "id": "8UWPJNd6Ei7C"
      }
    },
    {
      "cell_type": "markdown",
      "source": [
        "For a given sample space $S$ of some experiment, a random variable is any rule that associates a number with each outcome in $S$. Mathematically, a random variable is a function whose domain is the sample space and whose range is the set of real numbers."
      ],
      "metadata": {
        "id": "Vij7l4sDGlfc"
      }
    },
    {
      "cell_type": "markdown",
      "source": [
        "##### Definition 2.2.3.2 - Discrete Random Variables"
      ],
      "metadata": {
        "id": "e6ANQUQAEjRC"
      }
    },
    {
      "cell_type": "markdown",
      "source": [
        "A discrete random variable is a random variable whose possible values either constitute a finite set or else can be listed in an infinite sequence. A random variable is continuous if both of the following apply.\n",
        "- Its set of possible values consists of all numbers in a single interval on the number line.\n",
        "- $P(X = c) = 0$ for any possible value of $c$."
      ],
      "metadata": {
        "id": "UhvxS9eEICoU"
      }
    },
    {
      "cell_type": "markdown",
      "source": [
        "##### Definition 2.2.3.3 - Probability Mass Function (PMF)"
      ],
      "metadata": {
        "id": "SUu5wb_QG3vt"
      }
    },
    {
      "cell_type": "markdown",
      "source": [
        "The probability distribution or probability mass function (pmf) of a discrete random variable is defined for every number $x$ by\n",
        "\\begin{equation*}\n",
        "  p(x) = P(X = x) = P(\\text{\\{all $s \\in S$ | $X(s) = X$}\\})\n",
        "\\end{equation*}"
      ],
      "metadata": {
        "id": "ChGdvRjSG39z"
      }
    },
    {
      "cell_type": "markdown",
      "source": [
        "##### Definition 2.2.3.4 - Cumulative Distribution Function (CDF)"
      ],
      "metadata": {
        "id": "cv6g8FsYIu6F"
      }
    },
    {
      "cell_type": "markdown",
      "source": [
        "The cumulative distribution function (CDF) $F(x)$ of a discrete random variable $X$ with PMF $p(x)$ is defined for every number $x$ by\n",
        "\\begin{equation*}\n",
        "  F(x) = P(X \\leq x) = \\sum_{y| y \\leq x}p(y)\n",
        "\\end{equation*}"
      ],
      "metadata": {
        "id": "ibbrIYEVIvS0"
      }
    },
    {
      "cell_type": "markdown",
      "source": [
        "##### Definition 2.2.3.5 - Bernoulli Random Variables, CDF, PDF"
      ],
      "metadata": {
        "id": "H0sRwbuOKB2r"
      }
    },
    {
      "cell_type": "markdown",
      "source": [
        "Any random variables whose only possible values are 0 and 1 are called Bernoulli random variables. Given Bernoulli experiments with outcomes S (success) and F (failure). The binomial random variable $X$ associated with independent Bernoulli experiment consisting of $n$ trials is defined as\n",
        "\\begin{equation*}\n",
        "  X = \\text{ the number of $S$'s among the $n$ trials}\n",
        "\\end{equation*}\n",
        "THe probability of success is $p$ from trial to trial. The PMF of $X$ has the form\n",
        "\\begin{equation*}\n",
        "  b(x; n, p) = \\begin{cases}\n",
        "    \\binom{n}{x}p^x(1-p)^{n - x} & \\text{ $x = 0, 1, 2, 3, \\ldots, n} \\\\\n",
        "    0 & \\text{ otherwise}\n",
        "  \\end{cases}\n",
        "\\end{equation*}\n"
      ],
      "metadata": {
        "id": "_GAbOv7LKCGd"
      }
    },
    {
      "cell_type": "markdown",
      "source": [],
      "metadata": {
        "id": "rOv0CdsCKC5F"
      }
    },
    {
      "cell_type": "markdown",
      "source": [],
      "metadata": {
        "id": "Ko1DA6bpKDE8"
      }
    },
    {
      "cell_type": "markdown",
      "source": [],
      "metadata": {
        "id": "9D2jjcZHKEf0"
      }
    },
    {
      "cell_type": "markdown",
      "source": [],
      "metadata": {
        "id": "teLJWsAzKEvs"
      }
    },
    {
      "cell_type": "markdown",
      "source": [],
      "metadata": {
        "id": "JOuFYm1wKFCb"
      }
    },
    {
      "cell_type": "markdown",
      "source": [],
      "metadata": {
        "id": "OpKBX5WqKFSi"
      }
    },
    {
      "cell_type": "markdown",
      "source": [
        "### **2.2.4 - Continuous Random Variables**"
      ],
      "metadata": {
        "id": "oFUIbQ1DwDjH"
      }
    },
    {
      "cell_type": "markdown",
      "source": [],
      "metadata": {
        "id": "4z-ALUjWFmDj"
      }
    },
    {
      "cell_type": "markdown",
      "source": [],
      "metadata": {
        "id": "H1t7pwwOFmaM"
      }
    },
    {
      "cell_type": "markdown",
      "source": [
        "### **2.2.5 - References**"
      ],
      "metadata": {
        "id": "VLedJZESwDyR"
      }
    },
    {
      "cell_type": "markdown",
      "source": [
        "1. MAT 494 Chapter 2 Lecture Notes"
      ],
      "metadata": {
        "id": "g-8c5o6lFo2V"
      }
    }
  ]
}