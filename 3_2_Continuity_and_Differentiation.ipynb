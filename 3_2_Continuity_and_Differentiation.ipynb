{
  "nbformat": 4,
  "nbformat_minor": 0,
  "metadata": {
    "colab": {
      "provenance": [],
      "authorship_tag": "ABX9TyN1xgdhSUs4znWmZB5nVeWL",
      "include_colab_link": true
    },
    "kernelspec": {
      "name": "python3",
      "display_name": "Python 3"
    },
    "language_info": {
      "name": "python"
    }
  },
  "cells": [
    {
      "cell_type": "markdown",
      "metadata": {
        "id": "view-in-github",
        "colab_type": "text"
      },
      "source": [
        "<a href=\"https://colab.research.google.com/github/ttruong1000/MAT-494-Mathematical-Methods-for-Data-Science/blob/main/3_2_Continuity_and_Differentiation.ipynb\" target=\"_parent\"><img src=\"https://colab.research.google.com/assets/colab-badge.svg\" alt=\"Open In Colab\"/></a>"
      ]
    },
    {
      "cell_type": "markdown",
      "source": [
        "# **3.2 - Continuity and Differentiation**"
      ],
      "metadata": {
        "id": "PEIHzc7__dpx"
      }
    },
    {
      "cell_type": "markdown",
      "source": [
        "### **3.2.0 - Python Libraries for Continuity and Differentiation**"
      ],
      "metadata": {
        "id": "KewcxgXo_d8Q"
      }
    },
    {
      "cell_type": "code",
      "source": [
        "import sympy as sp\n",
        "from sympy import limit, Symbol"
      ],
      "metadata": {
        "id": "B91uLLB_yD8i"
      },
      "execution_count": 2,
      "outputs": []
    },
    {
      "cell_type": "markdown",
      "source": [
        "### **3.2.1 - Limits and Continuity**"
      ],
      "metadata": {
        "id": "B3XqQ_Ch_ePd"
      }
    },
    {
      "cell_type": "markdown",
      "source": [
        "##### Definition 3.2.1.1 - Limits of a Function"
      ],
      "metadata": {
        "id": "aUA4Ou1fyEOx"
      }
    },
    {
      "cell_type": "markdown",
      "source": [
        "Let $f: D \\to \\mathbb{R}$ be a real-valued function on $D \\subseteq \\mathbb{R}^n$. Then, $f$ is said to have a limit $L \\in \\mathbb{R}$ as $\\mathbf{x}$ approaches $\\mathbf{a}$ if for any $\\epsilon > 0$, there exists a $\\delta > 0$ such that $|f(x) - L| < \\epsilon$ for all $x \\in D \\cap B_\\delta(\\mathbf{a}) \\setminus \\{\\mathbf{a}\\}$. This is written as\n",
        "\\begin{equation*}\n",
        "  \\lim_{\\mathbf{x} \\to \\mathbf{a}} f(\\mathbf{x}) = L\n",
        "\\end{equation*}"
      ],
      "metadata": {
        "id": "wyMlF80FyJUR"
      }
    },
    {
      "cell_type": "code",
      "source": [
        "y = sp.Symbol('y')\n",
        "f = sp.sin(2*y)/y\n",
        "l = sp.limit(f,y,0)\n",
        "print(\"The limit evalutates to\", l)"
      ],
      "metadata": {
        "colab": {
          "base_uri": "https://localhost:8080/"
        },
        "id": "dgrPoffXV3wd",
        "outputId": "349b8fcb-5f6d-4cd6-8976-6373f110b013"
      },
      "execution_count": 4,
      "outputs": [
        {
          "output_type": "stream",
          "name": "stdout",
          "text": [
            "The limit evalutates to 2\n"
          ]
        }
      ]
    },
    {
      "cell_type": "markdown",
      "source": [
        "##### Definition 3.2.1.2 - Continuous Functions"
      ],
      "metadata": {
        "id": "r9OmlYz3y64m"
      }
    },
    {
      "cell_type": "markdown",
      "source": [
        "Let $f: D \\to \\mathbb{R}$ be a real-valued function on $D \\subseteq \\mathbb{R}^n$. Then, $f$ is said to be continuous at $\\mathbf{a} \\in D$ if\n",
        "\\begin{equation*}\n",
        "  \\lim_{\\mathbf{x} \\to \\mathbf{a}} f(\\mathbf{x}) = f(\\mathbf{a})\n",
        "\\end{equation*}"
      ],
      "metadata": {
        "id": "n_E8YHKqy7JH"
      }
    },
    {
      "cell_type": "markdown",
      "source": [
        "##### Lemma 3.2.1.3 - Composition of Continuous Functions"
      ],
      "metadata": {
        "id": "ALfXPdcP2shw"
      }
    },
    {
      "cell_type": "markdown",
      "source": [
        "Let $f: D_1 \\to \\mathbb{R}^m$, where $D_1 \\subseteq \\mathbb{R}^d$, and let $g: D_2 \\to \\mathbb{R}^p$, where $D_2\\subseteq \\mathbb{R}^m$. Assume that $f$ is continuous at $\\mathbf{x}_0$ and that $g$ is continuous at $f(\\mathbf{x}_0)$. Then, $g \\circ f$ is continuous at $\\mathbf{x}_0$."
      ],
      "metadata": {
        "id": "9gj9FbgX2t1u"
      }
    },
    {
      "cell_type": "markdown",
      "source": [
        "##### Definition 3.2.1.4 - Extremum"
      ],
      "metadata": {
        "id": "VpHeQvjF2uCX"
      }
    },
    {
      "cell_type": "markdown",
      "source": [
        "Suppose $f: D \\to \\mathbb{R}$ is defined on a set $D \\subseteq \\mathbb{R}^n$. We say that $f$ attains a maximum value $M$ at $\\mathbf{z}^*$ if $f(\\mathbf{z}^*) = M$ and $M \\geq f(x)$ for all $\\mathbf{x} \\in D$. Similarly, we say $f$ attains a minimum value $m$ at $\\mathbf{z}_{*}$ if $f(\\mathbf{z}_{*}) = m$ and $m \\leq f(\\mathbf{x})$ for all $\\mathbf{x} \\in D$."
      ],
      "metadata": {
        "id": "RmmGwU702uQH"
      }
    },
    {
      "cell_type": "markdown",
      "source": [
        "##### Theorem 3.2.1.5 - Extreme Value"
      ],
      "metadata": {
        "id": "f2atBIU22udS"
      }
    },
    {
      "cell_type": "markdown",
      "source": [
        "Let $f: D \\to \\mathbb{R}$ be a real-valued, continuous function on a nonempty, closed, bounded set $D \\subseteq \\mathbb{R}^n$. Then, $f$ attains a maximum and a minimum on $D$."
      ],
      "metadata": {
        "id": "EfUSsAdM2un8"
      }
    },
    {
      "cell_type": "markdown",
      "source": [
        "### **3.2.2 - Differentiation**"
      ],
      "metadata": {
        "id": "JF4OZeNY_zVy"
      }
    },
    {
      "cell_type": "markdown",
      "source": [
        "##### 3.2.2.1 - Single-Variable Calculus"
      ],
      "metadata": {
        "id": "A-mROEyY5Vu7"
      }
    },
    {
      "cell_type": "markdown",
      "source": [
        "##### Definition 3.2.2.1.1 - Derivatives"
      ],
      "metadata": {
        "id": "xXfajJRS5KL9"
      }
    },
    {
      "cell_type": "markdown",
      "source": [
        "Let $f: D \\to \\mathbb{R}$, where $D \\subseteq \\mathbb{R}$ and let $x_0 \\in D$ be an interior point of $D$. The derivative of $f$ at $x_0$ is\n",
        "\\begin{equation*}\n",
        "  f'(x_0) = \\frac{df(x_0)}{dx} = \\lim_{h \\to 0} \\frac{f(x_0 + h) - f(x_0)}{h}\n",
        "\\end{equation*}\n",
        "provided the limit exists.\n",
        "\n"
      ],
      "metadata": {
        "id": "SM6ikshi5KbX"
      }
    },
    {
      "cell_type": "code",
      "source": [
        "x = sp.Symbol('x')\n",
        "f = x**10\n",
        "f.diff(x)"
      ],
      "metadata": {
        "colab": {
          "base_uri": "https://localhost:8080/",
          "height": 39
        },
        "id": "yxOuAQsuWBnR",
        "outputId": "697a7ada-d68f-446e-9339-c3563125b396"
      },
      "execution_count": 8,
      "outputs": [
        {
          "output_type": "execute_result",
          "data": {
            "text/plain": [
              "10*x**9"
            ],
            "text/latex": "$\\displaystyle 10 x^{9}$"
          },
          "metadata": {},
          "execution_count": 8
        }
      ]
    },
    {
      "cell_type": "code",
      "source": [
        "x = sp.Symbol('x')\n",
        "f = sp.exp(x)*sp.cos(x)*sp.sin(x)\n",
        "f.diff(x)"
      ],
      "metadata": {
        "colab": {
          "base_uri": "https://localhost:8080/",
          "height": 39
        },
        "id": "7qJfodw0WdEP",
        "outputId": "b002fe15-aae1-4a36-b74d-b1390e8099ef"
      },
      "execution_count": 9,
      "outputs": [
        {
          "output_type": "execute_result",
          "data": {
            "text/plain": [
              "-exp(x)*sin(x)**2 + exp(x)*sin(x)*cos(x) + exp(x)*cos(x)**2"
            ],
            "text/latex": "$\\displaystyle - e^{x} \\sin^{2}{\\left(x \\right)} + e^{x} \\sin{\\left(x \\right)} \\cos{\\left(x \\right)} + e^{x} \\cos^{2}{\\left(x \\right)}$"
          },
          "metadata": {},
          "execution_count": 9
        }
      ]
    },
    {
      "cell_type": "markdown",
      "source": [
        "##### Proposition 3.2.2.1.2 - Linearity of Differentiation"
      ],
      "metadata": {
        "id": "Ck3ST0Uv5wdj"
      }
    },
    {
      "cell_type": "markdown",
      "source": [
        "Let $f$ and $g$ have derivatives at $x$ and let $\\alpha$ and $\\beta$ be constants. Then,\n",
        "\\begin{equation*}\n",
        "  \\frac{d}{dx}[\\alpha f(x) + \\beta g(x)] = \\alpha f'(x) + \\beta g'(x)\n",
        "\\end{equation*}"
      ],
      "metadata": {
        "id": "2q1bYzC854zx"
      }
    },
    {
      "cell_type": "markdown",
      "source": [
        "##### Lemma 3.2.2.1.3 - Strictly Increasing and Decreasing Functions"
      ],
      "metadata": {
        "id": "xCj0fLti6I2s"
      }
    },
    {
      "cell_type": "markdown",
      "source": [
        "Let $f: D \\to \\mathbb{R}$ with $D \\subseteq \\mathbb{R}$ and let $x_0 \\in D$ be an interior point of $D$ where $f'(x_0)$ exists. If $f'(x_0) > 0$, then there is an open ball $B_{\\delta}(x_0) \\subseteq D$ around $x_0$ such that for each $x$ in $B_{\\delta}(x_0)$,\n",
        "- $f(x) > f(x_0)$ if $x > x_0$\n",
        "- $f(x) < f(x_0)$ if $x < x_0$\n",
        "\n",
        "If $f'(x_0) < 0$, then there is an open ball $B_{\\delta}(x_0) \\subseteq D$ around $x_0$ such that for each $x$ in $B_{\\delta}(x_0)$,\n",
        "- $f(x) < f(x_0)$ if $x > x_0$\n",
        "- $f(x) > f(x_0)$ if $x < x_0$"
      ],
      "metadata": {
        "id": "Vz1uQMOY65Ma"
      }
    },
    {
      "cell_type": "markdown",
      "source": [
        "##### Theorem 3.2.2.1.4 - Rolle's Theorem"
      ],
      "metadata": {
        "id": "CtXO9XfB6JH_"
      }
    },
    {
      "cell_type": "markdown",
      "source": [
        "Let $f: [a, b] \\to \\mathbb{R}$ be a continuous function and assume that its derivative exists on $(a, b)$. If $f(a) = f(b)$, then there is $a < c < b$ such that $f'(c) = 0$."
      ],
      "metadata": {
        "id": "JYl7VmGSCc3S"
      }
    },
    {
      "cell_type": "markdown",
      "source": [
        "##### Theorem 3.2.2.1.5 - Mean Value Theorem\n"
      ],
      "metadata": {
        "id": "Camva1MXCdIz"
      }
    },
    {
      "cell_type": "markdown",
      "source": [
        "Let $f: [a, b] \\to \\mathbb{R}$ be a continuous function and assume that its derivative exists on $(a, b)$. If $f(a) = f(b)$, then there is $a < c < b$ such that $f(b) = f(a) + (b - a)f'(c)$ or, equivalently, $\\frac{f(b) - f(a)}{b - a} = f'(c)$."
      ],
      "metadata": {
        "id": "_v5OHmxMCdYV"
      }
    },
    {
      "cell_type": "markdown",
      "source": [
        "##### 3.2.2.2 - Multivariable Calculus"
      ],
      "metadata": {
        "id": "ixuRWXGZDpyU"
      }
    },
    {
      "cell_type": "markdown",
      "source": [
        "##### Definition 3.2.2.2.1 - Partial Derivatives"
      ],
      "metadata": {
        "id": "FW8FAXsUDxwf"
      }
    },
    {
      "cell_type": "markdown",
      "source": [
        "Let $f: D \\to \\mathbb{R}$, where $D \\subseteq \\mathbb{R}^n$ and let $x_0 \\in D$ be an interior point of $D$. The partial derivative of $f$ at $\\mathbf{x}_0$ with respect to $x_i$ is\n",
        "\\begin{equation*}\n",
        "  \\frac{\\partial f(\\mathbf{x}_0)}{\\partial x_i} = \\lim_{h \\to 0} \\frac{f(\\mathbf{x}_0 + h\\mathbf{e}_i) - f(\\mathbf{x}_0)}{h}\n",
        "\\end{equation*}\n",
        "provided the limit exists. If $\\frac{\\partial f(\\mathbf{x}_0)}{\\partial x_i}$ exists and is continuous in an open ball around $\\mathbf{x}_0$ for all $i$, then we say that $f$ is continuously differentiable at $\\mathbf{x}_0$."
      ],
      "metadata": {
        "id": "4mCjDWZWDyCc"
      }
    },
    {
      "cell_type": "markdown",
      "source": [
        "##### Definition 3.2.2.2.2 - The Jacobian"
      ],
      "metadata": {
        "id": "_zt8tmv2D0lu"
      }
    },
    {
      "cell_type": "markdown",
      "source": [
        "Let $\\mathbf{f} = (f_1, f_2, \\ldots, f_n) : D \\to \\mathbb{R}^n$ where $D \\subseteq \\mathbb{R}^d$ and let $\\mathbf{x}_0 \\in D$ be an interior point of $D$ where $\\frac{\\partial f_j(\\mathbf{x}_0)}{\\partial x_i}$ exists for all $i, j$. The Jacobian of $\\mathbf{f}$ at $\\mathbf{x}_0$ is the $d \\times n$ matrix\n",
        "\\begin{equation*}\n",
        "  \\mathbf{J}_\\mathbf{f}(\\mathbf{x}_0) = \\begin{bmatrix}\n",
        "  \\frac{\\partial f_1(\\mathbf{x}_0)}{\\partial x_1} & \\cdots & \\frac{\\partial f_1(\\mathbf{x}_0)}{\\partial x_d} \\\\\n",
        "  \\vdots & \\ddots & \\vdots \\\\\n",
        "  \\frac{\\partial f_n(\\mathbf{x}_0)}{\\partial x_1} & \\cdots & \\frac{\\partial f_n(\\mathbf{x}_0)}{\\partial x_d} \\\\\n",
        "  \\end{bmatrix}\n",
        "\\end{equation*}\n",
        "For a real-valued function $f: D \\to \\mathbb{R}$, the Jacobian reduces to the row vector\n",
        "\\begin{equation*}\n",
        "  \\mathbf{J}_f(\\mathbf{x}_0) = \\nabla f(\\mathbf{x}_0)^T\n",
        "\\end{equation*}\n",
        "where the vector\n",
        "\\begin{equation*}\n",
        "  f(\\mathbf{x}_0) = \\left(\\frac{\\partial f(\\mathbf{x}_0)}{\\partial x_1}, \\frac{\\partial f(\\mathbf{x}_0)}{\\partial x_2}, \\ldots, \\frac{\\partial f(\\mathbf{x}_0)}{\\partial x_n}\\right)^T\n",
        "\\end{equation*}\n",
        "is the gradient of $f$ at $\\mathbf{x}_0$."
      ],
      "metadata": {
        "id": "l1ubvDS3D00_"
      }
    },
    {
      "cell_type": "markdown",
      "source": [
        "##### Theorem 3.2.2.2.3 - Chain Rule"
      ],
      "metadata": {
        "id": "jaXI16wkD1fP"
      }
    },
    {
      "cell_type": "markdown",
      "source": [
        "Let $\\mathbf{f} : D_1 \\to \\mathbb{R}^m$, where $D_1 \\subseteq \\mathbb{R}^d$, and let $\\mathbb{g}: D_2 \\to \\mathbb{R}^p$, where $D_2 \\subseteq \\mathbb{R}^m$. Assume that $\\mathbb{f}$ is continuously differentiable at $\\mathbf{x}_0$, and interior point of $D_1$, and that $\\mathbb{g}$ is continuously differentiable at $f(\\mathbf{x}_0)$, and interior point of $D_2$. Then,\n",
        "\\begin{equation*}\n",
        "  \\mathbf{J}_{\\mathbf{g} \\circ \\mathbf{f}}(\\mathbf{x}_0) = \\mathbf{J}_\\mathbf{g}(f(\\mathbf{x}_0))\\mathbf{J}_\\mathbf{f}(\\mathbf{x}_0)\n",
        "\\end{equation*}\n",
        "as a product of matrices."
      ],
      "metadata": {
        "id": "aO6YCMw-Hhgw"
      }
    },
    {
      "cell_type": "markdown",
      "source": [
        "##### Definition 3.2.2.2.4 - Directional Derivatives"
      ],
      "metadata": {
        "id": "3E-jAzzUD1uM"
      }
    },
    {
      "cell_type": "markdown",
      "source": [
        "Let $f: D \\to \\mathbb{R}$ where $D \\subseteq \\mathbb{R}^d$, let $x_0 \\in D$ be an interior point of $D$ and let $\\mathbf{v} \\in \\mathbb{R}^d$ be a unit vector. The directional derivative of $f$ at $\\mathbf{x}_0$ in the direction $\\mathbf{v}$ is\n",
        "\\begin{equation*}\n",
        "  \\frac{\\partial f(\\mathbf{x}_0)}{\\partial \\mathbf{v}} = \\lim_{h \\to 0} \\frac{f(\\mathbf{x}_0 + h\\mathbf{v}) - f(\\mathbf{x}_0)}{h}\n",
        "\\end{equation*}\n",
        "provided the limit exists. Note that taking $\\mathbf{v} = \\mathbf{e}_i$ recovers the $i$-th partial derivative\n",
        "\\begin{equation*}\n",
        "  \\frac{\\partial f(\\mathbf{x}_0)}{\\partial \\mathbf{e}_i} = \\lim_{h \\to 0} \\frac{f(\\mathbf{x}_0 + h\\mathbf{e}_i) - f(\\mathbf{x}_0)}{h} = \\frac{\\partial f(\\mathbf{x}_0)}{\\partial \\mathbf{x}_i}\n",
        "\\end{equation*}"
      ],
      "metadata": {
        "id": "HQ-DAGgrIOHj"
      }
    },
    {
      "cell_type": "markdown",
      "source": [
        "##### Theorem 3.2.2.2.5 - Directional Derivatives from the Gradient"
      ],
      "metadata": {
        "id": "If2koBHQIQyd"
      }
    },
    {
      "cell_type": "markdown",
      "source": [
        "Let $f: D \\to \\mathbb{R}$ where $D \\subset \\mathbb{R}^d$. Let $x_0 \\in D$ be an interior point of $D$ and let $\\mathbf{v} \\in \\mathbb{R}^d$ be a unit vector. Assume that $f$ is continuously differentiable at $\\mathbf{x}_0$. Then, the directional derivative of $f$ at $\\mathbf{x}_0$ in the direction $\\mathbf{v}$ is given by\n",
        "\\begin{equation*}\n",
        "  \\frac{\\partial f(\\mathbf{x}_0)}{\\partial \\mathbf{v}} = \\mathbf{J}_f(\\mathbf{x}_0)\\mathbf{v} = \\nabla f(\\mathbf{x}_0)^T\\mathbf{v}\n",
        "\\end{equation*}"
      ],
      "metadata": {
        "id": "viYAjSX3IRDP"
      }
    },
    {
      "cell_type": "markdown",
      "source": [
        "##### Definition 3.2.2.2.6 - Second Partial Derivatives"
      ],
      "metadata": {
        "id": "C4ZoKSnDIRQZ"
      }
    },
    {
      "cell_type": "markdown",
      "source": [
        "Let $f: D \\to \\mathbb{R}$ where $D \\subseteq \\mathbb{R}^d$. Let $\\mathbf{x}_0 \\in D$ be an interior point of $D$. Assume that $f$ is continuously differentiable in an open ball around $\\mathbf{x}_0$. Then, $\\frac{\\partial f(\\mathbf{x})}{\\partial dx_i}$ is itself a function of $\\mathbf{x}$ and its partial derivative with respect to $x_j$, if it exists, is denoted by\n",
        "\\begin{equation*}\n",
        "  \\frac{\\partial^2 f(\\mathbf{x}_0)}{\\partial x_j \\partial x_i} = \\lim_{h \\to 0} \\frac{\\frac{\\partial f(\\mathbf{x}_0 + h\\mathbf{e}_j)}{\\partial x_i} - \\frac{\\partial f(\\mathbf{x}_0)}{\\partial x_i}}{h}\n",
        "\\end{equation*}\n",
        "When $j = i$, we can write the second partial derivative as $\\frac{\\partial^2 f(\\mathbf{x}_0)}{\\partial x_i^2}$. If $\\frac{\\partial^2 f(\\mathbf{x}_0)}{\\partial x_j \\partial x_i}$ and $\\frac{\\partial^2 f(\\mathbf{x}_0)}{\\partial x_i^2}$ exist and are continuous in an open ball around $\\mathbf{x}_0$ for all $i, j$, we say that $f$ is twice continuously differentiable at $\\mathbf{x}_0$."
      ],
      "metadata": {
        "id": "2OsE1bXkIRip"
      }
    },
    {
      "cell_type": "markdown",
      "source": [
        "##### Definition 3.2.2.2.7 - The Hessian"
      ],
      "metadata": {
        "id": "i6xD3ynFIR4C"
      }
    },
    {
      "cell_type": "markdown",
      "source": [
        "The Jacobian of the gradient $\\nabla f$ is called the Hessian and is denoted by\n",
        "\\begin{equation*}\n",
        "  \\mathbf{H}_f(\\mathbf{x}_0) = \\begin{bmatrix}\n",
        "  \\frac{\\partial^2 f_1(\\mathbf{x}_0)}{\\partial x_1^2} & \\cdots & \\frac{\\partial^2 f_1(\\mathbf{x}_0)}{\\partial x_d \\partial x_1} \\\\\n",
        "  \\vdots & \\ddots & \\vdots \\\\\n",
        "  \\frac{\\partial^2 f_n(\\mathbf{x}_0)}{\\partial x_1 \\partial x_d} & \\cdots & \\frac{\\partial^2 f_n(\\mathbf{x}_0)}{\\partial x_d^2} \\\\\n",
        "  \\end{bmatrix}\n",
        "\\end{equation*}\n",
        "When $f$ is twice continuously differentiable at $\\mathbf{x}_0$, its Hessian is a symmetric matrix."
      ],
      "metadata": {
        "id": "7-tQxqq_ISFY"
      }
    },
    {
      "cell_type": "markdown",
      "source": [
        "##### Theorem 3.2.2.2.8 - Symmetry of the Hessian"
      ],
      "metadata": {
        "id": "-eCY624-ISS7"
      }
    },
    {
      "cell_type": "markdown",
      "source": [
        "Let $f: D \\to \\mathbb{R}$ where $D \\subseteq \\mathbb{R}^d$. Let $\\mathbf{x}_0 \\in D$ be an interior point of $D$. Assume that $f$ is twice continuously differentiable at $\\mathbf{x}_0$. Then, for all $i \\neq j$,\n",
        "\\begin{equation*}\n",
        "  \\frac{\\partial^2 f(\\mathbf{x}_0)}{\\partial x_j \\partial x_i} = \\frac{\\partial^2 f(\\mathbf{x}_0)}{\\partial x_i \\partial x_j}\n",
        "\\end{equation*}"
      ],
      "metadata": {
        "id": "YkyoqoI0ISiI"
      }
    },
    {
      "cell_type": "markdown",
      "source": [
        "### **3.2.3 - Taylor's Theorem**"
      ],
      "metadata": {
        "id": "qJoBr9hiwFGx"
      }
    },
    {
      "cell_type": "markdown",
      "source": [
        "##### Theorem 3.2.3.1 - Taylor's Theorem"
      ],
      "metadata": {
        "id": "uI80ASrbD-2b"
      }
    },
    {
      "cell_type": "markdown",
      "source": [
        "Let $f: D \\to \\mathbb{R}$ where $D \\subseteq \\mathbb{R}$. Suppose $f$ has a $m$ times continuous derivative on $[a, b]$. Then,\n",
        "\\begin{equation*}\n",
        "  f(b) = f(a) + (b - a)f'(a) + \\frac{1}{2}(b - a)^2f''(a) + \\cdots + \\frac{(b - a)^{m - 1}}{(m - 1)!}f^{(m - 1)}(a) + R_m\n",
        "\\end{equation*}\n",
        "where $R_m = \\frac{(b - a)^m}{m!}f^{(m)}(a + \\theta(b - a))$ for some $0 < \\theta < 1$. For $m = 2$, we have\n",
        "\\begin{equation*}\n",
        "  f(b) = f(a) + (b - a)f'(a) + \\frac{1}{2}(b - a)^2f''(\\zeta)\n",
        "\\end{equation*}\n",
        "for some $a < \\zeta < b$."
      ],
      "metadata": {
        "id": "XzSeDricD_Ev"
      }
    },
    {
      "cell_type": "markdown",
      "source": [
        "##### Theorem 3.2.3.2 - Multivariate Mean Value Theorem"
      ],
      "metadata": {
        "id": "DWvdOongD_Pz"
      }
    },
    {
      "cell_type": "markdown",
      "source": [
        "Let $f: D \\to \\mathbb{R}$, where $D \\subseteq \\mathbb{R}^n$. Let $\\mathbf{x}_0 \\in D$ and $\\delta > 0$ be such that $B_\\delta(\\mathbf{x}_0) \\subseteq D$. If $f$ is continuously dfferentiable on $B_\\delta(\\mathbf{x}_0)$, then, for any $x \\in B_\\delta(\\mathbf{x}_0)$,\n",
        "\\begin{equation*}\n",
        "  f(\\mathbf{x}) = f(\\mathbf{x}_0) + \\nabla f(\\mathbf{x} + \\zeta \\mathbf{p})^T \\mathbf{p}\n",
        "\\end{equation*}\n",
        "for some $\\zeta \\in (0, 1)$, where $\\mathbf{p} = \\mathbf{x} - \\mathbf{x}_0$."
      ],
      "metadata": {
        "id": "2nOUPWqUD_aW"
      }
    },
    {
      "cell_type": "markdown",
      "source": [
        "##### Definition 3.2.3.3 - Multivariate Taylor's Theorem"
      ],
      "metadata": {
        "id": "F4avA61pD_lP"
      }
    },
    {
      "cell_type": "markdown",
      "source": [
        "Let $f: D \\to \\mathbb{R}$ where $D \\subseteq \\mathbb{R}^d$. Let $\\mathbf{x}_0 \\in D$ and $\\delta > 0$ be such that $B_\\delta(\\mathbf{x}_0) \\subseteq D$. If $f$ is three times continuously differentiable on $B_\\delta(\\mathbf{x}_0)$, then, for any $\\mathbf{x} \\in B_\\delta(\\mathbf{x}_0)$,\n",
        "\\begin{equation*}\n",
        "  f(\\mathbf{x}) = f(\\mathbf{x}_0) + \\nabla f(\\mathbf{x}_0)^T\\mathbf{p} + \\frac{1}{2}\\mathbf{p}^T\\mathbf{H}_f(\\mathbf{x}_0)\\mathbf{p} + O(||\\mathbf{p}||^3)\n",
        "\\end{equation*}\n",
        "where $\\mathbf{p} = \\mathbf{x} - \\mathbf{x}_0$. If $f$ is twice continuously differentiable on $B_\\delta(\\mathbf{x}_0)$, then, for any $\\mathbf{x} \\in B_\\delta(\\mathbf{x}_0)$,\n",
        "\\begin{equation*}\n",
        "  f(\\mathbf{x}) = f(\\mathbf{x}_0) + \\nabla f(\\mathbf{x}_0)^T\\mathbf{p} + \\frac{1}{2}\\mathbf{p}^T\\mathbf{H}_f(\\mathbf{x}_0 + \\zeta\\mathbf{p})\\mathbf{p}\n",
        "\\end{equation*}\n",
        "for some $\\zeta \\in (0, 1)$, where $\\mathbf{p} = \\mathbf{x} - \\mathbf{x}_0$."
      ],
      "metadata": {
        "id": "TU3kazROD_0g"
      }
    },
    {
      "cell_type": "markdown",
      "source": [
        "### **3.2.4 - References**"
      ],
      "metadata": {
        "id": "1oVgRyr6wSMT"
      }
    },
    {
      "cell_type": "markdown",
      "source": [
        "1. MAT 494 Chapter 3 Notes"
      ],
      "metadata": {
        "id": "kXKKypSDEALQ"
      }
    }
  ]
}